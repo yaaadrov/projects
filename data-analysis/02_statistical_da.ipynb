{
 "cells": [
  {
   "cell_type": "markdown",
   "id": "4eceebdb",
   "metadata": {},
   "source": [
    "# Проект: Статистический анализ данных"
   ]
  },
  {
   "cell_type": "markdown",
   "id": "c7667333",
   "metadata": {},
   "source": [
    "#### Оглавление\n",
    "[1. Загрузка данных](#1)  \n",
    "[2. Предобработка данных](#2)  \n",
    "[3. Исследовательский анализ данных](#3)  \n",
    "[4. Объединение данных](#4)  \n",
    "[5. Подсчет выручки](#5)  \n",
    "[6. Проверка гипотез](#6)  \n",
    "&nbsp;&nbsp;&nbsp;&nbsp;&nbsp;&nbsp;[6.1. Равенство двух средних](#6.1)  \n",
    "&nbsp;&nbsp;&nbsp;&nbsp;&nbsp;&nbsp;[6.2. Равенство среднего числу](#6.2)  \n",
    "&nbsp;&nbsp;&nbsp;&nbsp;&nbsp;&nbsp;[6.3. Гипотеза о выручке](#6.3)  \n",
    "&nbsp;&nbsp;&nbsp;&nbsp;&nbsp;&nbsp;[6.4. Ситауация](#6.4)  \n",
    "&nbsp;&nbsp;&nbsp;&nbsp;&nbsp;&nbsp;[6.5. Общие выводы](#6.5)  \n",
    "[7. Распределения](#7)  \n",
    "&nbsp;&nbsp;&nbsp;&nbsp;&nbsp;&nbsp;[7.1. Минимальное количество промокодов](#7.1)  \n",
    "&nbsp;&nbsp;&nbsp;&nbsp;&nbsp;&nbsp;[7.2. Вероятность открытия уведомлений](#7.2)  \n",
    "[8. Выводы](#8)  "
   ]
  },
  {
   "cell_type": "markdown",
   "id": "0bd119e1",
   "metadata": {},
   "source": [
    "В проекте используются данные сервиса аренды самокатов GoFast: данные содержат информацию о некоторых пользователях из нескольких городов, а также об их поездках, всего — 3 датасета\n",
    "\n",
    "Сервисом GoFast можно пользоваться:\n",
    "1. Без подписки:\n",
    "    * абонентская плата отсутствует;\n",
    "    * стоимость одной минуты поездки — 8 рублей;\n",
    "    * стоимость старта — 50 рублей\n",
    "2. С подпиской Ultra:\n",
    "    * абонентская плата — 199 руб / месяц;\n",
    "    * стоимость одной минуты поездки — 6 рублей;\n",
    "    * стоимость старта — бесплатно.\n",
    "\n",
    "**Описание данных**\n",
    "\n",
    "1. Пользователи `users`:\n",
    "\n",
    "| Название столбца | Описание данных |\n",
    "|------------------|-----------------|\n",
    "|`user_id` | уникальный идентификатор пользователя |\n",
    "|`name` | имя пользователя\n",
    "|`age` | возраст\n",
    "|`city` | город\n",
    "|`subscription_type` | тип подписки (free, ultra)\n",
    "\n",
    "\n",
    "2. Поездки `rides`:\n",
    "\n",
    "| Название столбца | Описание данных |\n",
    "|------------------|-----------------|\n",
    "|`user_id` | уникальный идентификатор пользователя |\n",
    "|`distance` | расстояние в текущей сессии (м)\n",
    "|`duration` | продолжительность сессии (мин)\n",
    "|`date` | дата совершения поездки\n",
    "\n",
    "\n",
    "3. Подписки `subsc`:\n",
    "\n",
    "| Название столбца | Описание данных |\n",
    "|------------------|-----------------|\n",
    "|`subscription_type` | тип подписки |\n",
    "|`minute_price` | стоимость одной минуты поездки по данной подписке\n",
    "|`start_ride_price` | стоимость начала поездки\n",
    "|`subscription_fee` | стоимость ежемесячного платежа"
   ]
  },
  {
   "cell_type": "markdown",
   "id": "7a083576",
   "metadata": {},
   "source": [
    "## 1. Загрузка данных\n",
    "<a class=\"anchor\" id=\"1\"></a>"
   ]
  },
  {
   "cell_type": "code",
   "execution_count": 1,
   "id": "815560f4",
   "metadata": {},
   "outputs": [],
   "source": [
    "import numpy as np\n",
    "import scipy.stats as st\n",
    "import pandas as pd\n",
    "pd.set_option('display.max_columns', 50)\n",
    "\n",
    "import matplotlib.pyplot as plt\n",
    "plt.style.use('https://drive.google.com/uc?id=1DCSnbxTAUIHzGN7XAy_yS7bTOK5Uc2FX&export=download')\n",
    "%config InlineBackend.figure_format = 'retina'"
   ]
  },
  {
   "cell_type": "markdown",
   "id": "7ee5ebdf",
   "metadata": {},
   "source": [
    "Получим необходимые наборы данных и сохраним их как `users`, `rides` и `subscr`"
   ]
  },
  {
   "cell_type": "code",
   "execution_count": 2,
   "id": "cb6d50f5",
   "metadata": {},
   "outputs": [],
   "source": [
    "users = pd.read_csv('https://code.s3.yandex.net/datasets/users_go.csv')\n",
    "rides = pd.read_csv('https://code.s3.yandex.net/datasets/rides_go.csv')\n",
    "subsc = pd.read_csv('https://code.s3.yandex.net/datasets/subscriptions_go.csv')"
   ]
  },
  {
   "cell_type": "code",
   "execution_count": 3,
   "id": "574068c5",
   "metadata": {},
   "outputs": [],
   "source": [
    "def get_inf(df):\n",
    "    '''\n",
    "    Принимает датафрейм и возвращает\n",
    "    - первые 5 строк\n",
    "    - основную информацию о датасете\n",
    "    - описательные статистики\n",
    "    - число пропусков по столбцам\n",
    "    '''\n",
    "    display(df.head())\n",
    "    display(df.info())\n",
    "    display(df.describe())\n",
    "    print(f'Число пропусков: \\n{df.isna().sum()}\\n')"
   ]
  },
  {
   "cell_type": "code",
   "execution_count": 4,
   "id": "e617e536",
   "metadata": {},
   "outputs": [
    {
     "data": {
      "text/html": [
       "<div>\n",
       "<style scoped>\n",
       "    .dataframe tbody tr th:only-of-type {\n",
       "        vertical-align: middle;\n",
       "    }\n",
       "\n",
       "    .dataframe tbody tr th {\n",
       "        vertical-align: top;\n",
       "    }\n",
       "\n",
       "    .dataframe thead th {\n",
       "        text-align: right;\n",
       "    }\n",
       "</style>\n",
       "<table border=\"1\" class=\"dataframe\">\n",
       "  <thead>\n",
       "    <tr style=\"text-align: right;\">\n",
       "      <th></th>\n",
       "      <th>user_id</th>\n",
       "      <th>name</th>\n",
       "      <th>age</th>\n",
       "      <th>city</th>\n",
       "      <th>subscription_type</th>\n",
       "    </tr>\n",
       "  </thead>\n",
       "  <tbody>\n",
       "    <tr>\n",
       "      <th>0</th>\n",
       "      <td>1</td>\n",
       "      <td>Кира</td>\n",
       "      <td>22</td>\n",
       "      <td>Тюмень</td>\n",
       "      <td>ultra</td>\n",
       "    </tr>\n",
       "    <tr>\n",
       "      <th>1</th>\n",
       "      <td>2</td>\n",
       "      <td>Станислав</td>\n",
       "      <td>31</td>\n",
       "      <td>Омск</td>\n",
       "      <td>ultra</td>\n",
       "    </tr>\n",
       "    <tr>\n",
       "      <th>2</th>\n",
       "      <td>3</td>\n",
       "      <td>Алексей</td>\n",
       "      <td>20</td>\n",
       "      <td>Москва</td>\n",
       "      <td>ultra</td>\n",
       "    </tr>\n",
       "    <tr>\n",
       "      <th>3</th>\n",
       "      <td>4</td>\n",
       "      <td>Константин</td>\n",
       "      <td>26</td>\n",
       "      <td>Ростов-на-Дону</td>\n",
       "      <td>ultra</td>\n",
       "    </tr>\n",
       "    <tr>\n",
       "      <th>4</th>\n",
       "      <td>5</td>\n",
       "      <td>Адель</td>\n",
       "      <td>28</td>\n",
       "      <td>Омск</td>\n",
       "      <td>ultra</td>\n",
       "    </tr>\n",
       "  </tbody>\n",
       "</table>\n",
       "</div>"
      ],
      "text/plain": [
       "   user_id        name  age            city subscription_type\n",
       "0        1        Кира   22          Тюмень             ultra\n",
       "1        2   Станислав   31            Омск             ultra\n",
       "2        3     Алексей   20          Москва             ultra\n",
       "3        4  Константин   26  Ростов-на-Дону             ultra\n",
       "4        5       Адель   28            Омск             ultra"
      ]
     },
     "metadata": {},
     "output_type": "display_data"
    },
    {
     "name": "stdout",
     "output_type": "stream",
     "text": [
      "<class 'pandas.core.frame.DataFrame'>\n",
      "RangeIndex: 1565 entries, 0 to 1564\n",
      "Data columns (total 5 columns):\n",
      " #   Column             Non-Null Count  Dtype \n",
      "---  ------             --------------  ----- \n",
      " 0   user_id            1565 non-null   int64 \n",
      " 1   name               1565 non-null   object\n",
      " 2   age                1565 non-null   int64 \n",
      " 3   city               1565 non-null   object\n",
      " 4   subscription_type  1565 non-null   object\n",
      "dtypes: int64(2), object(3)\n",
      "memory usage: 61.3+ KB\n"
     ]
    },
    {
     "data": {
      "text/plain": [
       "None"
      ]
     },
     "metadata": {},
     "output_type": "display_data"
    },
    {
     "data": {
      "text/html": [
       "<div>\n",
       "<style scoped>\n",
       "    .dataframe tbody tr th:only-of-type {\n",
       "        vertical-align: middle;\n",
       "    }\n",
       "\n",
       "    .dataframe tbody tr th {\n",
       "        vertical-align: top;\n",
       "    }\n",
       "\n",
       "    .dataframe thead th {\n",
       "        text-align: right;\n",
       "    }\n",
       "</style>\n",
       "<table border=\"1\" class=\"dataframe\">\n",
       "  <thead>\n",
       "    <tr style=\"text-align: right;\">\n",
       "      <th></th>\n",
       "      <th>user_id</th>\n",
       "      <th>age</th>\n",
       "    </tr>\n",
       "  </thead>\n",
       "  <tbody>\n",
       "    <tr>\n",
       "      <th>count</th>\n",
       "      <td>1565.000000</td>\n",
       "      <td>1565.000000</td>\n",
       "    </tr>\n",
       "    <tr>\n",
       "      <th>mean</th>\n",
       "      <td>762.633866</td>\n",
       "      <td>24.922045</td>\n",
       "    </tr>\n",
       "    <tr>\n",
       "      <th>std</th>\n",
       "      <td>443.260155</td>\n",
       "      <td>4.553496</td>\n",
       "    </tr>\n",
       "    <tr>\n",
       "      <th>min</th>\n",
       "      <td>1.000000</td>\n",
       "      <td>12.000000</td>\n",
       "    </tr>\n",
       "    <tr>\n",
       "      <th>25%</th>\n",
       "      <td>378.000000</td>\n",
       "      <td>22.000000</td>\n",
       "    </tr>\n",
       "    <tr>\n",
       "      <th>50%</th>\n",
       "      <td>762.000000</td>\n",
       "      <td>25.000000</td>\n",
       "    </tr>\n",
       "    <tr>\n",
       "      <th>75%</th>\n",
       "      <td>1146.000000</td>\n",
       "      <td>28.000000</td>\n",
       "    </tr>\n",
       "    <tr>\n",
       "      <th>max</th>\n",
       "      <td>1534.000000</td>\n",
       "      <td>43.000000</td>\n",
       "    </tr>\n",
       "  </tbody>\n",
       "</table>\n",
       "</div>"
      ],
      "text/plain": [
       "           user_id          age\n",
       "count  1565.000000  1565.000000\n",
       "mean    762.633866    24.922045\n",
       "std     443.260155     4.553496\n",
       "min       1.000000    12.000000\n",
       "25%     378.000000    22.000000\n",
       "50%     762.000000    25.000000\n",
       "75%    1146.000000    28.000000\n",
       "max    1534.000000    43.000000"
      ]
     },
     "metadata": {},
     "output_type": "display_data"
    },
    {
     "name": "stdout",
     "output_type": "stream",
     "text": [
      "Число пропусков: \n",
      "user_id              0\n",
      "name                 0\n",
      "age                  0\n",
      "city                 0\n",
      "subscription_type    0\n",
      "dtype: int64\n",
      "\n"
     ]
    }
   ],
   "source": [
    "# Информация о пользователях\n",
    "get_inf(users)"
   ]
  },
  {
   "cell_type": "code",
   "execution_count": 5,
   "id": "0e2e8b1f",
   "metadata": {},
   "outputs": [
    {
     "data": {
      "text/html": [
       "<div>\n",
       "<style scoped>\n",
       "    .dataframe tbody tr th:only-of-type {\n",
       "        vertical-align: middle;\n",
       "    }\n",
       "\n",
       "    .dataframe tbody tr th {\n",
       "        vertical-align: top;\n",
       "    }\n",
       "\n",
       "    .dataframe thead th {\n",
       "        text-align: right;\n",
       "    }\n",
       "</style>\n",
       "<table border=\"1\" class=\"dataframe\">\n",
       "  <thead>\n",
       "    <tr style=\"text-align: right;\">\n",
       "      <th></th>\n",
       "      <th>user_id</th>\n",
       "      <th>distance</th>\n",
       "      <th>duration</th>\n",
       "      <th>date</th>\n",
       "    </tr>\n",
       "  </thead>\n",
       "  <tbody>\n",
       "    <tr>\n",
       "      <th>0</th>\n",
       "      <td>1</td>\n",
       "      <td>4409.919140</td>\n",
       "      <td>25.599769</td>\n",
       "      <td>2021-01-01</td>\n",
       "    </tr>\n",
       "    <tr>\n",
       "      <th>1</th>\n",
       "      <td>1</td>\n",
       "      <td>2617.592153</td>\n",
       "      <td>15.816871</td>\n",
       "      <td>2021-01-18</td>\n",
       "    </tr>\n",
       "    <tr>\n",
       "      <th>2</th>\n",
       "      <td>1</td>\n",
       "      <td>754.159807</td>\n",
       "      <td>6.232113</td>\n",
       "      <td>2021-04-20</td>\n",
       "    </tr>\n",
       "    <tr>\n",
       "      <th>3</th>\n",
       "      <td>1</td>\n",
       "      <td>2694.783254</td>\n",
       "      <td>18.511000</td>\n",
       "      <td>2021-08-11</td>\n",
       "    </tr>\n",
       "    <tr>\n",
       "      <th>4</th>\n",
       "      <td>1</td>\n",
       "      <td>4028.687306</td>\n",
       "      <td>26.265803</td>\n",
       "      <td>2021-08-28</td>\n",
       "    </tr>\n",
       "  </tbody>\n",
       "</table>\n",
       "</div>"
      ],
      "text/plain": [
       "   user_id     distance   duration        date\n",
       "0        1  4409.919140  25.599769  2021-01-01\n",
       "1        1  2617.592153  15.816871  2021-01-18\n",
       "2        1   754.159807   6.232113  2021-04-20\n",
       "3        1  2694.783254  18.511000  2021-08-11\n",
       "4        1  4028.687306  26.265803  2021-08-28"
      ]
     },
     "metadata": {},
     "output_type": "display_data"
    },
    {
     "name": "stdout",
     "output_type": "stream",
     "text": [
      "<class 'pandas.core.frame.DataFrame'>\n",
      "RangeIndex: 18068 entries, 0 to 18067\n",
      "Data columns (total 4 columns):\n",
      " #   Column    Non-Null Count  Dtype  \n",
      "---  ------    --------------  -----  \n",
      " 0   user_id   18068 non-null  int64  \n",
      " 1   distance  18068 non-null  float64\n",
      " 2   duration  18068 non-null  float64\n",
      " 3   date      18068 non-null  object \n",
      "dtypes: float64(2), int64(1), object(1)\n",
      "memory usage: 564.8+ KB\n"
     ]
    },
    {
     "data": {
      "text/plain": [
       "None"
      ]
     },
     "metadata": {},
     "output_type": "display_data"
    },
    {
     "data": {
      "text/html": [
       "<div>\n",
       "<style scoped>\n",
       "    .dataframe tbody tr th:only-of-type {\n",
       "        vertical-align: middle;\n",
       "    }\n",
       "\n",
       "    .dataframe tbody tr th {\n",
       "        vertical-align: top;\n",
       "    }\n",
       "\n",
       "    .dataframe thead th {\n",
       "        text-align: right;\n",
       "    }\n",
       "</style>\n",
       "<table border=\"1\" class=\"dataframe\">\n",
       "  <thead>\n",
       "    <tr style=\"text-align: right;\">\n",
       "      <th></th>\n",
       "      <th>user_id</th>\n",
       "      <th>distance</th>\n",
       "      <th>duration</th>\n",
       "    </tr>\n",
       "  </thead>\n",
       "  <tbody>\n",
       "    <tr>\n",
       "      <th>count</th>\n",
       "      <td>18068.000000</td>\n",
       "      <td>18068.000000</td>\n",
       "      <td>18068.000000</td>\n",
       "    </tr>\n",
       "    <tr>\n",
       "      <th>mean</th>\n",
       "      <td>842.869936</td>\n",
       "      <td>3070.659976</td>\n",
       "      <td>17.805011</td>\n",
       "    </tr>\n",
       "    <tr>\n",
       "      <th>std</th>\n",
       "      <td>434.734317</td>\n",
       "      <td>1116.831209</td>\n",
       "      <td>6.091051</td>\n",
       "    </tr>\n",
       "    <tr>\n",
       "      <th>min</th>\n",
       "      <td>1.000000</td>\n",
       "      <td>0.855683</td>\n",
       "      <td>0.500000</td>\n",
       "    </tr>\n",
       "    <tr>\n",
       "      <th>25%</th>\n",
       "      <td>487.000000</td>\n",
       "      <td>2543.226360</td>\n",
       "      <td>13.597563</td>\n",
       "    </tr>\n",
       "    <tr>\n",
       "      <th>50%</th>\n",
       "      <td>889.000000</td>\n",
       "      <td>3133.609994</td>\n",
       "      <td>17.678395</td>\n",
       "    </tr>\n",
       "    <tr>\n",
       "      <th>75%</th>\n",
       "      <td>1213.250000</td>\n",
       "      <td>3776.222735</td>\n",
       "      <td>21.724800</td>\n",
       "    </tr>\n",
       "    <tr>\n",
       "      <th>max</th>\n",
       "      <td>1534.000000</td>\n",
       "      <td>7211.007745</td>\n",
       "      <td>40.823963</td>\n",
       "    </tr>\n",
       "  </tbody>\n",
       "</table>\n",
       "</div>"
      ],
      "text/plain": [
       "            user_id      distance      duration\n",
       "count  18068.000000  18068.000000  18068.000000\n",
       "mean     842.869936   3070.659976     17.805011\n",
       "std      434.734317   1116.831209      6.091051\n",
       "min        1.000000      0.855683      0.500000\n",
       "25%      487.000000   2543.226360     13.597563\n",
       "50%      889.000000   3133.609994     17.678395\n",
       "75%     1213.250000   3776.222735     21.724800\n",
       "max     1534.000000   7211.007745     40.823963"
      ]
     },
     "metadata": {},
     "output_type": "display_data"
    },
    {
     "name": "stdout",
     "output_type": "stream",
     "text": [
      "Число пропусков: \n",
      "user_id     0\n",
      "distance    0\n",
      "duration    0\n",
      "date        0\n",
      "dtype: int64\n",
      "\n"
     ]
    }
   ],
   "source": [
    "# Информация о поездках\n",
    "get_inf(rides)"
   ]
  },
  {
   "cell_type": "code",
   "execution_count": 6,
   "id": "6669dcd2",
   "metadata": {},
   "outputs": [
    {
     "data": {
      "text/html": [
       "<div>\n",
       "<style scoped>\n",
       "    .dataframe tbody tr th:only-of-type {\n",
       "        vertical-align: middle;\n",
       "    }\n",
       "\n",
       "    .dataframe tbody tr th {\n",
       "        vertical-align: top;\n",
       "    }\n",
       "\n",
       "    .dataframe thead th {\n",
       "        text-align: right;\n",
       "    }\n",
       "</style>\n",
       "<table border=\"1\" class=\"dataframe\">\n",
       "  <thead>\n",
       "    <tr style=\"text-align: right;\">\n",
       "      <th></th>\n",
       "      <th>subscription_type</th>\n",
       "      <th>minute_price</th>\n",
       "      <th>start_ride_price</th>\n",
       "      <th>subscription_fee</th>\n",
       "    </tr>\n",
       "  </thead>\n",
       "  <tbody>\n",
       "    <tr>\n",
       "      <th>0</th>\n",
       "      <td>free</td>\n",
       "      <td>8</td>\n",
       "      <td>50</td>\n",
       "      <td>0</td>\n",
       "    </tr>\n",
       "    <tr>\n",
       "      <th>1</th>\n",
       "      <td>ultra</td>\n",
       "      <td>6</td>\n",
       "      <td>0</td>\n",
       "      <td>199</td>\n",
       "    </tr>\n",
       "  </tbody>\n",
       "</table>\n",
       "</div>"
      ],
      "text/plain": [
       "  subscription_type  minute_price  start_ride_price  subscription_fee\n",
       "0              free             8                50                 0\n",
       "1             ultra             6                 0               199"
      ]
     },
     "metadata": {},
     "output_type": "display_data"
    },
    {
     "name": "stdout",
     "output_type": "stream",
     "text": [
      "<class 'pandas.core.frame.DataFrame'>\n",
      "RangeIndex: 2 entries, 0 to 1\n",
      "Data columns (total 4 columns):\n",
      " #   Column             Non-Null Count  Dtype \n",
      "---  ------             --------------  ----- \n",
      " 0   subscription_type  2 non-null      object\n",
      " 1   minute_price       2 non-null      int64 \n",
      " 2   start_ride_price   2 non-null      int64 \n",
      " 3   subscription_fee   2 non-null      int64 \n",
      "dtypes: int64(3), object(1)\n",
      "memory usage: 192.0+ bytes\n"
     ]
    },
    {
     "data": {
      "text/plain": [
       "None"
      ]
     },
     "metadata": {},
     "output_type": "display_data"
    },
    {
     "data": {
      "text/html": [
       "<div>\n",
       "<style scoped>\n",
       "    .dataframe tbody tr th:only-of-type {\n",
       "        vertical-align: middle;\n",
       "    }\n",
       "\n",
       "    .dataframe tbody tr th {\n",
       "        vertical-align: top;\n",
       "    }\n",
       "\n",
       "    .dataframe thead th {\n",
       "        text-align: right;\n",
       "    }\n",
       "</style>\n",
       "<table border=\"1\" class=\"dataframe\">\n",
       "  <thead>\n",
       "    <tr style=\"text-align: right;\">\n",
       "      <th></th>\n",
       "      <th>minute_price</th>\n",
       "      <th>start_ride_price</th>\n",
       "      <th>subscription_fee</th>\n",
       "    </tr>\n",
       "  </thead>\n",
       "  <tbody>\n",
       "    <tr>\n",
       "      <th>count</th>\n",
       "      <td>2.000000</td>\n",
       "      <td>2.000000</td>\n",
       "      <td>2.000000</td>\n",
       "    </tr>\n",
       "    <tr>\n",
       "      <th>mean</th>\n",
       "      <td>7.000000</td>\n",
       "      <td>25.000000</td>\n",
       "      <td>99.500000</td>\n",
       "    </tr>\n",
       "    <tr>\n",
       "      <th>std</th>\n",
       "      <td>1.414214</td>\n",
       "      <td>35.355339</td>\n",
       "      <td>140.714249</td>\n",
       "    </tr>\n",
       "    <tr>\n",
       "      <th>min</th>\n",
       "      <td>6.000000</td>\n",
       "      <td>0.000000</td>\n",
       "      <td>0.000000</td>\n",
       "    </tr>\n",
       "    <tr>\n",
       "      <th>25%</th>\n",
       "      <td>6.500000</td>\n",
       "      <td>12.500000</td>\n",
       "      <td>49.750000</td>\n",
       "    </tr>\n",
       "    <tr>\n",
       "      <th>50%</th>\n",
       "      <td>7.000000</td>\n",
       "      <td>25.000000</td>\n",
       "      <td>99.500000</td>\n",
       "    </tr>\n",
       "    <tr>\n",
       "      <th>75%</th>\n",
       "      <td>7.500000</td>\n",
       "      <td>37.500000</td>\n",
       "      <td>149.250000</td>\n",
       "    </tr>\n",
       "    <tr>\n",
       "      <th>max</th>\n",
       "      <td>8.000000</td>\n",
       "      <td>50.000000</td>\n",
       "      <td>199.000000</td>\n",
       "    </tr>\n",
       "  </tbody>\n",
       "</table>\n",
       "</div>"
      ],
      "text/plain": [
       "       minute_price  start_ride_price  subscription_fee\n",
       "count      2.000000          2.000000          2.000000\n",
       "mean       7.000000         25.000000         99.500000\n",
       "std        1.414214         35.355339        140.714249\n",
       "min        6.000000          0.000000          0.000000\n",
       "25%        6.500000         12.500000         49.750000\n",
       "50%        7.000000         25.000000         99.500000\n",
       "75%        7.500000         37.500000        149.250000\n",
       "max        8.000000         50.000000        199.000000"
      ]
     },
     "metadata": {},
     "output_type": "display_data"
    },
    {
     "name": "stdout",
     "output_type": "stream",
     "text": [
      "Число пропусков: \n",
      "subscription_type    0\n",
      "minute_price         0\n",
      "start_ride_price     0\n",
      "subscription_fee     0\n",
      "dtype: int64\n",
      "\n"
     ]
    }
   ],
   "source": [
    "# информация о подписках\n",
    "get_inf(subsc)"
   ]
  },
  {
   "cell_type": "markdown",
   "id": "1b08e055",
   "metadata": {},
   "source": [
    "**Выводы:**\n",
    "1. Датасет с информацией о пользователях `users` включает 1565 наблюдений, пропущенных знаяений нет.\n",
    "2. Датасет с информацией о поездках `rides` включает 18068 наблюдений, пропущенных значений нет:\n",
    "    * среднее расстояние поездки — 3 км;\n",
    "    * средняя длительность поездки — 17.8 мин;\n",
    "3. Датасет с информацией о подписках `subsc` включает 2 наблюдения — информацию о бесплатной подписке и о платной подписке Ultra."
   ]
  },
  {
   "cell_type": "markdown",
   "id": "d83f40f7",
   "metadata": {},
   "source": [
    "## 2. Предобработка данных\n",
    "<a class=\"anchor\" id=\"2\"></a>"
   ]
  },
  {
   "cell_type": "markdown",
   "id": "01040b2e",
   "metadata": {},
   "source": [
    "Приведем столбец `date` датафрейма `rides` к типу данных `datetime` pandas:"
   ]
  },
  {
   "cell_type": "code",
   "execution_count": 7,
   "id": "7baf9a78",
   "metadata": {},
   "outputs": [
    {
     "data": {
      "text/html": [
       "<div>\n",
       "<style scoped>\n",
       "    .dataframe tbody tr th:only-of-type {\n",
       "        vertical-align: middle;\n",
       "    }\n",
       "\n",
       "    .dataframe tbody tr th {\n",
       "        vertical-align: top;\n",
       "    }\n",
       "\n",
       "    .dataframe thead th {\n",
       "        text-align: right;\n",
       "    }\n",
       "</style>\n",
       "<table border=\"1\" class=\"dataframe\">\n",
       "  <thead>\n",
       "    <tr style=\"text-align: right;\">\n",
       "      <th></th>\n",
       "      <th>user_id</th>\n",
       "      <th>distance</th>\n",
       "      <th>duration</th>\n",
       "      <th>date</th>\n",
       "    </tr>\n",
       "  </thead>\n",
       "  <tbody>\n",
       "    <tr>\n",
       "      <th>0</th>\n",
       "      <td>1</td>\n",
       "      <td>4409.919140</td>\n",
       "      <td>25.599769</td>\n",
       "      <td>2021-01-01</td>\n",
       "    </tr>\n",
       "    <tr>\n",
       "      <th>1</th>\n",
       "      <td>1</td>\n",
       "      <td>2617.592153</td>\n",
       "      <td>15.816871</td>\n",
       "      <td>2021-01-18</td>\n",
       "    </tr>\n",
       "    <tr>\n",
       "      <th>2</th>\n",
       "      <td>1</td>\n",
       "      <td>754.159807</td>\n",
       "      <td>6.232113</td>\n",
       "      <td>2021-04-20</td>\n",
       "    </tr>\n",
       "    <tr>\n",
       "      <th>3</th>\n",
       "      <td>1</td>\n",
       "      <td>2694.783254</td>\n",
       "      <td>18.511000</td>\n",
       "      <td>2021-08-11</td>\n",
       "    </tr>\n",
       "    <tr>\n",
       "      <th>4</th>\n",
       "      <td>1</td>\n",
       "      <td>4028.687306</td>\n",
       "      <td>26.265803</td>\n",
       "      <td>2021-08-28</td>\n",
       "    </tr>\n",
       "  </tbody>\n",
       "</table>\n",
       "</div>"
      ],
      "text/plain": [
       "   user_id     distance   duration       date\n",
       "0        1  4409.919140  25.599769 2021-01-01\n",
       "1        1  2617.592153  15.816871 2021-01-18\n",
       "2        1   754.159807   6.232113 2021-04-20\n",
       "3        1  2694.783254  18.511000 2021-08-11\n",
       "4        1  4028.687306  26.265803 2021-08-28"
      ]
     },
     "metadata": {},
     "output_type": "display_data"
    },
    {
     "name": "stdout",
     "output_type": "stream",
     "text": [
      "Тип данных после изменения: datetime64[ns]\n"
     ]
    }
   ],
   "source": [
    "# Изменяем тип данных\n",
    "rides['date'] = pd.to_datetime(rides['date'], format='%Y-%m-%d')\n",
    "\n",
    "# Проверяем, что получилось\n",
    "display(rides.head())\n",
    "print(f'Тип данных после изменения: {rides.date.dtype}')"
   ]
  },
  {
   "cell_type": "markdown",
   "id": "15f9aebc",
   "metadata": {},
   "source": [
    "В датафрейме `rides` оздадим новый столбец с номером месяца:"
   ]
  },
  {
   "cell_type": "code",
   "execution_count": 8,
   "id": "76b155c0",
   "metadata": {},
   "outputs": [
    {
     "data": {
      "text/html": [
       "<div>\n",
       "<style scoped>\n",
       "    .dataframe tbody tr th:only-of-type {\n",
       "        vertical-align: middle;\n",
       "    }\n",
       "\n",
       "    .dataframe tbody tr th {\n",
       "        vertical-align: top;\n",
       "    }\n",
       "\n",
       "    .dataframe thead th {\n",
       "        text-align: right;\n",
       "    }\n",
       "</style>\n",
       "<table border=\"1\" class=\"dataframe\">\n",
       "  <thead>\n",
       "    <tr style=\"text-align: right;\">\n",
       "      <th></th>\n",
       "      <th>user_id</th>\n",
       "      <th>distance</th>\n",
       "      <th>duration</th>\n",
       "      <th>date</th>\n",
       "      <th>month</th>\n",
       "    </tr>\n",
       "  </thead>\n",
       "  <tbody>\n",
       "    <tr>\n",
       "      <th>0</th>\n",
       "      <td>1</td>\n",
       "      <td>4409.919140</td>\n",
       "      <td>25.599769</td>\n",
       "      <td>2021-01-01</td>\n",
       "      <td>1</td>\n",
       "    </tr>\n",
       "    <tr>\n",
       "      <th>1</th>\n",
       "      <td>1</td>\n",
       "      <td>2617.592153</td>\n",
       "      <td>15.816871</td>\n",
       "      <td>2021-01-18</td>\n",
       "      <td>1</td>\n",
       "    </tr>\n",
       "    <tr>\n",
       "      <th>2</th>\n",
       "      <td>1</td>\n",
       "      <td>754.159807</td>\n",
       "      <td>6.232113</td>\n",
       "      <td>2021-04-20</td>\n",
       "      <td>4</td>\n",
       "    </tr>\n",
       "    <tr>\n",
       "      <th>3</th>\n",
       "      <td>1</td>\n",
       "      <td>2694.783254</td>\n",
       "      <td>18.511000</td>\n",
       "      <td>2021-08-11</td>\n",
       "      <td>8</td>\n",
       "    </tr>\n",
       "    <tr>\n",
       "      <th>4</th>\n",
       "      <td>1</td>\n",
       "      <td>4028.687306</td>\n",
       "      <td>26.265803</td>\n",
       "      <td>2021-08-28</td>\n",
       "      <td>8</td>\n",
       "    </tr>\n",
       "  </tbody>\n",
       "</table>\n",
       "</div>"
      ],
      "text/plain": [
       "   user_id     distance   duration       date  month\n",
       "0        1  4409.919140  25.599769 2021-01-01      1\n",
       "1        1  2617.592153  15.816871 2021-01-18      1\n",
       "2        1   754.159807   6.232113 2021-04-20      4\n",
       "3        1  2694.783254  18.511000 2021-08-11      8\n",
       "4        1  4028.687306  26.265803 2021-08-28      8"
      ]
     },
     "execution_count": 8,
     "metadata": {},
     "output_type": "execute_result"
    }
   ],
   "source": [
    "# Добавляем столбец\n",
    "rides['month'] = pd.DatetimeIndex(rides['date']).month\n",
    "\n",
    "# Проверяем, что получилось\n",
    "rides.head()"
   ]
  },
  {
   "cell_type": "markdown",
   "id": "ad38d26a-b0ab-43cc-843c-f4ffe855c305",
   "metadata": {},
   "source": [
    "Проверим, данные за какой период у нас имеются:"
   ]
  },
  {
   "cell_type": "code",
   "execution_count": 9,
   "id": "ebc0ea68-7ffa-440c-92ec-7e553a9065b6",
   "metadata": {},
   "outputs": [
    {
     "name": "stdout",
     "output_type": "stream",
     "text": [
      "Данные за период с 2021-01-01 00:00:00 по 2021-12-30 00:00:00\n"
     ]
    }
   ],
   "source": [
    "print(f'Данные за период с {rides.date.min()} по {rides.date.max()}')"
   ]
  },
  {
   "cell_type": "markdown",
   "id": "60a27202-9be5-452a-a965-1336d0b4431b",
   "metadata": {},
   "source": [
    "Данные предоставлены за один год — с 1 января по 30 декабря 2021 года, то есть при группировке по месяцам ошибок не будет"
   ]
  },
  {
   "cell_type": "markdown",
   "id": "0d626539",
   "metadata": {},
   "source": [
    "В Шаге 1 было показано, что в датафреймах нет пропущенных значений. Произведем работу по удалению дубликатов:"
   ]
  },
  {
   "cell_type": "code",
   "execution_count": 10,
   "id": "d47116d7-71dc-4d73-a2e2-def3456a5f85",
   "metadata": {},
   "outputs": [
    {
     "name": "stdout",
     "output_type": "stream",
     "text": [
      "В датасете users дубликатов: 31\n",
      "В датасете rides дубликатов: 0\n",
      "\n"
     ]
    }
   ],
   "source": [
    "# Проверяем наличие дубликатов\n",
    "print(f'В датасете users дубликатов: {users.duplicated().sum()}')\n",
    "print(f'В датасете rides дубликатов: {rides.duplicated().sum()}\\n')"
   ]
  },
  {
   "cell_type": "code",
   "execution_count": 11,
   "id": "36b0df5e",
   "metadata": {},
   "outputs": [
    {
     "name": "stdout",
     "output_type": "stream",
     "text": [
      "<class 'pandas.core.frame.DataFrame'>\n",
      "RangeIndex: 1534 entries, 0 to 1533\n",
      "Data columns (total 5 columns):\n",
      " #   Column             Non-Null Count  Dtype \n",
      "---  ------             --------------  ----- \n",
      " 0   user_id            1534 non-null   int64 \n",
      " 1   name               1534 non-null   object\n",
      " 2   age                1534 non-null   int64 \n",
      " 3   city               1534 non-null   object\n",
      " 4   subscription_type  1534 non-null   object\n",
      "dtypes: int64(2), object(3)\n",
      "memory usage: 60.0+ KB\n",
      "None\n"
     ]
    }
   ],
   "source": [
    "# Удаляем явные дубликаты из датасета users\n",
    "users = users.drop_duplicates().reset_index(drop=True)\n",
    "\n",
    "# Проверяем, что получилось\n",
    "print(users.info())"
   ]
  },
  {
   "cell_type": "markdown",
   "id": "816c41ff",
   "metadata": {},
   "source": [
    "Проверим дафафрейм `users` на наличие неявных дуликатов:"
   ]
  },
  {
   "cell_type": "code",
   "execution_count": 12,
   "id": "37245749",
   "metadata": {},
   "outputs": [
    {
     "data": {
      "text/plain": [
       "array(['Тюмень', 'Омск', 'Москва', 'Ростов-на-Дону', 'Краснодар',\n",
       "       'Пятигорск', 'Екатеринбург', 'Сочи'], dtype=object)"
      ]
     },
     "execution_count": 12,
     "metadata": {},
     "output_type": "execute_result"
    }
   ],
   "source": [
    "# Уникальные значения столбца city\n",
    "users.city.unique()"
   ]
  },
  {
   "cell_type": "code",
   "execution_count": 13,
   "id": "0838d0de",
   "metadata": {},
   "outputs": [
    {
     "data": {
      "text/plain": [
       "array(['ultra', 'free'], dtype=object)"
      ]
     },
     "execution_count": 13,
     "metadata": {},
     "output_type": "execute_result"
    }
   ],
   "source": [
    "# Уникальные значения столбца subscription_type\n",
    "users.subscription_type.unique()"
   ]
  },
  {
   "cell_type": "markdown",
   "id": "b4381aae",
   "metadata": {},
   "source": [
    "Неявных дубликатов не обнаружено"
   ]
  },
  {
   "cell_type": "markdown",
   "id": "20fac7ea",
   "metadata": {},
   "source": [
    "**Выводы:**\n",
    "1. Столбец `date` датафрейма `rides` приведен к типу данных `datetime` pandas;\n",
    "2. В датафрейм `rides` добавлен столбец `month` с номером месяца поездки;\n",
    "3. Пропущенных значений в датафреймах нет;\n",
    "4. В датафрейме `users` изавились от 31 явных дубликатов; неявных дубликатов в датасетах не обнаружено."
   ]
  },
  {
   "cell_type": "markdown",
   "id": "17cbbd7f",
   "metadata": {},
   "source": [
    "## 3. Исследовательский анализ данных \n",
    "<a class=\"anchor\" id=\"3\"></a>"
   ]
  },
  {
   "cell_type": "markdown",
   "id": "83710212",
   "metadata": {},
   "source": [
    "Опишем и визуализируем общую информацию о пользователях и поездках:"
   ]
  },
  {
   "cell_type": "markdown",
   "id": "edbc4b41",
   "metadata": {},
   "source": [
    "1. Частота встречающихся городов"
   ]
  },
  {
   "cell_type": "code",
   "execution_count": 14,
   "id": "350cceb0",
   "metadata": {},
   "outputs": [
    {
     "name": "stdout",
     "output_type": "stream",
     "text": [
      "city\n",
      "Пятигорск         219\n",
      "Екатеринбург      204\n",
      "Ростов-на-Дону    198\n",
      "Краснодар         193\n",
      "Сочи              189\n",
      "Омск              183\n",
      "Тюмень            180\n",
      "Москва            168\n",
      "Name: count, dtype: int64\n",
      "\n"
     ]
    },
    {
     "data": {
      "image/png": "[encoded data removed]",
      "text/plain": [
       "<Figure size 512x384 with 1 Axes>"
      ]
     },
     "metadata": {
      "image/png": {
       "height": 365,
       "width": 532
      }
     },
     "output_type": "display_data"
    }
   ],
   "source": [
    "# Получаем значения\n",
    "print(users.city.value_counts())\n",
    "print()\n",
    "\n",
    "# Строим столбчатую диаграмму\n",
    "users.city.value_counts(ascending=True).plot(kind='barh', xlabel='Частота', ylabel='Город')\n",
    "plt.title('Частота встречающихся городов')\n",
    "plt.show()"
   ]
  },
  {
   "cell_type": "markdown",
   "id": "7c9e7667",
   "metadata": {},
   "source": [
    "* В датасете представлены 8 городов: Пятигорск, Екатеринбург, Ростов-на-Дону, Краснодар, Сочи, Омск, Тюмень и Москва;\n",
    "* Чаще всего встречается Пятигорск — число наблюдений 219;\n",
    "* Реже всего встречается Москва — число наблюдений 168;\n",
    "* Разница между максимальной и минимальной частотой — 51, что составляет 23.3% от частоты появления Пятигорска"
   ]
  },
  {
   "cell_type": "markdown",
   "id": "ed7bcedc",
   "metadata": {},
   "source": [
    "2. Соотношение числа пользователей с подпиской и без подписки"
   ]
  },
  {
   "cell_type": "code",
   "execution_count": 15,
   "id": "f7ca3f80",
   "metadata": {},
   "outputs": [
    {
     "name": "stdout",
     "output_type": "stream",
     "text": [
      "subscription_type\n",
      "free     835\n",
      "ultra    699\n",
      "Name: count, dtype: int64\n",
      "\n"
     ]
    },
    {
     "data": {
      "image/png": "[encoded data removed]",
      "text/plain": [
       "<Figure size 512x384 with 1 Axes>"
      ]
     },
     "metadata": {
      "image/png": {
       "height": 365,
       "width": 463
      }
     },
     "output_type": "display_data"
    }
   ],
   "source": [
    "# Получаем значения\n",
    "print(users.subscription_type.value_counts())\n",
    "print()\n",
    "\n",
    "# Строим столбчатую диаграмму\n",
    "users.subscription_type.value_counts().plot(kind='bar', xlabel='Подписка', \n",
    "                                            ylabel='Частота')\n",
    "plt.title('Пользователи с подпиской и без подписки')\n",
    "plt.xticks(rotation=0)\n",
    "plt.show()"
   ]
  },
  {
   "cell_type": "code",
   "execution_count": 16,
   "id": "b12062a7-e86c-42f5-b364-187583312ad6",
   "metadata": {},
   "outputs": [
    {
     "data": {
      "image/png": "[encoded data removed]",
      "text/plain": [
       "<Figure size 512x384 with 1 Axes>"
      ]
     },
     "metadata": {
      "image/png": {
       "height": 329,
       "width": 370
      }
     },
     "output_type": "display_data"
    }
   ],
   "source": [
    "# Строим круговую диаграмму\n",
    "users.subscription_type.value_counts().plot(kind='pie', y='Число пользователей', autopct='%1.0f%%', colors=['#00DA72', '#4042EE'])\n",
    "plt.title('Пользователи с подпиской и без подписки')\n",
    "plt.legend()\n",
    "plt.show()"
   ]
  },
  {
   "cell_type": "markdown",
   "id": "e2898d9f",
   "metadata": {},
   "source": [
    "* Число пользователей без подписки — 835 (54.4% выборки);\n",
    "* Число пользователей с подпиской — 699 (45.6% выборки);\n",
    "* Число пользователей с подпиской на 16.3% меньше числа пользователей без подписки."
   ]
  },
  {
   "cell_type": "markdown",
   "id": "fb4a2149",
   "metadata": {},
   "source": [
    "3. Возраст пользователей"
   ]
  },
  {
   "cell_type": "code",
   "execution_count": 17,
   "id": "2256ed3e",
   "metadata": {},
   "outputs": [
    {
     "name": "stdout",
     "output_type": "stream",
     "text": [
      "count    1534.000000\n",
      "mean       24.903520\n",
      "std         4.572367\n",
      "min        12.000000\n",
      "25%        22.000000\n",
      "50%        25.000000\n",
      "75%        28.000000\n",
      "max        43.000000\n",
      "Name: age, dtype: float64\n",
      "\n"
     ]
    },
    {
     "data": {
      "image/png": "[encoded data removed]",
      "text/plain": [
       "<Figure size 720x384 with 1 Axes>"
      ]
     },
     "metadata": {
      "image/png": {
       "height": 365,
       "width": 624
      }
     },
     "output_type": "display_data"
    }
   ],
   "source": [
    "# Получаем статистику\n",
    "print(users.age.describe())\n",
    "print()\n",
    "\n",
    "# Строим столбчатую диаграмму\n",
    "users.age.value_counts().sort_index().plot(kind='bar',\n",
    "                                           xlabel='Возраст',\n",
    "                                           ylabel='Частота',\n",
    "                                           figsize=(9, 4.8))\n",
    "plt.title('Возраст пользователей')\n",
    "plt.xticks(rotation=0)\n",
    "plt.show()"
   ]
  },
  {
   "cell_type": "markdown",
   "id": "c3bef1aa",
   "metadata": {},
   "source": [
    "* Возраст пользователей выборки имеет распределение, близкое к нормальному, со средним $\\bar{x}=24.9$ и стандартным отклонением $\\text{sd}=4.57$;\n",
    "* Минимальный представленный возраст — 12 лет, максимальный — 43 года;\n",
    "* Медианное значение возраста пользователей — 25 лет: это значение встречается около 145 раз."
   ]
  },
  {
   "cell_type": "markdown",
   "id": "815003d9",
   "metadata": {},
   "source": [
    "4. Расстояние, которое пользователь преодолел за одну поездку"
   ]
  },
  {
   "cell_type": "code",
   "execution_count": 18,
   "id": "3322d41a",
   "metadata": {},
   "outputs": [
    {
     "name": "stdout",
     "output_type": "stream",
     "text": [
      "count    18068.000000\n",
      "mean      3070.659976\n",
      "std       1116.831209\n",
      "min          0.855683\n",
      "25%       2543.226360\n",
      "50%       3133.609994\n",
      "75%       3776.222735\n",
      "max       7211.007745\n",
      "Name: distance, dtype: float64\n",
      "\n"
     ]
    },
    {
     "data": {
      "image/png": "[encoded data removed]",
      "text/plain": [
       "<Figure size 512x384 with 1 Axes>"
      ]
     },
     "metadata": {
      "image/png": {
       "height": 365,
       "width": 463
      }
     },
     "output_type": "display_data"
    }
   ],
   "source": [
    "# Получаем статистику\n",
    "print(rides.distance.describe())\n",
    "print()\n",
    "\n",
    "# Строим гистограмму\n",
    "plt.hist(rides.distance, bins=100)\n",
    "plt.xlabel('Расстояние, м')\n",
    "plt.ylabel('Частота')\n",
    "plt.title('Расстояние за одну поездку')\n",
    "plt.show()"
   ]
  },
  {
   "cell_type": "code",
   "execution_count": 19,
   "id": "839d3e60",
   "metadata": {},
   "outputs": [
    {
     "name": "stdout",
     "output_type": "stream",
     "text": [
      "Поездок <1500 м: 1796 шт.,  9.94%\n",
      "Поездок >1500 м: 16272 шт., 90.06%\n"
     ]
    }
   ],
   "source": [
    "print(f'Поездок <1500 м: {len(rides[rides.distance<1500])} шт.,  {round(len(rides[rides.distance<1500]) / len(rides) * 100, 2)}%')\n",
    "print(f'Поездок >1500 м: {len(rides[rides.distance>1500])} шт., {round(len(rides[rides.distance>1500]) / len(rides) * 100, 2)}%')"
   ]
  },
  {
   "cell_type": "markdown",
   "id": "3f3a3847",
   "metadata": {},
   "source": [
    "* Полученное распределение — бимодальное: с первой модой в районе 800 м и второй модой в районе 3 200 м;\n",
    "* Данные можно разделить на две группы по расстоянию, преодолеваемому пользователю за одну поездку, на две группы:\n",
    "   - короткие: 0 ... 1 500 м (около 10% всех поездок);\n",
    "   - длинные: более 1 500 м (около 90% всех поездок);\n",
    "* Распределение каждой из групп близко к нормальному;\n",
    "* Коротких поездок, по сравнению с длинными, меньше на 88.9%. Вероятно, их наличие связано с желанием новых пользователей \"попробовать\" покататься."
   ]
  },
  {
   "cell_type": "markdown",
   "id": "9145d0bd",
   "metadata": {},
   "source": [
    "5. Продолжительность поездок"
   ]
  },
  {
   "cell_type": "code",
   "execution_count": 20,
   "id": "3d575c69",
   "metadata": {},
   "outputs": [
    {
     "name": "stdout",
     "output_type": "stream",
     "text": [
      "count    18068.000000\n",
      "mean        17.805011\n",
      "std          6.091051\n",
      "min          0.500000\n",
      "25%         13.597563\n",
      "50%         17.678395\n",
      "75%         21.724800\n",
      "max         40.823963\n",
      "Name: duration, dtype: float64\n",
      "\n"
     ]
    },
    {
     "data": {
      "image/png": "[encoded data removed]",
      "text/plain": [
       "<Figure size 512x384 with 1 Axes>"
      ]
     },
     "metadata": {
      "image/png": {
       "height": 365,
       "width": 463
      }
     },
     "output_type": "display_data"
    }
   ],
   "source": [
    "# Получаем статистику\n",
    "print(rides.duration.describe())\n",
    "print()\n",
    "\n",
    "# Строим гистограмму\n",
    "plt.hist(rides.duration, bins=100)\n",
    "plt.xlabel('Продолжительность, мин')\n",
    "plt.ylabel('Частота')\n",
    "plt.title('Продолжительность поездки')\n",
    "plt.show()"
   ]
  },
  {
   "cell_type": "code",
   "execution_count": 21,
   "id": "2605cf26",
   "metadata": {},
   "outputs": [
    {
     "name": "stdout",
     "output_type": "stream",
     "text": [
      "Число поездок продолжительностью 30 сек: 95\n"
     ]
    }
   ],
   "source": [
    "print(f'Число поездок продолжительностью 30 сек: {len(rides[rides.duration == 0.5])}')"
   ]
  },
  {
   "cell_type": "markdown",
   "id": "25e99c16-b7bc-42bd-8605-e378b745c381",
   "metadata": {},
   "source": [
    "Посмотрим на расстояние этих поездок:"
   ]
  },
  {
   "cell_type": "code",
   "execution_count": 22,
   "id": "619e078b-0ed8-45c3-930e-59d3bf4972d0",
   "metadata": {},
   "outputs": [
    {
     "data": {
      "image/png": "[encoded data removed]",
      "text/plain": [
       "<Figure size 512x384 with 1 Axes>"
      ]
     },
     "metadata": {
      "image/png": {
       "height": 333,
       "width": 449
      }
     },
     "output_type": "display_data"
    }
   ],
   "source": [
    "rides[rides.duration == 0.5].distance.hist(grid=False, bins=10)\n",
    "plt.show()"
   ]
  },
  {
   "cell_type": "markdown",
   "id": "25e4e518-2acb-48ac-a25f-943fd85dc3da",
   "metadata": {},
   "source": [
    "Расстояния для поездок с длительностью 30 сек превышают 4 000 м, возможно, их наличие связано с ошибками в системе. Удалим эти аномальные значения:"
   ]
  },
  {
   "cell_type": "code",
   "execution_count": 23,
   "id": "44ed6e2b-9d3c-4e8b-9bbe-70fdc5dfccf0",
   "metadata": {},
   "outputs": [
    {
     "name": "stdout",
     "output_type": "stream",
     "text": [
      "count    17973.000000\n",
      "mean        17.896480\n",
      "std          5.975424\n",
      "min          2.035632\n",
      "25%         13.670439\n",
      "50%         17.714122\n",
      "75%         21.747016\n",
      "max         40.823963\n",
      "Name: duration, dtype: float64\n",
      "\n"
     ]
    },
    {
     "data": {
      "image/png": "[encoded data removed]",
      "text/plain": [
       "<Figure size 512x384 with 1 Axes>"
      ]
     },
     "metadata": {
      "image/png": {
       "height": 365,
       "width": 463
      }
     },
     "output_type": "display_data"
    }
   ],
   "source": [
    "# Удаляем аномалии\n",
    "rides = rides[rides.duration > 0.5]\n",
    "\n",
    "# Смотрим, что получилось\n",
    "print(rides.duration.describe())\n",
    "print()\n",
    "\n",
    "plt.hist(rides.duration, bins=100)\n",
    "plt.xlabel('Продолжительность, мин')\n",
    "plt.ylabel('Частота')\n",
    "plt.title('Продолжительность поездки')\n",
    "plt.show()"
   ]
  },
  {
   "cell_type": "markdown",
   "id": "eb220e9d",
   "metadata": {},
   "source": [
    "* Полученное распределение близко к нормальному со средним $\\bar{x}=17.9$ и стандартным отклонением $\\text{sd}=5.98$;\n",
    "* Минимальное значение продолжительности поездки в выборке — 2 минуты, максимальное — около 41 минуты;\n",
    "* 95 раз встречающееся значение 30 сек,скорее всего, вызвано ошибкой, поэтому эти наблюдения были удалены как аномальные."
   ]
  },
  {
   "cell_type": "markdown",
   "id": "325838aa",
   "metadata": {},
   "source": [
    "**Выводы:**\n",
    "1. В данных представлены 8 городов; наибольшее число поездок — в Пятигорске (219), наименьшее — в Москве (168, т. е. на 23.3% меньше);\n",
    "2. Число пользователей без подписки — 835 (54.4% выборки); число пользователей с подпиской — 699 (45.6% выборки, т. е. на 16.3% меньше);\n",
    "3. Возраст пользователей варьируется от 12 до 43 лет и имеет распределение, близкое к нормальному, со средним $\\bar{x}^{\\text{age}}=24.9$ и стандартным отклонением $\\text{sd}^{\\text{age}}=4.57$;\n",
    "4. Расстояние, которое пользователь преодолел за одну поездку, варьируется от 0.9 до 7 211 м и является бимодальным, данные можно разделить на две группы, распределение в каждой из которых близко к нормальному:\n",
    "      * короткие поездки: 0 ... 1 500 м с модой 800 м (около 10% всех поездок)\n",
    "        \n",
    "      * длинные поездки: более 1500 м с модой 3 200 м (около 90% всех поездок)\n",
    "   \n",
    "   Вероятно, наличие коротких поездок связано с тем, что новым пользователям интересно \"попробовать\" покататься;\n",
    "6. Продолжительность поездок варьируется от 30 сек до 40.8 мин и имеет распределение, близкое к нормальному, со средним $\\bar{x}^{d}=17.9$ и стандартным отклонением $\\text{sd}^{d}=5.98$;\n",
    "   \n",
    "   Аномалия из 95 поездок длительностью 30 сек, вероятно, возникли из-за ошибки и поэтому были удалены из датасета `rides`."
   ]
  },
  {
   "cell_type": "markdown",
   "id": "0f45a922",
   "metadata": {},
   "source": [
    "## 4. Объединение данных \n",
    "<a class=\"anchor\" id=\"4\"></a>"
   ]
  },
  {
   "cell_type": "markdown",
   "id": "eec270d7",
   "metadata": {},
   "source": [
    "Объединим данные о пользователях, поездках и подписках в единый датафрейм `df`:"
   ]
  },
  {
   "cell_type": "code",
   "execution_count": 24,
   "id": "17456362",
   "metadata": {},
   "outputs": [
    {
     "data": {
      "text/html": [
       "<div>\n",
       "<style scoped>\n",
       "    .dataframe tbody tr th:only-of-type {\n",
       "        vertical-align: middle;\n",
       "    }\n",
       "\n",
       "    .dataframe tbody tr th {\n",
       "        vertical-align: top;\n",
       "    }\n",
       "\n",
       "    .dataframe thead th {\n",
       "        text-align: right;\n",
       "    }\n",
       "</style>\n",
       "<table border=\"1\" class=\"dataframe\">\n",
       "  <thead>\n",
       "    <tr style=\"text-align: right;\">\n",
       "      <th></th>\n",
       "      <th>user_id</th>\n",
       "      <th>distance</th>\n",
       "      <th>duration</th>\n",
       "      <th>date</th>\n",
       "      <th>month</th>\n",
       "      <th>name</th>\n",
       "      <th>age</th>\n",
       "      <th>city</th>\n",
       "      <th>subscription_type</th>\n",
       "      <th>minute_price</th>\n",
       "      <th>start_ride_price</th>\n",
       "      <th>subscription_fee</th>\n",
       "    </tr>\n",
       "  </thead>\n",
       "  <tbody>\n",
       "    <tr>\n",
       "      <th>0</th>\n",
       "      <td>1</td>\n",
       "      <td>4409.919140</td>\n",
       "      <td>25.599769</td>\n",
       "      <td>2021-01-01</td>\n",
       "      <td>1</td>\n",
       "      <td>Кира</td>\n",
       "      <td>22</td>\n",
       "      <td>Тюмень</td>\n",
       "      <td>ultra</td>\n",
       "      <td>6</td>\n",
       "      <td>0</td>\n",
       "      <td>199</td>\n",
       "    </tr>\n",
       "    <tr>\n",
       "      <th>1</th>\n",
       "      <td>1</td>\n",
       "      <td>2617.592153</td>\n",
       "      <td>15.816871</td>\n",
       "      <td>2021-01-18</td>\n",
       "      <td>1</td>\n",
       "      <td>Кира</td>\n",
       "      <td>22</td>\n",
       "      <td>Тюмень</td>\n",
       "      <td>ultra</td>\n",
       "      <td>6</td>\n",
       "      <td>0</td>\n",
       "      <td>199</td>\n",
       "    </tr>\n",
       "    <tr>\n",
       "      <th>2</th>\n",
       "      <td>1</td>\n",
       "      <td>754.159807</td>\n",
       "      <td>6.232113</td>\n",
       "      <td>2021-04-20</td>\n",
       "      <td>4</td>\n",
       "      <td>Кира</td>\n",
       "      <td>22</td>\n",
       "      <td>Тюмень</td>\n",
       "      <td>ultra</td>\n",
       "      <td>6</td>\n",
       "      <td>0</td>\n",
       "      <td>199</td>\n",
       "    </tr>\n",
       "    <tr>\n",
       "      <th>3</th>\n",
       "      <td>1</td>\n",
       "      <td>2694.783254</td>\n",
       "      <td>18.511000</td>\n",
       "      <td>2021-08-11</td>\n",
       "      <td>8</td>\n",
       "      <td>Кира</td>\n",
       "      <td>22</td>\n",
       "      <td>Тюмень</td>\n",
       "      <td>ultra</td>\n",
       "      <td>6</td>\n",
       "      <td>0</td>\n",
       "      <td>199</td>\n",
       "    </tr>\n",
       "    <tr>\n",
       "      <th>4</th>\n",
       "      <td>1</td>\n",
       "      <td>4028.687306</td>\n",
       "      <td>26.265803</td>\n",
       "      <td>2021-08-28</td>\n",
       "      <td>8</td>\n",
       "      <td>Кира</td>\n",
       "      <td>22</td>\n",
       "      <td>Тюмень</td>\n",
       "      <td>ultra</td>\n",
       "      <td>6</td>\n",
       "      <td>0</td>\n",
       "      <td>199</td>\n",
       "    </tr>\n",
       "  </tbody>\n",
       "</table>\n",
       "</div>"
      ],
      "text/plain": [
       "   user_id     distance   duration       date  month  name  age    city  \\\n",
       "0        1  4409.919140  25.599769 2021-01-01      1  Кира   22  Тюмень   \n",
       "1        1  2617.592153  15.816871 2021-01-18      1  Кира   22  Тюмень   \n",
       "2        1   754.159807   6.232113 2021-04-20      4  Кира   22  Тюмень   \n",
       "3        1  2694.783254  18.511000 2021-08-11      8  Кира   22  Тюмень   \n",
       "4        1  4028.687306  26.265803 2021-08-28      8  Кира   22  Тюмень   \n",
       "\n",
       "  subscription_type  minute_price  start_ride_price  subscription_fee  \n",
       "0             ultra             6                 0               199  \n",
       "1             ultra             6                 0               199  \n",
       "2             ultra             6                 0               199  \n",
       "3             ultra             6                 0               199  \n",
       "4             ultra             6                 0               199  "
      ]
     },
     "metadata": {},
     "output_type": "display_data"
    },
    {
     "name": "stdout",
     "output_type": "stream",
     "text": [
      "<class 'pandas.core.frame.DataFrame'>\n",
      "RangeIndex: 17973 entries, 0 to 17972\n",
      "Data columns (total 12 columns):\n",
      " #   Column             Non-Null Count  Dtype         \n",
      "---  ------             --------------  -----         \n",
      " 0   user_id            17973 non-null  int64         \n",
      " 1   distance           17973 non-null  float64       \n",
      " 2   duration           17973 non-null  float64       \n",
      " 3   date               17973 non-null  datetime64[ns]\n",
      " 4   month              17973 non-null  int32         \n",
      " 5   name               17973 non-null  object        \n",
      " 6   age                17973 non-null  int64         \n",
      " 7   city               17973 non-null  object        \n",
      " 8   subscription_type  17973 non-null  object        \n",
      " 9   minute_price       17973 non-null  int64         \n",
      " 10  start_ride_price   17973 non-null  int64         \n",
      " 11  subscription_fee   17973 non-null  int64         \n",
      "dtypes: datetime64[ns](1), float64(2), int32(1), int64(5), object(3)\n",
      "memory usage: 1.6+ MB\n"
     ]
    }
   ],
   "source": [
    "# Объединяем датафреймы\n",
    "df = rides.merge(users, on='user_id', how='left')\n",
    "df = df.merge(subsc, on='subscription_type', how='left')\n",
    "\n",
    "# проверяем, что получилось\n",
    "display(df.head())\n",
    "df.info()"
   ]
  },
  {
   "cell_type": "markdown",
   "id": "065df73b-9c27-4024-bf3a-cbef914a73da",
   "metadata": {},
   "source": [
    "Число строк полученной таблицы (17 973) совпадает с числом строк в датафрейме `rides` после удаления аномалий."
   ]
  },
  {
   "cell_type": "markdown",
   "id": "3bc35d2e",
   "metadata": {},
   "source": [
    "Создадим еще два датафрейма:\n",
    "1. `df_free`: с пользователями без подписки\n",
    "2. `df_ultra`: с пользователями с подпиской"
   ]
  },
  {
   "cell_type": "code",
   "execution_count": 25,
   "id": "62c895c7",
   "metadata": {},
   "outputs": [
    {
     "name": "stdout",
     "output_type": "stream",
     "text": [
      "Пользователи без подписки df_free:\n"
     ]
    },
    {
     "data": {
      "text/html": [
       "<div>\n",
       "<style scoped>\n",
       "    .dataframe tbody tr th:only-of-type {\n",
       "        vertical-align: middle;\n",
       "    }\n",
       "\n",
       "    .dataframe tbody tr th {\n",
       "        vertical-align: top;\n",
       "    }\n",
       "\n",
       "    .dataframe thead th {\n",
       "        text-align: right;\n",
       "    }\n",
       "</style>\n",
       "<table border=\"1\" class=\"dataframe\">\n",
       "  <thead>\n",
       "    <tr style=\"text-align: right;\">\n",
       "      <th></th>\n",
       "      <th>user_id</th>\n",
       "      <th>distance</th>\n",
       "      <th>duration</th>\n",
       "      <th>date</th>\n",
       "      <th>month</th>\n",
       "      <th>name</th>\n",
       "      <th>age</th>\n",
       "      <th>city</th>\n",
       "      <th>subscription_type</th>\n",
       "      <th>minute_price</th>\n",
       "      <th>start_ride_price</th>\n",
       "      <th>subscription_fee</th>\n",
       "    </tr>\n",
       "  </thead>\n",
       "  <tbody>\n",
       "    <tr>\n",
       "      <th>6500</th>\n",
       "      <td>700</td>\n",
       "      <td>2515.690719</td>\n",
       "      <td>14.944286</td>\n",
       "      <td>2021-01-02</td>\n",
       "      <td>1</td>\n",
       "      <td>Айдар</td>\n",
       "      <td>22</td>\n",
       "      <td>Омск</td>\n",
       "      <td>free</td>\n",
       "      <td>8</td>\n",
       "      <td>50</td>\n",
       "      <td>0</td>\n",
       "    </tr>\n",
       "    <tr>\n",
       "      <th>6501</th>\n",
       "      <td>700</td>\n",
       "      <td>846.932642</td>\n",
       "      <td>16.234663</td>\n",
       "      <td>2021-02-01</td>\n",
       "      <td>2</td>\n",
       "      <td>Айдар</td>\n",
       "      <td>22</td>\n",
       "      <td>Омск</td>\n",
       "      <td>free</td>\n",
       "      <td>8</td>\n",
       "      <td>50</td>\n",
       "      <td>0</td>\n",
       "    </tr>\n",
       "    <tr>\n",
       "      <th>6502</th>\n",
       "      <td>700</td>\n",
       "      <td>4004.434142</td>\n",
       "      <td>20.016628</td>\n",
       "      <td>2021-02-04</td>\n",
       "      <td>2</td>\n",
       "      <td>Айдар</td>\n",
       "      <td>22</td>\n",
       "      <td>Омск</td>\n",
       "      <td>free</td>\n",
       "      <td>8</td>\n",
       "      <td>50</td>\n",
       "      <td>0</td>\n",
       "    </tr>\n",
       "    <tr>\n",
       "      <th>6503</th>\n",
       "      <td>700</td>\n",
       "      <td>1205.911290</td>\n",
       "      <td>9.782872</td>\n",
       "      <td>2021-02-10</td>\n",
       "      <td>2</td>\n",
       "      <td>Айдар</td>\n",
       "      <td>22</td>\n",
       "      <td>Омск</td>\n",
       "      <td>free</td>\n",
       "      <td>8</td>\n",
       "      <td>50</td>\n",
       "      <td>0</td>\n",
       "    </tr>\n",
       "    <tr>\n",
       "      <th>6504</th>\n",
       "      <td>700</td>\n",
       "      <td>3047.379435</td>\n",
       "      <td>17.427673</td>\n",
       "      <td>2021-02-14</td>\n",
       "      <td>2</td>\n",
       "      <td>Айдар</td>\n",
       "      <td>22</td>\n",
       "      <td>Омск</td>\n",
       "      <td>free</td>\n",
       "      <td>8</td>\n",
       "      <td>50</td>\n",
       "      <td>0</td>\n",
       "    </tr>\n",
       "  </tbody>\n",
       "</table>\n",
       "</div>"
      ],
      "text/plain": [
       "      user_id     distance   duration       date  month   name  age  city  \\\n",
       "6500      700  2515.690719  14.944286 2021-01-02      1  Айдар   22  Омск   \n",
       "6501      700   846.932642  16.234663 2021-02-01      2  Айдар   22  Омск   \n",
       "6502      700  4004.434142  20.016628 2021-02-04      2  Айдар   22  Омск   \n",
       "6503      700  1205.911290   9.782872 2021-02-10      2  Айдар   22  Омск   \n",
       "6504      700  3047.379435  17.427673 2021-02-14      2  Айдар   22  Омск   \n",
       "\n",
       "     subscription_type  minute_price  start_ride_price  subscription_fee  \n",
       "6500              free             8                50                 0  \n",
       "6501              free             8                50                 0  \n",
       "6502              free             8                50                 0  \n",
       "6503              free             8                50                 0  \n",
       "6504              free             8                50                 0  "
      ]
     },
     "metadata": {},
     "output_type": "display_data"
    },
    {
     "name": "stdout",
     "output_type": "stream",
     "text": [
      "<class 'pandas.core.frame.DataFrame'>\n",
      "Index: 11473 entries, 6500 to 17972\n",
      "Data columns (total 12 columns):\n",
      " #   Column             Non-Null Count  Dtype         \n",
      "---  ------             --------------  -----         \n",
      " 0   user_id            11473 non-null  int64         \n",
      " 1   distance           11473 non-null  float64       \n",
      " 2   duration           11473 non-null  float64       \n",
      " 3   date               11473 non-null  datetime64[ns]\n",
      " 4   month              11473 non-null  int32         \n",
      " 5   name               11473 non-null  object        \n",
      " 6   age                11473 non-null  int64         \n",
      " 7   city               11473 non-null  object        \n",
      " 8   subscription_type  11473 non-null  object        \n",
      " 9   minute_price       11473 non-null  int64         \n",
      " 10  start_ride_price   11473 non-null  int64         \n",
      " 11  subscription_fee   11473 non-null  int64         \n",
      "dtypes: datetime64[ns](1), float64(2), int32(1), int64(5), object(3)\n",
      "memory usage: 1.1+ MB\n",
      "None\n",
      "\n",
      "Пользователи с подпиской df_ultra:\n"
     ]
    },
    {
     "data": {
      "text/html": [
       "<div>\n",
       "<style scoped>\n",
       "    .dataframe tbody tr th:only-of-type {\n",
       "        vertical-align: middle;\n",
       "    }\n",
       "\n",
       "    .dataframe tbody tr th {\n",
       "        vertical-align: top;\n",
       "    }\n",
       "\n",
       "    .dataframe thead th {\n",
       "        text-align: right;\n",
       "    }\n",
       "</style>\n",
       "<table border=\"1\" class=\"dataframe\">\n",
       "  <thead>\n",
       "    <tr style=\"text-align: right;\">\n",
       "      <th></th>\n",
       "      <th>user_id</th>\n",
       "      <th>distance</th>\n",
       "      <th>duration</th>\n",
       "      <th>date</th>\n",
       "      <th>month</th>\n",
       "      <th>name</th>\n",
       "      <th>age</th>\n",
       "      <th>city</th>\n",
       "      <th>subscription_type</th>\n",
       "      <th>minute_price</th>\n",
       "      <th>start_ride_price</th>\n",
       "      <th>subscription_fee</th>\n",
       "    </tr>\n",
       "  </thead>\n",
       "  <tbody>\n",
       "    <tr>\n",
       "      <th>0</th>\n",
       "      <td>1</td>\n",
       "      <td>4409.919140</td>\n",
       "      <td>25.599769</td>\n",
       "      <td>2021-01-01</td>\n",
       "      <td>1</td>\n",
       "      <td>Кира</td>\n",
       "      <td>22</td>\n",
       "      <td>Тюмень</td>\n",
       "      <td>ultra</td>\n",
       "      <td>6</td>\n",
       "      <td>0</td>\n",
       "      <td>199</td>\n",
       "    </tr>\n",
       "    <tr>\n",
       "      <th>1</th>\n",
       "      <td>1</td>\n",
       "      <td>2617.592153</td>\n",
       "      <td>15.816871</td>\n",
       "      <td>2021-01-18</td>\n",
       "      <td>1</td>\n",
       "      <td>Кира</td>\n",
       "      <td>22</td>\n",
       "      <td>Тюмень</td>\n",
       "      <td>ultra</td>\n",
       "      <td>6</td>\n",
       "      <td>0</td>\n",
       "      <td>199</td>\n",
       "    </tr>\n",
       "    <tr>\n",
       "      <th>2</th>\n",
       "      <td>1</td>\n",
       "      <td>754.159807</td>\n",
       "      <td>6.232113</td>\n",
       "      <td>2021-04-20</td>\n",
       "      <td>4</td>\n",
       "      <td>Кира</td>\n",
       "      <td>22</td>\n",
       "      <td>Тюмень</td>\n",
       "      <td>ultra</td>\n",
       "      <td>6</td>\n",
       "      <td>0</td>\n",
       "      <td>199</td>\n",
       "    </tr>\n",
       "    <tr>\n",
       "      <th>3</th>\n",
       "      <td>1</td>\n",
       "      <td>2694.783254</td>\n",
       "      <td>18.511000</td>\n",
       "      <td>2021-08-11</td>\n",
       "      <td>8</td>\n",
       "      <td>Кира</td>\n",
       "      <td>22</td>\n",
       "      <td>Тюмень</td>\n",
       "      <td>ultra</td>\n",
       "      <td>6</td>\n",
       "      <td>0</td>\n",
       "      <td>199</td>\n",
       "    </tr>\n",
       "    <tr>\n",
       "      <th>4</th>\n",
       "      <td>1</td>\n",
       "      <td>4028.687306</td>\n",
       "      <td>26.265803</td>\n",
       "      <td>2021-08-28</td>\n",
       "      <td>8</td>\n",
       "      <td>Кира</td>\n",
       "      <td>22</td>\n",
       "      <td>Тюмень</td>\n",
       "      <td>ultra</td>\n",
       "      <td>6</td>\n",
       "      <td>0</td>\n",
       "      <td>199</td>\n",
       "    </tr>\n",
       "  </tbody>\n",
       "</table>\n",
       "</div>"
      ],
      "text/plain": [
       "   user_id     distance   duration       date  month  name  age    city  \\\n",
       "0        1  4409.919140  25.599769 2021-01-01      1  Кира   22  Тюмень   \n",
       "1        1  2617.592153  15.816871 2021-01-18      1  Кира   22  Тюмень   \n",
       "2        1   754.159807   6.232113 2021-04-20      4  Кира   22  Тюмень   \n",
       "3        1  2694.783254  18.511000 2021-08-11      8  Кира   22  Тюмень   \n",
       "4        1  4028.687306  26.265803 2021-08-28      8  Кира   22  Тюмень   \n",
       "\n",
       "  subscription_type  minute_price  start_ride_price  subscription_fee  \n",
       "0             ultra             6                 0               199  \n",
       "1             ultra             6                 0               199  \n",
       "2             ultra             6                 0               199  \n",
       "3             ultra             6                 0               199  \n",
       "4             ultra             6                 0               199  "
      ]
     },
     "metadata": {},
     "output_type": "display_data"
    },
    {
     "name": "stdout",
     "output_type": "stream",
     "text": [
      "<class 'pandas.core.frame.DataFrame'>\n",
      "Index: 6500 entries, 0 to 6499\n",
      "Data columns (total 12 columns):\n",
      " #   Column             Non-Null Count  Dtype         \n",
      "---  ------             --------------  -----         \n",
      " 0   user_id            6500 non-null   int64         \n",
      " 1   distance           6500 non-null   float64       \n",
      " 2   duration           6500 non-null   float64       \n",
      " 3   date               6500 non-null   datetime64[ns]\n",
      " 4   month              6500 non-null   int32         \n",
      " 5   name               6500 non-null   object        \n",
      " 6   age                6500 non-null   int64         \n",
      " 7   city               6500 non-null   object        \n",
      " 8   subscription_type  6500 non-null   object        \n",
      " 9   minute_price       6500 non-null   int64         \n",
      " 10  start_ride_price   6500 non-null   int64         \n",
      " 11  subscription_fee   6500 non-null   int64         \n",
      "dtypes: datetime64[ns](1), float64(2), int32(1), int64(5), object(3)\n",
      "memory usage: 634.8+ KB\n",
      "None\n"
     ]
    }
   ],
   "source": [
    "# Создаем новые датафреймы\n",
    "df_free = df[df.subscription_type == 'free']\n",
    "df_ultra = df[df.subscription_type == 'ultra']\n",
    "\n",
    "# проверяем, что получилось\n",
    "print('Пользователи без подписки df_free:')\n",
    "display(df_free.head())\n",
    "print(df_free.info())\n",
    "print('\\nПользователи с подпиской df_ultra:')\n",
    "display(df_ultra.head())\n",
    "print(df_ultra.info())"
   ]
  },
  {
   "cell_type": "markdown",
   "id": "0626f0f8",
   "metadata": {},
   "source": [
    "Визуализируем информацию о расстоянии и времени поездок для пользователей обеих категорий:"
   ]
  },
  {
   "cell_type": "code",
   "execution_count": 26,
   "id": "50e4a248-fdd5-4d9d-98b2-a5fae794fc72",
   "metadata": {},
   "outputs": [
    {
     "data": {
      "image/png": "[encoded data removed]",
      "text/plain": [
       "<Figure size 512x384 with 1 Axes>"
      ]
     },
     "metadata": {
      "image/png": {
       "height": 365,
       "width": 463
      }
     },
     "output_type": "display_data"
    },
    {
     "data": {
      "image/png": "[encoded data removed]",
      "text/plain": [
       "<Figure size 512x384 with 1 Axes>"
      ]
     },
     "metadata": {
      "image/png": {
       "height": 365,
       "width": 463
      }
     },
     "output_type": "display_data"
    }
   ],
   "source": [
    "# Расстояние поездки\n",
    "plt.hist(df_ultra.distance, bins=100, alpha=0.5, label='Ultra')\n",
    "plt.hist(df_free.distance, bins=100, alpha=0.5, label='Free')\n",
    "plt.xlabel('Расстояние, м')\n",
    "plt.ylabel('Частота')\n",
    "plt.title('Расстояние поездки')\n",
    "plt.legend()\n",
    "plt.show()\n",
    "\n",
    "# Время поездки\n",
    "plt.hist(df_ultra.duration, bins=100, alpha=0.5, label='Ultra')\n",
    "plt.hist(df_free.duration, bins=100, alpha=0.5, label='Free')\n",
    "plt.xlabel('Продолжительность, мин')\n",
    "plt.ylabel('Частота')\n",
    "plt.title('Продолжительность поездки')\n",
    "plt.legend()\n",
    "plt.show()"
   ]
  },
  {
   "cell_type": "code",
   "execution_count": 27,
   "id": "6af8d3fb",
   "metadata": {},
   "outputs": [
    {
     "name": "stdout",
     "output_type": "stream",
     "text": [
      "Пользователи с подпиской:\n"
     ]
    },
    {
     "data": {
      "text/html": [
       "<div>\n",
       "<style scoped>\n",
       "    .dataframe tbody tr th:only-of-type {\n",
       "        vertical-align: middle;\n",
       "    }\n",
       "\n",
       "    .dataframe tbody tr th {\n",
       "        vertical-align: top;\n",
       "    }\n",
       "\n",
       "    .dataframe thead th {\n",
       "        text-align: right;\n",
       "    }\n",
       "</style>\n",
       "<table border=\"1\" class=\"dataframe\">\n",
       "  <thead>\n",
       "    <tr style=\"text-align: right;\">\n",
       "      <th></th>\n",
       "      <th>distance</th>\n",
       "      <th>duration</th>\n",
       "    </tr>\n",
       "  </thead>\n",
       "  <tbody>\n",
       "    <tr>\n",
       "      <th>count</th>\n",
       "      <td>6500.000000</td>\n",
       "      <td>6500.000000</td>\n",
       "    </tr>\n",
       "    <tr>\n",
       "      <th>mean</th>\n",
       "      <td>3115.445388</td>\n",
       "      <td>18.541985</td>\n",
       "    </tr>\n",
       "    <tr>\n",
       "      <th>std</th>\n",
       "      <td>836.895330</td>\n",
       "      <td>5.572048</td>\n",
       "    </tr>\n",
       "    <tr>\n",
       "      <th>min</th>\n",
       "      <td>244.210438</td>\n",
       "      <td>3.760353</td>\n",
       "    </tr>\n",
       "    <tr>\n",
       "      <th>25%</th>\n",
       "      <td>2785.444017</td>\n",
       "      <td>14.524654</td>\n",
       "    </tr>\n",
       "    <tr>\n",
       "      <th>50%</th>\n",
       "      <td>3148.637229</td>\n",
       "      <td>18.178153</td>\n",
       "    </tr>\n",
       "    <tr>\n",
       "      <th>75%</th>\n",
       "      <td>3560.574425</td>\n",
       "      <td>21.884129</td>\n",
       "    </tr>\n",
       "    <tr>\n",
       "      <th>max</th>\n",
       "      <td>5699.769662</td>\n",
       "      <td>40.823963</td>\n",
       "    </tr>\n",
       "  </tbody>\n",
       "</table>\n",
       "</div>"
      ],
      "text/plain": [
       "          distance     duration\n",
       "count  6500.000000  6500.000000\n",
       "mean   3115.445388    18.541985\n",
       "std     836.895330     5.572048\n",
       "min     244.210438     3.760353\n",
       "25%    2785.444017    14.524654\n",
       "50%    3148.637229    18.178153\n",
       "75%    3560.574425    21.884129\n",
       "max    5699.769662    40.823963"
      ]
     },
     "metadata": {},
     "output_type": "display_data"
    },
    {
     "name": "stdout",
     "output_type": "stream",
     "text": [
      "\n",
      "Пользватели без подписки:\n"
     ]
    },
    {
     "data": {
      "text/html": [
       "<div>\n",
       "<style scoped>\n",
       "    .dataframe tbody tr th:only-of-type {\n",
       "        vertical-align: middle;\n",
       "    }\n",
       "\n",
       "    .dataframe tbody tr th {\n",
       "        vertical-align: top;\n",
       "    }\n",
       "\n",
       "    .dataframe thead th {\n",
       "        text-align: right;\n",
       "    }\n",
       "</style>\n",
       "<table border=\"1\" class=\"dataframe\">\n",
       "  <thead>\n",
       "    <tr style=\"text-align: right;\">\n",
       "      <th></th>\n",
       "      <th>distance</th>\n",
       "      <th>duration</th>\n",
       "    </tr>\n",
       "  </thead>\n",
       "  <tbody>\n",
       "    <tr>\n",
       "      <th>count</th>\n",
       "      <td>11473.000000</td>\n",
       "      <td>11473.000000</td>\n",
       "    </tr>\n",
       "    <tr>\n",
       "      <th>mean</th>\n",
       "      <td>3028.374239</td>\n",
       "      <td>17.530771</td>\n",
       "    </tr>\n",
       "    <tr>\n",
       "      <th>std</th>\n",
       "      <td>1235.541051</td>\n",
       "      <td>6.162609</td>\n",
       "    </tr>\n",
       "    <tr>\n",
       "      <th>min</th>\n",
       "      <td>0.855683</td>\n",
       "      <td>2.035632</td>\n",
       "    </tr>\n",
       "    <tr>\n",
       "      <th>25%</th>\n",
       "      <td>2360.878149</td>\n",
       "      <td>13.085688</td>\n",
       "    </tr>\n",
       "    <tr>\n",
       "      <th>50%</th>\n",
       "      <td>3102.083025</td>\n",
       "      <td>17.383807</td>\n",
       "    </tr>\n",
       "    <tr>\n",
       "      <th>75%</th>\n",
       "      <td>3883.979311</td>\n",
       "      <td>21.638038</td>\n",
       "    </tr>\n",
       "    <tr>\n",
       "      <th>max</th>\n",
       "      <td>7066.003772</td>\n",
       "      <td>34.948498</td>\n",
       "    </tr>\n",
       "  </tbody>\n",
       "</table>\n",
       "</div>"
      ],
      "text/plain": [
       "           distance      duration\n",
       "count  11473.000000  11473.000000\n",
       "mean    3028.374239     17.530771\n",
       "std     1235.541051      6.162609\n",
       "min        0.855683      2.035632\n",
       "25%     2360.878149     13.085688\n",
       "50%     3102.083025     17.383807\n",
       "75%     3883.979311     21.638038\n",
       "max     7066.003772     34.948498"
      ]
     },
     "metadata": {},
     "output_type": "display_data"
    }
   ],
   "source": [
    "# Получим статистики\n",
    "print('Пользователи с подпиской:')\n",
    "display(df_ultra[['distance', 'duration']].describe())\n",
    "print('\\nПользватели без подписки:')\n",
    "display(df_free[['distance', 'duration']].describe())"
   ]
  },
  {
   "cell_type": "markdown",
   "id": "3672a8e7",
   "metadata": {},
   "source": [
    "**Выводы:**\n",
    "1. Число поездок среди пользователей с подпиской (6500 поездок) на 43.8% меньше, чем количество поездок пользователей без подписки (11 568 поездок): по этой причине гистограммы построенные по данным `df_free` оказались \"выше\";\n",
    "3. Расстояние поездки:\n",
    "    * Распределения для обеих групп пользователей оказались бимодальными, однако моды как для коротких, так и для длинных поездок больше для пользователей с подпиской;\n",
    "    * Выборки отличаются средним и медианой: для пользователей с подпиской $\\bar{x}^d_1=3 \\, 115, \\ \\text{me}^d_1=3 \\, 148$, а для пользователей без подписки эти значения меньше и составляют $\\bar{x}^d_0=3 \\, 045, \\ \\text{me}^d_0=3 \\, 115$;\n",
    "    * Данные для пользователей с подпиской менее вариативны (со стандартным отклонением $\\text{sd}^d_1=836.9$ и 1-м и 3-м квартилями 2785.5 и 3560.6), чем данные для пользователей без подписки (со стандартным отклонением $\\text{sd}^d_0=1246.2$ и 1-м и 3-м квартилями 2366.6 и 3905.7);\n",
    "4. Продолжительность поездки:\n",
    "    * Распределения для обеих групп пользователей близки к нормальному, однако для пользователей с подпиской (со средним и медианой $\\bar{x}^t_1=18.5, \\ \\text{me}^t_1=18.2$) оно незначительно сдвинут вправо по сравнению с распределением для пользователей без подписки (со средним и медианой $\\bar{x}^t_0=17.4, \\ \\text{me}^t_0=17.3$);\n",
    "    * В целом, можно сказать, что длительность поездки для пользователей с подпиской больше, чем для пользователей без подписки; статистическую значимость этого различия еще предстоит проверить."
   ]
  },
  {
   "cell_type": "markdown",
   "id": "912330c9",
   "metadata": {},
   "source": [
    "## 5. Подсчет выручки\n",
    "<a class=\"anchor\" id=\"5\"></a>"
   ]
  },
  {
   "cell_type": "markdown",
   "id": "dd520205",
   "metadata": {},
   "source": [
    "Создадим датафрейм `df_agg` с аггрегированными данными о поездках: для каждого пользователя за каждый месяц найдем:\n",
    "   * количество поездок `count`;\n",
    "   * суммарное расстояние `distance_sum`;\n",
    "   * суммарное время `duration_sum`;\n",
    "   * также добавим тип подписки `subscription_type`:"
   ]
  },
  {
   "cell_type": "code",
   "execution_count": 28,
   "id": "bec3f79a",
   "metadata": {},
   "outputs": [
    {
     "data": {
      "text/html": [
       "<div>\n",
       "<style scoped>\n",
       "    .dataframe tbody tr th:only-of-type {\n",
       "        vertical-align: middle;\n",
       "    }\n",
       "\n",
       "    .dataframe tbody tr th {\n",
       "        vertical-align: top;\n",
       "    }\n",
       "\n",
       "    .dataframe thead th {\n",
       "        text-align: right;\n",
       "    }\n",
       "</style>\n",
       "<table border=\"1\" class=\"dataframe\">\n",
       "  <thead>\n",
       "    <tr style=\"text-align: right;\">\n",
       "      <th></th>\n",
       "      <th>user_id</th>\n",
       "      <th>distance</th>\n",
       "      <th>duration</th>\n",
       "      <th>date</th>\n",
       "      <th>month</th>\n",
       "      <th>name</th>\n",
       "      <th>age</th>\n",
       "      <th>city</th>\n",
       "      <th>subscription_type</th>\n",
       "      <th>minute_price</th>\n",
       "      <th>start_ride_price</th>\n",
       "      <th>subscription_fee</th>\n",
       "    </tr>\n",
       "  </thead>\n",
       "  <tbody>\n",
       "    <tr>\n",
       "      <th>0</th>\n",
       "      <td>1</td>\n",
       "      <td>4409.919140</td>\n",
       "      <td>26.0</td>\n",
       "      <td>2021-01-01</td>\n",
       "      <td>1</td>\n",
       "      <td>Кира</td>\n",
       "      <td>22</td>\n",
       "      <td>Тюмень</td>\n",
       "      <td>ultra</td>\n",
       "      <td>6</td>\n",
       "      <td>0</td>\n",
       "      <td>199</td>\n",
       "    </tr>\n",
       "    <tr>\n",
       "      <th>1</th>\n",
       "      <td>1</td>\n",
       "      <td>2617.592153</td>\n",
       "      <td>16.0</td>\n",
       "      <td>2021-01-18</td>\n",
       "      <td>1</td>\n",
       "      <td>Кира</td>\n",
       "      <td>22</td>\n",
       "      <td>Тюмень</td>\n",
       "      <td>ultra</td>\n",
       "      <td>6</td>\n",
       "      <td>0</td>\n",
       "      <td>199</td>\n",
       "    </tr>\n",
       "    <tr>\n",
       "      <th>2</th>\n",
       "      <td>1</td>\n",
       "      <td>754.159807</td>\n",
       "      <td>7.0</td>\n",
       "      <td>2021-04-20</td>\n",
       "      <td>4</td>\n",
       "      <td>Кира</td>\n",
       "      <td>22</td>\n",
       "      <td>Тюмень</td>\n",
       "      <td>ultra</td>\n",
       "      <td>6</td>\n",
       "      <td>0</td>\n",
       "      <td>199</td>\n",
       "    </tr>\n",
       "    <tr>\n",
       "      <th>3</th>\n",
       "      <td>1</td>\n",
       "      <td>2694.783254</td>\n",
       "      <td>19.0</td>\n",
       "      <td>2021-08-11</td>\n",
       "      <td>8</td>\n",
       "      <td>Кира</td>\n",
       "      <td>22</td>\n",
       "      <td>Тюмень</td>\n",
       "      <td>ultra</td>\n",
       "      <td>6</td>\n",
       "      <td>0</td>\n",
       "      <td>199</td>\n",
       "    </tr>\n",
       "    <tr>\n",
       "      <th>4</th>\n",
       "      <td>1</td>\n",
       "      <td>4028.687306</td>\n",
       "      <td>27.0</td>\n",
       "      <td>2021-08-28</td>\n",
       "      <td>8</td>\n",
       "      <td>Кира</td>\n",
       "      <td>22</td>\n",
       "      <td>Тюмень</td>\n",
       "      <td>ultra</td>\n",
       "      <td>6</td>\n",
       "      <td>0</td>\n",
       "      <td>199</td>\n",
       "    </tr>\n",
       "  </tbody>\n",
       "</table>\n",
       "</div>"
      ],
      "text/plain": [
       "   user_id     distance  duration       date  month  name  age    city  \\\n",
       "0        1  4409.919140      26.0 2021-01-01      1  Кира   22  Тюмень   \n",
       "1        1  2617.592153      16.0 2021-01-18      1  Кира   22  Тюмень   \n",
       "2        1   754.159807       7.0 2021-04-20      4  Кира   22  Тюмень   \n",
       "3        1  2694.783254      19.0 2021-08-11      8  Кира   22  Тюмень   \n",
       "4        1  4028.687306      27.0 2021-08-28      8  Кира   22  Тюмень   \n",
       "\n",
       "  subscription_type  minute_price  start_ride_price  subscription_fee  \n",
       "0             ultra             6                 0               199  \n",
       "1             ultra             6                 0               199  \n",
       "2             ultra             6                 0               199  \n",
       "3             ultra             6                 0               199  \n",
       "4             ultra             6                 0               199  "
      ]
     },
     "execution_count": 28,
     "metadata": {},
     "output_type": "execute_result"
    }
   ],
   "source": [
    "# Округлим все значения в столбце duration в большую сторону\n",
    "df['duration'] = np.ceil(df['duration'])\n",
    "df.head()"
   ]
  },
  {
   "cell_type": "code",
   "execution_count": 29,
   "id": "d4d1f4ea",
   "metadata": {},
   "outputs": [
    {
     "data": {
      "text/html": [
       "<div>\n",
       "<style scoped>\n",
       "    .dataframe tbody tr th:only-of-type {\n",
       "        vertical-align: middle;\n",
       "    }\n",
       "\n",
       "    .dataframe tbody tr th {\n",
       "        vertical-align: top;\n",
       "    }\n",
       "\n",
       "    .dataframe thead th {\n",
       "        text-align: right;\n",
       "    }\n",
       "</style>\n",
       "<table border=\"1\" class=\"dataframe\">\n",
       "  <thead>\n",
       "    <tr style=\"text-align: right;\">\n",
       "      <th></th>\n",
       "      <th>user_id</th>\n",
       "      <th>month</th>\n",
       "      <th>count</th>\n",
       "      <th>distance_sum</th>\n",
       "      <th>duration_sum</th>\n",
       "      <th>minute_price</th>\n",
       "      <th>start_ride_price</th>\n",
       "      <th>subscription_fee</th>\n",
       "      <th>subscription_type</th>\n",
       "    </tr>\n",
       "  </thead>\n",
       "  <tbody>\n",
       "    <tr>\n",
       "      <th>0</th>\n",
       "      <td>1</td>\n",
       "      <td>1</td>\n",
       "      <td>2</td>\n",
       "      <td>7027.511294</td>\n",
       "      <td>42.0</td>\n",
       "      <td>6</td>\n",
       "      <td>0</td>\n",
       "      <td>199</td>\n",
       "      <td>ultra</td>\n",
       "    </tr>\n",
       "    <tr>\n",
       "      <th>1</th>\n",
       "      <td>1</td>\n",
       "      <td>4</td>\n",
       "      <td>1</td>\n",
       "      <td>754.159807</td>\n",
       "      <td>7.0</td>\n",
       "      <td>6</td>\n",
       "      <td>0</td>\n",
       "      <td>199</td>\n",
       "      <td>ultra</td>\n",
       "    </tr>\n",
       "    <tr>\n",
       "      <th>2</th>\n",
       "      <td>1</td>\n",
       "      <td>8</td>\n",
       "      <td>2</td>\n",
       "      <td>6723.470560</td>\n",
       "      <td>46.0</td>\n",
       "      <td>6</td>\n",
       "      <td>0</td>\n",
       "      <td>199</td>\n",
       "      <td>ultra</td>\n",
       "    </tr>\n",
       "    <tr>\n",
       "      <th>3</th>\n",
       "      <td>1</td>\n",
       "      <td>10</td>\n",
       "      <td>2</td>\n",
       "      <td>5809.911100</td>\n",
       "      <td>32.0</td>\n",
       "      <td>6</td>\n",
       "      <td>0</td>\n",
       "      <td>199</td>\n",
       "      <td>ultra</td>\n",
       "    </tr>\n",
       "    <tr>\n",
       "      <th>4</th>\n",
       "      <td>1</td>\n",
       "      <td>11</td>\n",
       "      <td>3</td>\n",
       "      <td>7003.499363</td>\n",
       "      <td>56.0</td>\n",
       "      <td>6</td>\n",
       "      <td>0</td>\n",
       "      <td>199</td>\n",
       "      <td>ultra</td>\n",
       "    </tr>\n",
       "    <tr>\n",
       "      <th>...</th>\n",
       "      <td>...</td>\n",
       "      <td>...</td>\n",
       "      <td>...</td>\n",
       "      <td>...</td>\n",
       "      <td>...</td>\n",
       "      <td>...</td>\n",
       "      <td>...</td>\n",
       "      <td>...</td>\n",
       "      <td>...</td>\n",
       "    </tr>\n",
       "    <tr>\n",
       "      <th>11295</th>\n",
       "      <td>1534</td>\n",
       "      <td>6</td>\n",
       "      <td>2</td>\n",
       "      <td>3409.468534</td>\n",
       "      <td>26.0</td>\n",
       "      <td>8</td>\n",
       "      <td>50</td>\n",
       "      <td>0</td>\n",
       "      <td>free</td>\n",
       "    </tr>\n",
       "    <tr>\n",
       "      <th>11296</th>\n",
       "      <td>1534</td>\n",
       "      <td>8</td>\n",
       "      <td>2</td>\n",
       "      <td>7622.453034</td>\n",
       "      <td>48.0</td>\n",
       "      <td>8</td>\n",
       "      <td>50</td>\n",
       "      <td>0</td>\n",
       "      <td>free</td>\n",
       "    </tr>\n",
       "    <tr>\n",
       "      <th>11297</th>\n",
       "      <td>1534</td>\n",
       "      <td>9</td>\n",
       "      <td>1</td>\n",
       "      <td>4928.173852</td>\n",
       "      <td>23.0</td>\n",
       "      <td>8</td>\n",
       "      <td>50</td>\n",
       "      <td>0</td>\n",
       "      <td>free</td>\n",
       "    </tr>\n",
       "    <tr>\n",
       "      <th>11298</th>\n",
       "      <td>1534</td>\n",
       "      <td>11</td>\n",
       "      <td>4</td>\n",
       "      <td>13350.015305</td>\n",
       "      <td>78.0</td>\n",
       "      <td>8</td>\n",
       "      <td>50</td>\n",
       "      <td>0</td>\n",
       "      <td>free</td>\n",
       "    </tr>\n",
       "    <tr>\n",
       "      <th>11299</th>\n",
       "      <td>1534</td>\n",
       "      <td>12</td>\n",
       "      <td>1</td>\n",
       "      <td>2371.711192</td>\n",
       "      <td>16.0</td>\n",
       "      <td>8</td>\n",
       "      <td>50</td>\n",
       "      <td>0</td>\n",
       "      <td>free</td>\n",
       "    </tr>\n",
       "  </tbody>\n",
       "</table>\n",
       "<p>11300 rows × 9 columns</p>\n",
       "</div>"
      ],
      "text/plain": [
       "       user_id  month  count  distance_sum  duration_sum  minute_price  \\\n",
       "0            1      1      2   7027.511294          42.0             6   \n",
       "1            1      4      1    754.159807           7.0             6   \n",
       "2            1      8      2   6723.470560          46.0             6   \n",
       "3            1     10      2   5809.911100          32.0             6   \n",
       "4            1     11      3   7003.499363          56.0             6   \n",
       "...        ...    ...    ...           ...           ...           ...   \n",
       "11295     1534      6      2   3409.468534          26.0             8   \n",
       "11296     1534      8      2   7622.453034          48.0             8   \n",
       "11297     1534      9      1   4928.173852          23.0             8   \n",
       "11298     1534     11      4  13350.015305          78.0             8   \n",
       "11299     1534     12      1   2371.711192          16.0             8   \n",
       "\n",
       "       start_ride_price  subscription_fee subscription_type  \n",
       "0                     0               199             ultra  \n",
       "1                     0               199             ultra  \n",
       "2                     0               199             ultra  \n",
       "3                     0               199             ultra  \n",
       "4                     0               199             ultra  \n",
       "...                 ...               ...               ...  \n",
       "11295                50                 0              free  \n",
       "11296                50                 0              free  \n",
       "11297                50                 0              free  \n",
       "11298                50                 0              free  \n",
       "11299                50                 0              free  \n",
       "\n",
       "[11300 rows x 9 columns]"
      ]
     },
     "execution_count": 29,
     "metadata": {},
     "output_type": "execute_result"
    }
   ],
   "source": [
    "# Создадаем аггрегированный датафрейм\n",
    "df_agg = df.pivot_table(index=['user_id', 'month'],\n",
    "                        aggfunc={'distance': ['sum', 'count'],\n",
    "                                 'duration': 'sum',\n",
    "                                 'subscription_type': 'first',\n",
    "                                 'minute_price': 'first',\n",
    "                                 'start_ride_price': 'first',\n",
    "                                 'subscription_fee': 'first'})\n",
    "df_agg = df_agg.reset_index()\n",
    "df_agg.columns = ['user_id', 'month', 'count', 'distance_sum', 'duration_sum', 'minute_price', 'start_ride_price', 'subscription_fee', 'subscription_type']\n",
    "df_agg"
   ]
  },
  {
   "cell_type": "markdown",
   "id": "49a9fadd",
   "metadata": {},
   "source": [
    "В этот же датафрейм добавим столбец `revenue` с помесячной выручкой, которую принёс каждый пользователь:"
   ]
  },
  {
   "cell_type": "code",
   "execution_count": 30,
   "id": "b163c959-bff1-4479-8a2f-37dc6eadf6e9",
   "metadata": {},
   "outputs": [
    {
     "data": {
      "text/html": [
       "<div>\n",
       "<style scoped>\n",
       "    .dataframe tbody tr th:only-of-type {\n",
       "        vertical-align: middle;\n",
       "    }\n",
       "\n",
       "    .dataframe tbody tr th {\n",
       "        vertical-align: top;\n",
       "    }\n",
       "\n",
       "    .dataframe thead th {\n",
       "        text-align: right;\n",
       "    }\n",
       "</style>\n",
       "<table border=\"1\" class=\"dataframe\">\n",
       "  <thead>\n",
       "    <tr style=\"text-align: right;\">\n",
       "      <th></th>\n",
       "      <th>user_id</th>\n",
       "      <th>month</th>\n",
       "      <th>count</th>\n",
       "      <th>distance_sum</th>\n",
       "      <th>duration_sum</th>\n",
       "      <th>minute_price</th>\n",
       "      <th>start_ride_price</th>\n",
       "      <th>subscription_fee</th>\n",
       "      <th>subscription_type</th>\n",
       "      <th>revenue</th>\n",
       "    </tr>\n",
       "  </thead>\n",
       "  <tbody>\n",
       "    <tr>\n",
       "      <th>0</th>\n",
       "      <td>1</td>\n",
       "      <td>1</td>\n",
       "      <td>2</td>\n",
       "      <td>7027.511294</td>\n",
       "      <td>42.0</td>\n",
       "      <td>6</td>\n",
       "      <td>0</td>\n",
       "      <td>199</td>\n",
       "      <td>ultra</td>\n",
       "      <td>451.0</td>\n",
       "    </tr>\n",
       "    <tr>\n",
       "      <th>1</th>\n",
       "      <td>1</td>\n",
       "      <td>4</td>\n",
       "      <td>1</td>\n",
       "      <td>754.159807</td>\n",
       "      <td>7.0</td>\n",
       "      <td>6</td>\n",
       "      <td>0</td>\n",
       "      <td>199</td>\n",
       "      <td>ultra</td>\n",
       "      <td>241.0</td>\n",
       "    </tr>\n",
       "    <tr>\n",
       "      <th>2</th>\n",
       "      <td>1</td>\n",
       "      <td>8</td>\n",
       "      <td>2</td>\n",
       "      <td>6723.470560</td>\n",
       "      <td>46.0</td>\n",
       "      <td>6</td>\n",
       "      <td>0</td>\n",
       "      <td>199</td>\n",
       "      <td>ultra</td>\n",
       "      <td>475.0</td>\n",
       "    </tr>\n",
       "    <tr>\n",
       "      <th>3</th>\n",
       "      <td>1</td>\n",
       "      <td>10</td>\n",
       "      <td>2</td>\n",
       "      <td>5809.911100</td>\n",
       "      <td>32.0</td>\n",
       "      <td>6</td>\n",
       "      <td>0</td>\n",
       "      <td>199</td>\n",
       "      <td>ultra</td>\n",
       "      <td>391.0</td>\n",
       "    </tr>\n",
       "    <tr>\n",
       "      <th>4</th>\n",
       "      <td>1</td>\n",
       "      <td>11</td>\n",
       "      <td>3</td>\n",
       "      <td>7003.499363</td>\n",
       "      <td>56.0</td>\n",
       "      <td>6</td>\n",
       "      <td>0</td>\n",
       "      <td>199</td>\n",
       "      <td>ultra</td>\n",
       "      <td>535.0</td>\n",
       "    </tr>\n",
       "  </tbody>\n",
       "</table>\n",
       "</div>"
      ],
      "text/plain": [
       "   user_id  month  count  distance_sum  duration_sum  minute_price  \\\n",
       "0        1      1      2   7027.511294          42.0             6   \n",
       "1        1      4      1    754.159807           7.0             6   \n",
       "2        1      8      2   6723.470560          46.0             6   \n",
       "3        1     10      2   5809.911100          32.0             6   \n",
       "4        1     11      3   7003.499363          56.0             6   \n",
       "\n",
       "   start_ride_price  subscription_fee subscription_type  revenue  \n",
       "0                 0               199             ultra    451.0  \n",
       "1                 0               199             ultra    241.0  \n",
       "2                 0               199             ultra    475.0  \n",
       "3                 0               199             ultra    391.0  \n",
       "4                 0               199             ultra    535.0  "
      ]
     },
     "execution_count": 30,
     "metadata": {},
     "output_type": "execute_result"
    }
   ],
   "source": [
    "# Добавим столбец revenue с помощью векторных операций со столбцами\n",
    "df_agg['revenue'] = df_agg['start_ride_price'] * df_agg['count'] + df_agg['minute_price'] * df_agg['duration_sum'] + df_agg['subscription_fee']\n",
    "df_agg.head()"
   ]
  },
  {
   "cell_type": "markdown",
   "id": "5ab10d50",
   "metadata": {},
   "source": [
    "Оценим распределения для ежемесячной выручки для пользователей без подписки и с подпиской:"
   ]
  },
  {
   "cell_type": "code",
   "execution_count": 31,
   "id": "45926edc",
   "metadata": {},
   "outputs": [
    {
     "data": {
      "image/png": "[encoded data removed]",
      "text/plain": [
       "<Figure size 512x384 with 1 Axes>"
      ]
     },
     "metadata": {
      "image/png": {
       "height": 365,
       "width": 463
      }
     },
     "output_type": "display_data"
    },
    {
     "data": {
      "image/png": "[encoded data removed]",
      "text/plain": [
       "<Figure size 512x384 with 1 Axes>"
      ]
     },
     "metadata": {
      "image/png": {
       "height": 365,
       "width": 463
      }
     },
     "output_type": "display_data"
    },
    {
     "name": "stdout",
     "output_type": "stream",
     "text": [
      "\n",
      "Для пользователей с подпиской:\n",
      "\n",
      "count    4533.000000\n",
      "mean      362.792191\n",
      "std        88.262737\n",
      "min       223.000000\n",
      "25%       301.000000\n",
      "50%       337.000000\n",
      "75%       409.000000\n",
      "max       955.000000\n",
      "Name: revenue, dtype: float64\n",
      "\n",
      "Для пользователей без подписки:\n",
      "\n"
     ]
    },
    {
     "data": {
      "text/plain": [
       "count    6767.000000\n",
       "mean      329.332644\n",
       "std       183.268419\n",
       "min        74.000000\n",
       "25%       194.000000\n",
       "50%       274.000000\n",
       "75%       428.000000\n",
       "max      1444.000000\n",
       "Name: revenue, dtype: float64"
      ]
     },
     "execution_count": 31,
     "metadata": {},
     "output_type": "execute_result"
    }
   ],
   "source": [
    "# Для пользователей с подпиской\n",
    "plt.hist(df_agg[df_agg.subscription_type == 'ultra'].revenue, bins=60)\n",
    "plt.xlim(0, 1500)\n",
    "plt.ylim(0, 680)\n",
    "plt.xlabel('Месячная выручка, руб')\n",
    "plt.ylabel('Частота')\n",
    "plt.title('Выручка ULTRA')\n",
    "plt.show()\n",
    "\n",
    "# Для пользователей без подпиской\n",
    "plt.hist(df_agg[df_agg.subscription_type == 'free'].revenue,\n",
    "         bins=60, color='#00DA72')\n",
    "plt.xlim(0, 1500)\n",
    "plt.ylim(0, 680)\n",
    "plt.xlabel('Месячная выручка, руб')\n",
    "plt.ylabel('Частота')\n",
    "plt.title('Выручка FREE')\n",
    "plt.show()\n",
    "\n",
    "# Получим статистику\n",
    "print('\\nДля пользователей с подпиской:\\n')\n",
    "print(df_agg[df_agg.subscription_type == 'ultra'].revenue.describe())\n",
    "print('\\nДля пользователей без подписки:\\n')\n",
    "df_agg[df_agg.subscription_type == 'free'].revenue.describe()"
   ]
  },
  {
   "cell_type": "markdown",
   "id": "4e19708c",
   "metadata": {},
   "source": [
    "**Выводы:**\n",
    "На данном шаге был создан датафрейм `df_agg` с аггрегированными данными о поездках: для каждого пользователя в каждом месяце указаны:\n",
    "* число поездок;\n",
    "* суммарное расстояние;\n",
    "* сумарное время;\n",
    "* выручка, принесенная пользователем.\n",
    "\n",
    "Кроме того, судя по распределениям месячной выручки от каждого пользователя, пользователи с подпиской (со средним и медианой $\\bar{x}_1^\\$=362.8, \\ \\text{me}_1^\\$=337 $), в среднем, приносят компании на 10% больший доход, чем пользователи без подписки (со средним и медианой $\\bar{x}_0^\\$=328.6, \\ \\text{me}_0^\\$=274 $)."
   ]
  },
  {
   "cell_type": "markdown",
   "id": "176c0b9f",
   "metadata": {},
   "source": [
    "## 6. Проверка гипотез \n",
    "<a class=\"anchor\" id=\"6\"></a>"
   ]
  },
  {
   "cell_type": "markdown",
   "id": "1a8461aa",
   "metadata": {},
   "source": [
    "### 6.1. Равенство двух средних \n",
    "<a class=\"anchor\" id=\"6.1\"></a>"
   ]
  },
  {
   "cell_type": "markdown",
   "id": "1e7483e1",
   "metadata": {},
   "source": [
    "Проверим, тратят ли пользователи с подпиской больше времени на поездки:\n",
    "\n",
    "* $H_0$: $\\mu_1^t \\ = \\ \\mu_0^t$, т. е. средняя продолижтельность поездки для генеральной совокупности пользователей с подпиской равна средней продолжительности поездки для генеральной совокупности пользователей без подписки\n",
    "* $H_1$: $\\mu_1^t \\ > \\ \\mu_0^t$, т. е. средняя продолижтельность поездки для генеральной совокупности пользователей с подпиской больше средней продолжительности поездки для генеральной совокупности пользователей без подписки\n",
    "\n",
    "Будем применять t-тест для проверки правосторонней гипотезы о равенстве средних в двух генеральных совокупностях со значением уровня статистической значимости $\\alpha=0.05$. Условия применения t-теста удовлетворены:\n",
    "1. Две генеральные совокупности действительно независимы;\n",
    "2. Число наблюдений в выборках более 30, поэтому можно утверждать, что распределение выборочных средних близко к нормальному (в соответствии с ЦПТ);\n",
    "3. Гомогенность дисперсий: $\\text{sd}_1^t=5.57, \\ \\text{sd}_0^t=6.32$, т. е. дисперсии действительно примерно равны"
   ]
  },
  {
   "cell_type": "code",
   "execution_count": 32,
   "id": "60ebbfe9",
   "metadata": {},
   "outputs": [
    {
     "name": "stdout",
     "output_type": "stream",
     "text": [
      "p-value: 4.704468074453899e-28\n",
      "Отклоняем нулевую гипотезу\n"
     ]
    }
   ],
   "source": [
    "alpha = 0.05\n",
    "result = st.ttest_ind(df_ultra.duration, df_free.duration,\n",
    "                      alternative='greater')\n",
    "\n",
    "print(f'p-value: {result.pvalue}')\n",
    "if result.pvalue < alpha:\n",
    "    print('Отклоняем нулевую гипотезу')\n",
    "else:\n",
    "    print('Нет оснований отклонить нулевую гипотезу')"
   ]
  },
  {
   "cell_type": "markdown",
   "id": "38500a14",
   "metadata": {},
   "source": [
    "**Вывод:** Результаты правостороннего t-теста со значением уровня статистической значимости $\\alpha=0.05$ показаои, что средняя продолжительность поездки среди пользователей с подпиской больше, чем среди пользователей без подписки со значением p-value $1.28 \\cdot 10^{-34}$"
   ]
  },
  {
   "cell_type": "markdown",
   "id": "237e4058",
   "metadata": {},
   "source": [
    "### 6.2. Равенство среднего числу \n",
    "<a class=\"anchor\" id=\"6.2\"></a>"
   ]
  },
  {
   "cell_type": "markdown",
   "id": "27c64a8a",
   "metadata": {},
   "source": [
    "Оптимальное с точки зрения износа самоката расстояние поездки $\\mu=3130$ м. Проверим, можно ли сказать, что среднее расстояние, которое проезжают пользователи с подпиской за одну поездку, не превышает этого значения:\n",
    "* $H_0$: $\\mu_1^d = 3130$, т. е. среднее значение длительности поездки для генеральной совокупности пользователей с подпиской равно 3 130 м\n",
    "* $H_1$: $\\mu_1^d > 3130$, т. е. среднее значение длительности поездки для генеральной совокупности пользователей с подпиской больше 3 130 м\n",
    "\n",
    "Будем применять t-тест для проверки левосторонней гипотезы о равенстве среднего генеральной совокупности числу со значением уровня статистической значимости $\\alpha=0.05$."
   ]
  },
  {
   "cell_type": "code",
   "execution_count": 33,
   "id": "3e180b06",
   "metadata": {},
   "outputs": [
    {
     "name": "stdout",
     "output_type": "stream",
     "text": [
      "p-value: 0.9195368847849785\n",
      "Нет оснований отклонить нулевую гипотезу\n"
     ]
    }
   ],
   "source": [
    "alpha = 0.05\n",
    "result = st.ttest_1samp(df_ultra.distance, 3130,\n",
    "                        alternative='greater')\n",
    "\n",
    "print(f'p-value: {result.pvalue}')\n",
    "if result.pvalue < alpha:\n",
    "    print('Отклоняем нулевую гипотезу')\n",
    "else:\n",
    "    print('Нет оснований отклонить нулевую гипотезу')"
   ]
  },
  {
   "cell_type": "markdown",
   "id": "b06fcc25",
   "metadata": {},
   "source": [
    "**Вывод:** Результаты правостороннего t-теста со значением уровня статистической значимости $\\alpha=0.05$ показали, что действительно можно сказать, что расстояние, которое проезжают пользователи с подпиской за одну поездку, не превышает 3 130 м."
   ]
  },
  {
   "cell_type": "markdown",
   "id": "8f238c51",
   "metadata": {},
   "source": [
    "### 6.3. Гипотеза о выручке \n",
    "<a class=\"anchor\" id=\"6.3\"></a>"
   ]
  },
  {
   "cell_type": "markdown",
   "id": "7d447f0c",
   "metadata": {},
   "source": [
    "Проверим гипотезу о том, что помесячная выручка от пользователей с подпиской по месяцам выше, чем выручка от пользователей без подписки:\n",
    "* $H_0$: $\\mu_1^\\$ \\ = \\ \\mu_0^\\$ $, т. е. средняя помесячная выручка от генеральной совокупности пользователей с подпиской $\\bar{x}_1^t$ равна средней помесячной выручке от генеральной совокупности пользователей без подписки\n",
    "* $H_1$: $\\mu_1^\\$ \\ > \\ \\mu_0^\\$ $\n",
    "\n",
    "Будем применять t-тест для проверки правосторонней гипотезы о равенстве средних в двух генеральных совокупностях со значением уровня статистической значимости $\\alpha=0.05$. Условия применения t-теста удовлетворены:\n",
    "1. Две генеральные совокупности действительно независимы;\n",
    "2. Число наблюдений в выборках более 30, поэтому можно утверждать, что распределение выборочных средних близко к нормальному (в соответствии с ЦПТ);\n",
    "3. Гомогенность дисперсий: $\\text{sd}_1^\\$=88.3, \\ \\text{sd}_0^\\$=183.9$, т. е. дисперсия для пользователей без подписки значительно превышает дисперсию для пользователей с подпиской; используем дополнительный аргумент `equal_var=False`"
   ]
  },
  {
   "cell_type": "code",
   "execution_count": 34,
   "id": "355aeca0",
   "metadata": {},
   "outputs": [
    {
     "name": "stdout",
     "output_type": "stream",
     "text": [
      "p-value: 2.4970242872858465e-38\n",
      "Отклоняем нулевую гипотезу\n"
     ]
    }
   ],
   "source": [
    "alpha = 0.05\n",
    "result = st.ttest_ind(df_agg[df_agg.subscription_type == 'ultra'].revenue,\n",
    "                      df_agg[df_agg.subscription_type == 'free'].revenue,\n",
    "                      equal_var=False,\n",
    "                      alternative='greater')\n",
    "\n",
    "print(f'p-value: {result.pvalue}')\n",
    "if result.pvalue < alpha:\n",
    "    print('Отклоняем нулевую гипотезу')\n",
    "else:\n",
    "    print('Нет оснований отклонить нулевую гипотезу')"
   ]
  },
  {
   "cell_type": "markdown",
   "id": "20686b0a",
   "metadata": {},
   "source": [
    "**Вывод:** Результаты правостороннего t-теста со значением уровня статистической значимости $\\alpha=0.05$ показаои, что средняя помесячная выруска от пользователей с подпиской больше, чем от пользователей без подписки со значением p-value $8.87 \\cdot 10^{-40}$"
   ]
  },
  {
   "cell_type": "markdown",
   "id": "db2eb958",
   "metadata": {},
   "source": [
    "### 6.4. Ситуация \n",
    "<a class=\"anchor\" id=\"6.4\"></a>"
   ]
  },
  {
   "cell_type": "markdown",
   "id": "f03feab9",
   "metadata": {},
   "source": [
    "Представьте такую ситуацию: техническая команда сервиса обновила сервера, с которыми взаимодействует мобильное приложение. Она надеется, что из-за этого количество обращений в техподдержку значимо снизилось. Некоторый файл содержит для каждого пользователя данные о количестве обращений до обновления и после него. Какой тест вам понадобился бы для проверки этой гипотезы?"
   ]
  },
  {
   "cell_type": "markdown",
   "id": "c877da3c",
   "metadata": {},
   "source": [
    "В данном примере выборки, для которых необходимо проверить гипотезу, предсталвяеют собой выборки из одних и тех же пользователей до и после обновления: такие выборки являются зависимыми, поэтому к ним нельзя применить обычный t-тест `st.ttest_ind`; в данном случае необходимо использовать t-тест для зависимых выборок `st.ttest_rel`"
   ]
  },
  {
   "cell_type": "markdown",
   "id": "86614093",
   "metadata": {},
   "source": [
    "### 6.5. Общие выводы \n",
    "<a class=\"anchor\" id=\"6.5\"></a>"
   ]
  },
  {
   "cell_type": "markdown",
   "id": "81c36ff7",
   "metadata": {},
   "source": [
    "1. Результаты правостороннего t-теста со значением уровня статистической значимости $\\alpha=0.05$ показали, что средняя продолжительность поездки среди пользователей с подпиской больше, чем среди пользователей без подписки со значением p-value $1.28 \\cdot 10^{-34}$;\n",
    "2. Несмотря на то, что выборочное среднее $\\bar{x}_1^d=3045.5$ (средняя дальность поездки для пользователей с подпиской) меньше, чем 3 130, результаты левостороннего t-теста со значением уровня статистической значимости $\\alpha=0.05$ показали, что это отклонение не является статистически значимым;\n",
    "3. Результаты правостороннего t-теста со значением уровня статистической значимости $\\alpha=0.05$ показаои, что средняя помесячная выруска от пользователей с подпиской больше, чем от пользователей без подписки со значением p-value $8.87 \\cdot 10^{-40}$;\n",
    "4. Если бы пришлось проверять статистическую гипотезу для двух выборок из одних и тех же пользователей до и после некоторого события, необходимо было бы применить t-тест для зависимых выборок `st.ttest_rel`."
   ]
  },
  {
   "cell_type": "markdown",
   "id": "1301df77",
   "metadata": {},
   "source": [
    "## 7. Распределения \n",
    "<a class=\"anchor\" id=\"7\"></a>"
   ]
  },
  {
   "cell_type": "markdown",
   "id": "00992569",
   "metadata": {},
   "source": [
    "### 7.1. Минимальное количество промокодов \n",
    "<a class=\"anchor\" id=\"7.1\"></a>"
   ]
  },
  {
   "cell_type": "markdown",
   "id": "85e808c3",
   "metadata": {},
   "source": [
    "После бесплатного пробного периода подписку продлевают 10% пользователей. Необходимо выяснить, какое минимальное количество промокодов нужно разослать, чтобы с вероятностью 0.95 как минимум 100 из клиентов продлят подписку."
   ]
  },
  {
   "cell_type": "markdown",
   "id": "d2790351",
   "metadata": {},
   "source": [
    "По завершении периода действия подписки пользователь может либо отказаться от неё, либо продлить, совершив соответствующий платёж: таким образом, в данном случае имеем дело с биномиальным распределением с заданным значением параметра $p=0.1$ — вероятность, что пользователь продлит подписку, и неизвестным значением параметра $n$."
   ]
  },
  {
   "cell_type": "markdown",
   "id": "edfb13d6",
   "metadata": {},
   "source": [
    "Попробуем рассчитать значение $P(x>100) = 1 - F(100)$ для нескольких значений $n$ в диапазоне от 1 000 до 2 000 с шагом в 10, и построим линейный график с соответствующими значениями вероятности:"
   ]
  },
  {
   "cell_type": "code",
   "execution_count": 35,
   "id": "8c187943",
   "metadata": {},
   "outputs": [
    {
     "data": {
      "image/png": "[encoded data removed]",
      "text/plain": [
       "<Figure size 512x384 with 1 Axes>"
      ]
     },
     "metadata": {
      "image/png": {
       "height": 350,
       "width": 460
      }
     },
     "output_type": "display_data"
    }
   ],
   "source": [
    "N = np.arange(1000, 2000, 10)\n",
    "probs = []\n",
    "\n",
    "for n in N:\n",
    "    probs.append(1 - st.binom.cdf(100, n, 0.1))\n",
    "\n",
    "plt.axhline(y=0.95, linestyle='-', color='#89A1AE')\n",
    "plt.plot(N, probs)\n",
    "plt.xlabel('Значение $n$')\n",
    "plt.ylabel('Значение $P(x>100)$')\n",
    "plt.show()"
   ]
  },
  {
   "cell_type": "markdown",
   "id": "b7b5b404",
   "metadata": {},
   "source": [
    "Из графика видно, что искомая вероятность 0.95 соответствует некоторому $n \\approx 1 \\, 170$; найдем это $n$:"
   ]
  },
  {
   "cell_type": "code",
   "execution_count": 36,
   "id": "bace5003",
   "metadata": {},
   "outputs": [
    {
     "data": {
      "text/plain": [
       "{1165: 0.943,\n",
       " 1166: 0.944,\n",
       " 1167: 0.945,\n",
       " 1168: 0.946,\n",
       " 1169: 0.947,\n",
       " 1170: 0.948,\n",
       " 1171: 0.949,\n",
       " 1172: 0.95,\n",
       " 1173: 0.951,\n",
       " 1174: 0.952}"
      ]
     },
     "execution_count": 36,
     "metadata": {},
     "output_type": "execute_result"
    }
   ],
   "source": [
    "N = np.arange(1165, 1175, 1)\n",
    "probs = dict()\n",
    "\n",
    "for n in N:\n",
    "    probs[n] = round(1 - st.binom.cdf(100, n, 0.1), 3)\n",
    "\n",
    "probs"
   ]
  },
  {
   "cell_type": "markdown",
   "id": "649acd96",
   "metadata": {},
   "source": [
    "Таким образом, искомый параметр n=1 172. Построим PMF распределения для диапазона $[0, \\, 200]$:"
   ]
  },
  {
   "cell_type": "code",
   "execution_count": 37,
   "id": "60c6a6d4",
   "metadata": {},
   "outputs": [
    {
     "data": {
      "image/png": "[encoded data removed]",
      "text/plain": [
       "<Figure size 512x384 with 1 Axes>"
      ]
     },
     "metadata": {
      "image/png": {
       "height": 352,
       "width": 474
      }
     },
     "output_type": "display_data"
    }
   ],
   "source": [
    "distr = st.binom(n=1172, p=0.1)\n",
    "x = np.arange(0, 175, 1)\n",
    "\n",
    "plt.bar(x, distr.pmf(x))\n",
    "plt.xlabel('Число успехов $k$')\n",
    "plt.ylabel('$P(x=k)$')\n",
    "plt.show()"
   ]
  },
  {
   "cell_type": "markdown",
   "id": "d8390dbb",
   "metadata": {},
   "source": [
    "**Вывод:** Искомое значение минимального числа промокодов, которые необходимо разослать, чтобы с вероятностью 0.95 как минимум 100 клиентов продлили подписку, равно $n=1 \\, 172$"
   ]
  },
  {
   "cell_type": "markdown",
   "id": "4be1f9d4",
   "metadata": {},
   "source": [
    "### 7.2. Вероятность открытия уведомлений\n",
    "<a class=\"anchor\" id=\"7.2\"></a>"
   ]
  },
  {
   "cell_type": "markdown",
   "id": "5d7479b1",
   "metadata": {},
   "source": [
    "Отдел маркетинга рассылает клиентам push-уведомления в мобильном приложении. Клиенты могут открыть его или не открывать. Известно, что уведомления открывают около 40% получивших клиентов. Отдел планирует разослать \n",
    "1 млн уведомлений. С помощью аппроксимации постройте примерный график распределения и оцените вероятность того, что уведомление откроют не более \n",
    "399,5 тыс. пользователей."
   ]
  },
  {
   "cell_type": "markdown",
   "id": "69214158",
   "metadata": {},
   "source": [
    "Клиенты могут открыть уведомление, а могут не открывать: таким образом, в данном случае имеем дело с биномиальным распределением с параметрами $n=1 \\, 000 \\, 000, \\ p=0.4$.\n",
    "\n",
    "Воспользуемся нормальной аппроксимацией биномиального распеделения: в данном случае такая аппроксимация правомерна, т. к. в данном случае $\\mu=np=400 \\, 000, \\ \\sigma=\\sqrt{np(1-p)}=490$ и промежуток $\\mu \\pm 3\\sigma$, т. е. $400 \\,000 \\pm 1 \\, 470 $ лежит в пределах $[0, \\, 1 \\, 000 \\, 000]$.\n",
    "\n",
    "Построим PDF распределения:"
   ]
  },
  {
   "cell_type": "code",
   "execution_count": 38,
   "id": "e8a2c555",
   "metadata": {},
   "outputs": [
    {
     "data": {
      "image/png": "[encoded data removed]",
      "text/plain": [
       "<Figure size 512x384 with 1 Axes>"
      ]
     },
     "metadata": {
      "image/png": {
       "height": 353,
       "width": 482
      }
     },
     "output_type": "display_data"
    }
   ],
   "source": [
    "mu = 400000\n",
    "sigma = 240000\n",
    "distr = st.norm(400000, 490)\n",
    "\n",
    "x = np.linspace(distr.ppf(0.001), distr.ppf(0.999), 100)\n",
    "plt.plot(x, distr.pdf(x), '-')\n",
    "plt.xlabel('Число открытых уведомлений $k$')\n",
    "plt.ylabel('$P(x=k)$')\n",
    "plt.show()"
   ]
  },
  {
   "cell_type": "markdown",
   "id": "291f4938",
   "metadata": {},
   "source": [
    "С поомщью аппроксимации оценим вероятность того, что уведомление откроют не более 399 500 пользователей, т. е. $P(x \\le 399 \\, 500)=F(399 \\, 500)$:"
   ]
  },
  {
   "cell_type": "code",
   "execution_count": 39,
   "id": "fbddb674",
   "metadata": {},
   "outputs": [
    {
     "name": "stdout",
     "output_type": "stream",
     "text": [
      "P(x < 399 500) = 0.154\n"
     ]
    }
   ],
   "source": [
    "print(f'P(x < 399 500) = {round(distr.cdf(399500), 3)}')"
   ]
  },
  {
   "cell_type": "markdown",
   "id": "543c8ac0",
   "metadata": {},
   "source": [
    "**Вывод:** С помощью аппроксимации биномиального распределения нормальным, был построен график PDF для распределения числа открытых уведомлений, а также найдена вероятность того, что уведомление откроют не более 399 500 пользователей: $P(x \\le 399 \\, 500)=0.15$"
   ]
  },
  {
   "cell_type": "markdown",
   "id": "ce767e97",
   "metadata": {},
   "source": [
    "## 8. Выводы\n",
    "<a class=\"anchor\" id=\"8\"></a>"
   ]
  },
  {
   "cell_type": "markdown",
   "id": "76ee4eaa",
   "metadata": {},
   "source": [
    "В проекте использовались данные сервиса аренды самокатов GoFast: данные содержат информацию о 1534 пользователях из восьми городов, а также об их поездках (18 068 наблюдений).\n",
    "\n",
    "В ходе проведения предобработки данных была произведена работа по приведению данных к необходимому типу, а также по удалению дубликотов. \n",
    "\n",
    "В ходе проведения исследовательского анализа данных, были получены следующие выводы:\n",
    "1. В данных представлены 8 городов; наибольшее число поездок — в Пятигорске (219), наименьшее — в Москве (168, т. е. на 23.3% меньше);\n",
    "2. Число пользователей без подписки — 835 (54.4% выборки); число пользователей с подпиской — 699 (45.6% выборки, т. е. на 16.3% меньше);\n",
    "3. Возраст пользователей варьируется от 12 до 43 лет и имеет распределение, близкое к нормальному, со средним $\\bar{x}^{\\text{age}}=24.9$ и стандартным отклонением $\\text{sd}^{\\text{age}}=4.57$;\n",
    "4. Расстояние, которое пользователь преодолел за одну поездку, варьируется от 0.9 до 7 211 м и является бимодальным, данные можно разделить на две группы, распределение в каждой из которых близко к нормальному:\n",
    "      * короткие поездки: 0 ... 1 500 м с модой 800 м (около 10% всех поездок)\n",
    "      * длинные поездки: более 1500 м с модой 3 200 м (около 90% всех поездок)     \n",
    "Вероятно, наличие коротких поездок связано с тем, что новым пользователям интересно \"попробовать\" покататься;\n",
    "6. Продолжительность поездок варьируется от 30 сек до 40.8 мин и имеет распределение, близкое к нормальному, со средним $\\bar{x}^{d}=17.8$ и стандартным отклонением $\\text{sd}^{d}=6.1$;  \n",
    "   Аномалия из 95 поездок длительностью 30 сек (свойственная только для пользователей без подписки), судя по расстоянию этих поездок, появилась из-за ошибки и была удалена.\n",
    "\n",
    "Данные о пользователях и их поездах были объединыне в общий датафрейм `df`, на основе которого были также созданы датафреймы `df_free` и `df_ultra` с информацией о пользователях без подписки и с подпиской соовтеттвенно. Были получены следующие выводы:\n",
    "1. Относительно распределений расстояния поездки:\n",
    "   * Выборки отличаются средним и медианой: для пользователей с подпиской $\\bar{x}^d_1=3 \\, 115, \\ \\text{me}^d_1=3 \\, 148$, а для пользователей без подписки эти значения меньше и составляют $\\bar{x}^d_0=3 \\, 045, \\ \\text{me}^d_0=3 \\, 115$;\n",
    "   * Данные для пользователей с подпиской менее вариативны ($\\text{sd}^d_1=836.9$), чем для пользователей без подписки ($\\text{sd}^d_0=1246.2$)\n",
    "2. Относительно распределения продолжительности поездки:\n",
    "   * Распределения для обеих групп пользователей близки к нормальному, однако в среднем длительность поездки для пользователей с подпиской (со средним и медианой $\\bar{x}^t_1=18.5, \\ \\text{me}^t_1=18.2$) больше, чем для пользователей без подписки (со средним и медианой $\\bar{x}^t_0=17.4, \\ \\text{me}^t_0=17.3$)\n",
    "  \n",
    "Был создан датафрейм `df_agg` с аггрегированными данными о поездах; было расчитано, что пользователи с подпиской (со средним и медианой $\\bar{x}_1^\\$=362.8, \\ \\text{me}_1^\\$=337 $), в среднем, приносят компании на 10% больший доход, чем пользователи без подписки (со средним и медианой $\\bar{x}_0^\\$=328.6, \\ \\text{me}_0^\\$=274 $).\n",
    "\n",
    "Были проверены некоторые статистические гипотезы:\n",
    "1. Результаты правостороннего t-теста со значением уровня статистической значимости $\\alpha=0.05$ показали, что средняя продолжительность поездки среди пользователей с подпиской больше, чем среди пользователей без подписки со значением p-value $1.28 \\cdot 10^{-34}$;\n",
    "2. Результаты правостороннего t-теста со значением уровня статистической значимости $\\alpha=0.05$ показали, что действительно можно сказать, что расстояние, которое проезжают пользователи с подпиской за одну поездку, не превышает 3 130 м;\n",
    "3. Результаты правостороннего t-теста со значением уровня статистической значимости $\\alpha=0.05$ показали, что средняя помесячная выруска от пользователей с подпиской больше, чем от пользователей без подписки со значением p-value $8.87 \\cdot 10^{-40}$;\n",
    "4. Если бы пришлось проверять статистическую гипотезу для двух выборок из одних и тех же пользователей до и после некоторого события, необходимо было бы применить t-тест для зависимых выборок `st.ttest_rel`.\n",
    "\n",
    "Были решены задачи, связанные с построением биномиальных распределений:\n",
    "1. Минимальное число промокодов, которые необходимо разослать, чтобы с вероятностью 0.95 как минимум 100 клиентов продлили подписку, равно $n=1 \\, 172$;\n",
    "2. С помощью аппроксимации биномиального распределения нормальным, был построен график PDF для распределения числа открытых уведомлений, а также найдена вероятность того, что уведомление откроют не более 399 500 пользователей: $P(x \\le 399 \\, 500)=0.15$."
   ]
  }
 ],
 "metadata": {
  "ExecuteTimeLog": [
   {
    "duration": 2488,
    "start_time": "2024-01-18T01:17:18.750Z"
   },
   {
    "duration": 357,
    "start_time": "2024-01-18T01:17:21.241Z"
   },
   {
    "duration": 5,
    "start_time": "2024-01-18T01:17:21.601Z"
   },
   {
    "duration": 47,
    "start_time": "2024-01-18T01:17:21.609Z"
   },
   {
    "duration": 34,
    "start_time": "2024-01-18T01:17:21.658Z"
   },
   {
    "duration": 30,
    "start_time": "2024-01-18T01:17:21.694Z"
   },
   {
    "duration": 14,
    "start_time": "2024-01-18T01:17:21.725Z"
   },
   {
    "duration": 42,
    "start_time": "2024-01-18T01:17:21.740Z"
   },
   {
    "duration": 32,
    "start_time": "2024-01-18T01:17:21.784Z"
   },
   {
    "duration": 4,
    "start_time": "2024-01-18T01:17:21.818Z"
   },
   {
    "duration": 5,
    "start_time": "2024-01-18T01:17:21.824Z"
   },
   {
    "duration": 288,
    "start_time": "2024-01-18T01:17:21.830Z"
   },
   {
    "duration": 206,
    "start_time": "2024-01-18T01:17:22.120Z"
   },
   {
    "duration": 356,
    "start_time": "2024-01-18T01:17:22.328Z"
   },
   {
    "duration": 351,
    "start_time": "2024-01-18T01:17:22.686Z"
   },
   {
    "duration": 9,
    "start_time": "2024-01-18T01:17:23.038Z"
   },
   {
    "duration": 362,
    "start_time": "2024-01-18T01:17:23.049Z"
   },
   {
    "duration": 4,
    "start_time": "2024-01-18T01:17:23.413Z"
   },
   {
    "duration": 38,
    "start_time": "2024-01-18T01:17:23.419Z"
   },
   {
    "duration": 65,
    "start_time": "2024-01-18T01:17:23.459Z"
   },
   {
    "duration": 1436,
    "start_time": "2024-01-18T01:17:23.526Z"
   },
   {
    "duration": 40,
    "start_time": "2024-01-18T01:17:24.964Z"
   },
   {
    "duration": 14,
    "start_time": "2024-01-18T01:17:25.006Z"
   },
   {
    "duration": 14,
    "start_time": "2024-01-18T01:17:25.021Z"
   },
   {
    "duration": 65,
    "start_time": "2024-01-18T01:17:25.037Z"
   },
   {
    "duration": 529,
    "start_time": "2024-01-18T01:17:25.104Z"
   },
   {
    "duration": 552,
    "start_time": "2024-01-18T01:17:25.635Z"
   },
   {
    "duration": 6,
    "start_time": "2024-01-18T01:17:26.190Z"
   },
   {
    "duration": 21,
    "start_time": "2024-01-18T01:17:26.197Z"
   },
   {
    "duration": 13,
    "start_time": "2024-01-18T01:17:26.219Z"
   },
   {
    "duration": 421,
    "start_time": "2024-01-18T01:17:26.233Z"
   },
   {
    "duration": 8,
    "start_time": "2024-01-18T01:17:26.656Z"
   },
   {
    "duration": 454,
    "start_time": "2024-01-18T01:17:26.686Z"
   },
   {
    "duration": 284,
    "start_time": "2024-01-18T01:17:27.142Z"
   },
   {
    "duration": 4,
    "start_time": "2024-01-18T01:17:27.428Z"
   },
   {
    "duration": 6,
    "start_time": "2024-01-18T01:24:33.527Z"
   },
   {
    "duration": 2273,
    "start_time": "2024-01-18T01:29:37.125Z"
   },
   {
    "duration": 173,
    "start_time": "2024-01-18T01:29:39.400Z"
   },
   {
    "duration": 3,
    "start_time": "2024-01-18T01:29:39.575Z"
   },
   {
    "duration": 54,
    "start_time": "2024-01-18T01:29:39.580Z"
   },
   {
    "duration": 35,
    "start_time": "2024-01-18T01:29:39.636Z"
   },
   {
    "duration": 30,
    "start_time": "2024-01-18T01:29:39.681Z"
   },
   {
    "duration": 13,
    "start_time": "2024-01-18T01:29:39.712Z"
   },
   {
    "duration": 20,
    "start_time": "2024-01-18T01:29:39.727Z"
   },
   {
    "duration": 58,
    "start_time": "2024-01-18T01:29:39.748Z"
   },
   {
    "duration": 3,
    "start_time": "2024-01-18T01:29:39.808Z"
   },
   {
    "duration": 8,
    "start_time": "2024-01-18T01:29:39.813Z"
   },
   {
    "duration": 267,
    "start_time": "2024-01-18T01:29:39.822Z"
   },
   {
    "duration": 209,
    "start_time": "2024-01-18T01:29:40.091Z"
   },
   {
    "duration": 360,
    "start_time": "2024-01-18T01:29:40.303Z"
   },
   {
    "duration": 349,
    "start_time": "2024-01-18T01:29:40.665Z"
   },
   {
    "duration": 8,
    "start_time": "2024-01-18T01:29:41.016Z"
   },
   {
    "duration": 357,
    "start_time": "2024-01-18T01:29:41.026Z"
   },
   {
    "duration": 5,
    "start_time": "2024-01-18T01:29:41.385Z"
   },
   {
    "duration": 48,
    "start_time": "2024-01-18T01:29:41.392Z"
   },
   {
    "duration": 65,
    "start_time": "2024-01-18T01:29:41.442Z"
   },
   {
    "duration": 1453,
    "start_time": "2024-01-18T01:29:41.509Z"
   },
   {
    "duration": 37,
    "start_time": "2024-01-18T01:29:42.964Z"
   },
   {
    "duration": 12,
    "start_time": "2024-01-18T01:29:43.003Z"
   },
   {
    "duration": 16,
    "start_time": "2024-01-18T01:29:43.016Z"
   },
   {
    "duration": 59,
    "start_time": "2024-01-18T01:29:43.033Z"
   },
   {
    "duration": 506,
    "start_time": "2024-01-18T01:29:43.094Z"
   },
   {
    "duration": 559,
    "start_time": "2024-01-18T01:29:43.602Z"
   },
   {
    "duration": 17,
    "start_time": "2024-01-18T01:29:44.163Z"
   },
   {
    "duration": 6,
    "start_time": "2024-01-18T01:29:44.181Z"
   },
   {
    "duration": 24,
    "start_time": "2024-01-18T01:29:44.188Z"
   },
   {
    "duration": 419,
    "start_time": "2024-01-18T01:29:44.214Z"
   },
   {
    "duration": 8,
    "start_time": "2024-01-18T01:29:44.634Z"
   },
   {
    "duration": 445,
    "start_time": "2024-01-18T01:29:44.643Z"
   },
   {
    "duration": 292,
    "start_time": "2024-01-18T01:29:45.090Z"
   },
   {
    "duration": 4,
    "start_time": "2024-01-18T01:29:45.383Z"
   },
   {
    "duration": 3385,
    "start_time": "2024-01-18T14:49:38.207Z"
   },
   {
    "duration": 381,
    "start_time": "2024-01-18T14:49:41.594Z"
   },
   {
    "duration": 4,
    "start_time": "2024-01-18T14:49:41.976Z"
   },
   {
    "duration": 55,
    "start_time": "2024-01-18T14:49:41.982Z"
   },
   {
    "duration": 40,
    "start_time": "2024-01-18T14:49:42.039Z"
   },
   {
    "duration": 30,
    "start_time": "2024-01-18T14:49:42.081Z"
   },
   {
    "duration": 14,
    "start_time": "2024-01-18T14:49:42.112Z"
   },
   {
    "duration": 41,
    "start_time": "2024-01-18T14:49:42.127Z"
   },
   {
    "duration": 4,
    "start_time": "2024-01-18T14:49:42.169Z"
   },
   {
    "duration": 15,
    "start_time": "2024-01-18T14:49:42.176Z"
   },
   {
    "duration": 11,
    "start_time": "2024-01-18T14:49:42.193Z"
   },
   {
    "duration": 7,
    "start_time": "2024-01-18T14:49:42.206Z"
   },
   {
    "duration": 12,
    "start_time": "2024-01-18T14:49:42.215Z"
   },
   {
    "duration": 439,
    "start_time": "2024-01-18T14:49:42.228Z"
   },
   {
    "duration": 409,
    "start_time": "2024-01-18T14:49:42.668Z"
   },
   {
    "duration": 213,
    "start_time": "2024-01-18T14:49:43.078Z"
   },
   {
    "duration": 566,
    "start_time": "2024-01-18T14:49:43.293Z"
   },
   {
    "duration": 472,
    "start_time": "2024-01-18T14:49:43.861Z"
   },
   {
    "duration": 8,
    "start_time": "2024-01-18T14:49:44.335Z"
   },
   {
    "duration": 452,
    "start_time": "2024-01-18T14:49:44.345Z"
   },
   {
    "duration": 4,
    "start_time": "2024-01-18T14:49:44.799Z"
   },
   {
    "duration": 334,
    "start_time": "2024-01-18T14:49:44.805Z"
   },
   {
    "duration": 467,
    "start_time": "2024-01-18T14:49:45.141Z"
   },
   {
    "duration": 35,
    "start_time": "2024-01-18T14:49:45.609Z"
   },
   {
    "duration": 54,
    "start_time": "2024-01-18T14:49:45.646Z"
   },
   {
    "duration": 1912,
    "start_time": "2024-01-18T14:49:45.702Z"
   },
   {
    "duration": 1213,
    "start_time": "2024-01-18T14:49:47.616Z"
   },
   {
    "duration": 40,
    "start_time": "2024-01-18T14:49:48.832Z"
   },
   {
    "duration": 12,
    "start_time": "2024-01-18T14:49:48.873Z"
   },
   {
    "duration": 52,
    "start_time": "2024-01-18T14:49:48.887Z"
   },
   {
    "duration": 33,
    "start_time": "2024-01-18T14:49:48.941Z"
   },
   {
    "duration": 822,
    "start_time": "2024-01-18T14:49:48.975Z"
   },
   {
    "duration": 5,
    "start_time": "2024-01-18T14:49:49.798Z"
   },
   {
    "duration": 7,
    "start_time": "2024-01-18T14:49:49.804Z"
   },
   {
    "duration": 9,
    "start_time": "2024-01-18T14:49:49.812Z"
   },
   {
    "duration": 573,
    "start_time": "2024-01-18T14:49:49.822Z"
   },
   {
    "duration": 8,
    "start_time": "2024-01-18T14:49:50.396Z"
   },
   {
    "duration": 606,
    "start_time": "2024-01-18T14:49:50.406Z"
   },
   {
    "duration": 356,
    "start_time": "2024-01-18T14:49:51.014Z"
   },
   {
    "duration": 3,
    "start_time": "2024-01-18T14:49:51.372Z"
   }
  ],
  "kernelspec": {
   "display_name": "Python 3 (ipykernel)",
   "language": "python",
   "name": "python3"
  },
  "language_info": {
   "codemirror_mode": {
    "name": "ipython",
    "version": 3
   },
   "file_extension": ".py",
   "mimetype": "text/x-python",
   "name": "python",
   "nbconvert_exporter": "python",
   "pygments_lexer": "ipython3",
   "version": "3.10.10"
  },
  "toc": {
   "base_numbering": 1,
   "nav_menu": {},
   "number_sections": true,
   "sideBar": true,
   "skip_h1_title": true,
   "title_cell": "Table of Contents",
   "title_sidebar": "Contents",
   "toc_cell": false,
   "toc_position": {},
   "toc_section_display": true,
   "toc_window_display": false
  }
 },
 "nbformat": 4,
 "nbformat_minor": 5
}
