{
 "cells": [
  {
   "cell_type": "markdown",
   "metadata": {
    "id": "I3oOon0l0sbX"
   },
   "source": [
    "<div style=\"border:solid green 3px; padding: 20px\">\n",
    "<b>Результат участия в Kaggle Competition:</b>  \n",
    "    \n",
    "    Accuracy: 0.99239\n",
    "    Место в турнирной таблице: 237 из 1679 (14.1%)"
   ]
  },
  {
   "cell_type": "markdown",
   "metadata": {
    "id": "7M16m0kY1Fh5"
   },
   "source": [
    "# MNIST: Digit Recognizer"
   ]
  },
  {
   "cell_type": "markdown",
   "metadata": {
    "id": "ysI6i7J41LQ5"
   },
   "source": [
    "**Задача:** Cоздать многоклассовый классификатор, который на основе feature vector $\\textbf{x}^{(i)}$ определяет значение соовтетсвующей ему цифры от 0 до 9. Данная задача — задача классификации; для обучения модели используется обучение с учителем.\n",
    "\n",
    "**Данные**: Файлы `mnist_train.csv` и `mnist_test.csv` соедржат обучающиую и тестовую выборки соовтетственно; формат предсказания — датафрейм из двух столбцов: `ImageId` и `Label`.\n",
    "\n",
    "**Метрика**: Accuracy — доля правильно идентифицированных наблюдений."
   ]
  },
  {
   "cell_type": "markdown",
   "metadata": {
    "id": "DRaOTNi01WUt"
   },
   "source": [
    "## 1. Получение данных"
   ]
  },
  {
   "cell_type": "code",
   "execution_count": 36,
   "metadata": {
    "id": "NCLgQdOq1W1M"
   },
   "outputs": [],
   "source": [
    "# Импортируем библиотеки\n",
    "import numpy as np\n",
    "import pandas as pd\n",
    "pd.set_option('display.max_columns', 100)\n",
    "from scipy import stats\n",
    "from scipy.ndimage import shift\n",
    "\n",
    "import matplotlib.pyplot as plt\n",
    "from matplotlib.pyplot import subplots\n",
    "import seaborn as sns\n",
    "plt.style.use('https://drive.google.com/uc?id=1NKA45YUOjoDwewGrI88Nx_hrqtBv5kuI&export=download')\n",
    "%matplotlib inline\n",
    "%config InlineBackend.figure_format = 'retina'\n",
    "\n",
    "from sklearn.preprocessing import MinMaxScaler\n",
    "from sklearn.model_selection import train_test_split\n",
    "from sklearn.metrics import confusion_matrix\n",
    "\n",
    "from keras.utils import to_categorical\n",
    "from keras.preprocessing.image import ImageDataGenerator\n",
    "from keras.models import Sequential\n",
    "from keras.layers import Dense, Dropout, Flatten, Conv2D, MaxPool2D, BatchNormalization\n",
    "from keras.callbacks import ReduceLROnPlateau"
   ]
  },
  {
   "cell_type": "markdown",
   "metadata": {
    "id": "I1IF2zWK1qE7"
   },
   "source": [
    "Получим обучающую и тестовую выборки и сохраним их в переменные `X_train` и `X_test` сооветственно. Значения целевой переменной — `Label` — сохраним в переменную `y`:"
   ]
  },
  {
   "cell_type": "code",
   "execution_count": 6,
   "metadata": {
    "id": "G9fRyrUw1qSs"
   },
   "outputs": [],
   "source": [
    "X_train = pd.read_csv('https://drive.google.com/uc?id=1UZVdXY1tKgQKYfMc4r9WbjOw4kOxvtaf&export=download')\n",
    "X_test = pd.read_csv('https://drive.google.com/uc?id=1kruOSAm1rz_RX_OjaLDekwysNqhQsAKE&export=download')\n",
    "submission = pd.read_csv('https://drive.google.com/uc?id=1Ho3H1Fn6XyWuKCzPNE-Zj-TDcfMqPT0x&export=download')\n",
    "\n",
    "y = X_train['label']\n",
    "X_train = X_train.drop('label', axis=1)"
   ]
  },
  {
   "cell_type": "markdown",
   "metadata": {
    "id": "Nm6PfAI_3Gjk"
   },
   "source": [
    "## 2. Исследовательский анализ данных"
   ]
  },
  {
   "cell_type": "markdown",
   "metadata": {
    "id": "ErZl3Ha93J7d"
   },
   "source": [
    "Данный датасет уже является подготовленным и не содержит пропусков. Познакомимся с данными:"
   ]
  },
  {
   "cell_type": "code",
   "execution_count": 7,
   "metadata": {
    "colab": {
     "base_uri": "https://localhost:8080/",
     "height": 256
    },
    "id": "gRlGx_gG3G0a",
    "outputId": "bf64d3d3-e4f1-4665-a1c8-78bc11cd5780"
   },
   "outputs": [
    {
     "data": {
      "text/html": [
       "\n",
       "  <div id=\"df-e57cd96c-20ee-4d06-bc50-e58abd8d4270\" class=\"colab-df-container\">\n",
       "    <div>\n",
       "<style scoped>\n",
       "    .dataframe tbody tr th:only-of-type {\n",
       "        vertical-align: middle;\n",
       "    }\n",
       "\n",
       "    .dataframe tbody tr th {\n",
       "        vertical-align: top;\n",
       "    }\n",
       "\n",
       "    .dataframe thead th {\n",
       "        text-align: right;\n",
       "    }\n",
       "</style>\n",
       "<table border=\"1\" class=\"dataframe\">\n",
       "  <thead>\n",
       "    <tr style=\"text-align: right;\">\n",
       "      <th></th>\n",
       "      <th>pixel0</th>\n",
       "      <th>pixel1</th>\n",
       "      <th>pixel2</th>\n",
       "      <th>pixel3</th>\n",
       "      <th>pixel4</th>\n",
       "      <th>pixel5</th>\n",
       "      <th>pixel6</th>\n",
       "      <th>pixel7</th>\n",
       "      <th>pixel8</th>\n",
       "      <th>pixel9</th>\n",
       "      <th>pixel10</th>\n",
       "      <th>pixel11</th>\n",
       "      <th>pixel12</th>\n",
       "      <th>pixel13</th>\n",
       "      <th>pixel14</th>\n",
       "      <th>pixel15</th>\n",
       "      <th>pixel16</th>\n",
       "      <th>pixel17</th>\n",
       "      <th>pixel18</th>\n",
       "      <th>pixel19</th>\n",
       "      <th>pixel20</th>\n",
       "      <th>pixel21</th>\n",
       "      <th>pixel22</th>\n",
       "      <th>pixel23</th>\n",
       "      <th>pixel24</th>\n",
       "      <th>pixel25</th>\n",
       "      <th>pixel26</th>\n",
       "      <th>pixel27</th>\n",
       "      <th>pixel28</th>\n",
       "      <th>pixel29</th>\n",
       "      <th>pixel30</th>\n",
       "      <th>pixel31</th>\n",
       "      <th>pixel32</th>\n",
       "      <th>pixel33</th>\n",
       "      <th>pixel34</th>\n",
       "      <th>pixel35</th>\n",
       "      <th>pixel36</th>\n",
       "      <th>pixel37</th>\n",
       "      <th>pixel38</th>\n",
       "      <th>pixel39</th>\n",
       "      <th>pixel40</th>\n",
       "      <th>pixel41</th>\n",
       "      <th>pixel42</th>\n",
       "      <th>pixel43</th>\n",
       "      <th>pixel44</th>\n",
       "      <th>pixel45</th>\n",
       "      <th>pixel46</th>\n",
       "      <th>pixel47</th>\n",
       "      <th>pixel48</th>\n",
       "      <th>pixel49</th>\n",
       "      <th>...</th>\n",
       "      <th>pixel734</th>\n",
       "      <th>pixel735</th>\n",
       "      <th>pixel736</th>\n",
       "      <th>pixel737</th>\n",
       "      <th>pixel738</th>\n",
       "      <th>pixel739</th>\n",
       "      <th>pixel740</th>\n",
       "      <th>pixel741</th>\n",
       "      <th>pixel742</th>\n",
       "      <th>pixel743</th>\n",
       "      <th>pixel744</th>\n",
       "      <th>pixel745</th>\n",
       "      <th>pixel746</th>\n",
       "      <th>pixel747</th>\n",
       "      <th>pixel748</th>\n",
       "      <th>pixel749</th>\n",
       "      <th>pixel750</th>\n",
       "      <th>pixel751</th>\n",
       "      <th>pixel752</th>\n",
       "      <th>pixel753</th>\n",
       "      <th>pixel754</th>\n",
       "      <th>pixel755</th>\n",
       "      <th>pixel756</th>\n",
       "      <th>pixel757</th>\n",
       "      <th>pixel758</th>\n",
       "      <th>pixel759</th>\n",
       "      <th>pixel760</th>\n",
       "      <th>pixel761</th>\n",
       "      <th>pixel762</th>\n",
       "      <th>pixel763</th>\n",
       "      <th>pixel764</th>\n",
       "      <th>pixel765</th>\n",
       "      <th>pixel766</th>\n",
       "      <th>pixel767</th>\n",
       "      <th>pixel768</th>\n",
       "      <th>pixel769</th>\n",
       "      <th>pixel770</th>\n",
       "      <th>pixel771</th>\n",
       "      <th>pixel772</th>\n",
       "      <th>pixel773</th>\n",
       "      <th>pixel774</th>\n",
       "      <th>pixel775</th>\n",
       "      <th>pixel776</th>\n",
       "      <th>pixel777</th>\n",
       "      <th>pixel778</th>\n",
       "      <th>pixel779</th>\n",
       "      <th>pixel780</th>\n",
       "      <th>pixel781</th>\n",
       "      <th>pixel782</th>\n",
       "      <th>pixel783</th>\n",
       "    </tr>\n",
       "  </thead>\n",
       "  <tbody>\n",
       "    <tr>\n",
       "      <th>0</th>\n",
       "      <td>0</td>\n",
       "      <td>0</td>\n",
       "      <td>0</td>\n",
       "      <td>0</td>\n",
       "      <td>0</td>\n",
       "      <td>0</td>\n",
       "      <td>0</td>\n",
       "      <td>0</td>\n",
       "      <td>0</td>\n",
       "      <td>0</td>\n",
       "      <td>0</td>\n",
       "      <td>0</td>\n",
       "      <td>0</td>\n",
       "      <td>0</td>\n",
       "      <td>0</td>\n",
       "      <td>0</td>\n",
       "      <td>0</td>\n",
       "      <td>0</td>\n",
       "      <td>0</td>\n",
       "      <td>0</td>\n",
       "      <td>0</td>\n",
       "      <td>0</td>\n",
       "      <td>0</td>\n",
       "      <td>0</td>\n",
       "      <td>0</td>\n",
       "      <td>0</td>\n",
       "      <td>0</td>\n",
       "      <td>0</td>\n",
       "      <td>0</td>\n",
       "      <td>0</td>\n",
       "      <td>0</td>\n",
       "      <td>0</td>\n",
       "      <td>0</td>\n",
       "      <td>0</td>\n",
       "      <td>0</td>\n",
       "      <td>0</td>\n",
       "      <td>0</td>\n",
       "      <td>0</td>\n",
       "      <td>0</td>\n",
       "      <td>0</td>\n",
       "      <td>0</td>\n",
       "      <td>0</td>\n",
       "      <td>0</td>\n",
       "      <td>0</td>\n",
       "      <td>0</td>\n",
       "      <td>0</td>\n",
       "      <td>0</td>\n",
       "      <td>0</td>\n",
       "      <td>0</td>\n",
       "      <td>0</td>\n",
       "      <td>...</td>\n",
       "      <td>0</td>\n",
       "      <td>0</td>\n",
       "      <td>0</td>\n",
       "      <td>0</td>\n",
       "      <td>0</td>\n",
       "      <td>0</td>\n",
       "      <td>0</td>\n",
       "      <td>0</td>\n",
       "      <td>0</td>\n",
       "      <td>0</td>\n",
       "      <td>0</td>\n",
       "      <td>0</td>\n",
       "      <td>0</td>\n",
       "      <td>0</td>\n",
       "      <td>0</td>\n",
       "      <td>0</td>\n",
       "      <td>0</td>\n",
       "      <td>0</td>\n",
       "      <td>0</td>\n",
       "      <td>0</td>\n",
       "      <td>0</td>\n",
       "      <td>0</td>\n",
       "      <td>0</td>\n",
       "      <td>0</td>\n",
       "      <td>0</td>\n",
       "      <td>0</td>\n",
       "      <td>0</td>\n",
       "      <td>0</td>\n",
       "      <td>0</td>\n",
       "      <td>0</td>\n",
       "      <td>0</td>\n",
       "      <td>0</td>\n",
       "      <td>0</td>\n",
       "      <td>0</td>\n",
       "      <td>0</td>\n",
       "      <td>0</td>\n",
       "      <td>0</td>\n",
       "      <td>0</td>\n",
       "      <td>0</td>\n",
       "      <td>0</td>\n",
       "      <td>0</td>\n",
       "      <td>0</td>\n",
       "      <td>0</td>\n",
       "      <td>0</td>\n",
       "      <td>0</td>\n",
       "      <td>0</td>\n",
       "      <td>0</td>\n",
       "      <td>0</td>\n",
       "      <td>0</td>\n",
       "      <td>0</td>\n",
       "    </tr>\n",
       "    <tr>\n",
       "      <th>1</th>\n",
       "      <td>0</td>\n",
       "      <td>0</td>\n",
       "      <td>0</td>\n",
       "      <td>0</td>\n",
       "      <td>0</td>\n",
       "      <td>0</td>\n",
       "      <td>0</td>\n",
       "      <td>0</td>\n",
       "      <td>0</td>\n",
       "      <td>0</td>\n",
       "      <td>0</td>\n",
       "      <td>0</td>\n",
       "      <td>0</td>\n",
       "      <td>0</td>\n",
       "      <td>0</td>\n",
       "      <td>0</td>\n",
       "      <td>0</td>\n",
       "      <td>0</td>\n",
       "      <td>0</td>\n",
       "      <td>0</td>\n",
       "      <td>0</td>\n",
       "      <td>0</td>\n",
       "      <td>0</td>\n",
       "      <td>0</td>\n",
       "      <td>0</td>\n",
       "      <td>0</td>\n",
       "      <td>0</td>\n",
       "      <td>0</td>\n",
       "      <td>0</td>\n",
       "      <td>0</td>\n",
       "      <td>0</td>\n",
       "      <td>0</td>\n",
       "      <td>0</td>\n",
       "      <td>0</td>\n",
       "      <td>0</td>\n",
       "      <td>0</td>\n",
       "      <td>0</td>\n",
       "      <td>0</td>\n",
       "      <td>0</td>\n",
       "      <td>0</td>\n",
       "      <td>0</td>\n",
       "      <td>0</td>\n",
       "      <td>0</td>\n",
       "      <td>0</td>\n",
       "      <td>0</td>\n",
       "      <td>0</td>\n",
       "      <td>0</td>\n",
       "      <td>0</td>\n",
       "      <td>0</td>\n",
       "      <td>0</td>\n",
       "      <td>...</td>\n",
       "      <td>0</td>\n",
       "      <td>0</td>\n",
       "      <td>0</td>\n",
       "      <td>0</td>\n",
       "      <td>0</td>\n",
       "      <td>0</td>\n",
       "      <td>0</td>\n",
       "      <td>0</td>\n",
       "      <td>0</td>\n",
       "      <td>0</td>\n",
       "      <td>0</td>\n",
       "      <td>0</td>\n",
       "      <td>0</td>\n",
       "      <td>0</td>\n",
       "      <td>0</td>\n",
       "      <td>0</td>\n",
       "      <td>0</td>\n",
       "      <td>0</td>\n",
       "      <td>0</td>\n",
       "      <td>0</td>\n",
       "      <td>0</td>\n",
       "      <td>0</td>\n",
       "      <td>0</td>\n",
       "      <td>0</td>\n",
       "      <td>0</td>\n",
       "      <td>0</td>\n",
       "      <td>0</td>\n",
       "      <td>0</td>\n",
       "      <td>0</td>\n",
       "      <td>0</td>\n",
       "      <td>0</td>\n",
       "      <td>0</td>\n",
       "      <td>0</td>\n",
       "      <td>0</td>\n",
       "      <td>0</td>\n",
       "      <td>0</td>\n",
       "      <td>0</td>\n",
       "      <td>0</td>\n",
       "      <td>0</td>\n",
       "      <td>0</td>\n",
       "      <td>0</td>\n",
       "      <td>0</td>\n",
       "      <td>0</td>\n",
       "      <td>0</td>\n",
       "      <td>0</td>\n",
       "      <td>0</td>\n",
       "      <td>0</td>\n",
       "      <td>0</td>\n",
       "      <td>0</td>\n",
       "      <td>0</td>\n",
       "    </tr>\n",
       "    <tr>\n",
       "      <th>2</th>\n",
       "      <td>0</td>\n",
       "      <td>0</td>\n",
       "      <td>0</td>\n",
       "      <td>0</td>\n",
       "      <td>0</td>\n",
       "      <td>0</td>\n",
       "      <td>0</td>\n",
       "      <td>0</td>\n",
       "      <td>0</td>\n",
       "      <td>0</td>\n",
       "      <td>0</td>\n",
       "      <td>0</td>\n",
       "      <td>0</td>\n",
       "      <td>0</td>\n",
       "      <td>0</td>\n",
       "      <td>0</td>\n",
       "      <td>0</td>\n",
       "      <td>0</td>\n",
       "      <td>0</td>\n",
       "      <td>0</td>\n",
       "      <td>0</td>\n",
       "      <td>0</td>\n",
       "      <td>0</td>\n",
       "      <td>0</td>\n",
       "      <td>0</td>\n",
       "      <td>0</td>\n",
       "      <td>0</td>\n",
       "      <td>0</td>\n",
       "      <td>0</td>\n",
       "      <td>0</td>\n",
       "      <td>0</td>\n",
       "      <td>0</td>\n",
       "      <td>0</td>\n",
       "      <td>0</td>\n",
       "      <td>0</td>\n",
       "      <td>0</td>\n",
       "      <td>0</td>\n",
       "      <td>0</td>\n",
       "      <td>0</td>\n",
       "      <td>0</td>\n",
       "      <td>0</td>\n",
       "      <td>0</td>\n",
       "      <td>0</td>\n",
       "      <td>0</td>\n",
       "      <td>0</td>\n",
       "      <td>0</td>\n",
       "      <td>0</td>\n",
       "      <td>0</td>\n",
       "      <td>0</td>\n",
       "      <td>0</td>\n",
       "      <td>...</td>\n",
       "      <td>0</td>\n",
       "      <td>0</td>\n",
       "      <td>0</td>\n",
       "      <td>0</td>\n",
       "      <td>0</td>\n",
       "      <td>0</td>\n",
       "      <td>0</td>\n",
       "      <td>0</td>\n",
       "      <td>0</td>\n",
       "      <td>0</td>\n",
       "      <td>0</td>\n",
       "      <td>0</td>\n",
       "      <td>0</td>\n",
       "      <td>0</td>\n",
       "      <td>0</td>\n",
       "      <td>0</td>\n",
       "      <td>0</td>\n",
       "      <td>0</td>\n",
       "      <td>0</td>\n",
       "      <td>0</td>\n",
       "      <td>0</td>\n",
       "      <td>0</td>\n",
       "      <td>0</td>\n",
       "      <td>0</td>\n",
       "      <td>0</td>\n",
       "      <td>0</td>\n",
       "      <td>0</td>\n",
       "      <td>0</td>\n",
       "      <td>0</td>\n",
       "      <td>0</td>\n",
       "      <td>0</td>\n",
       "      <td>0</td>\n",
       "      <td>0</td>\n",
       "      <td>0</td>\n",
       "      <td>0</td>\n",
       "      <td>0</td>\n",
       "      <td>0</td>\n",
       "      <td>0</td>\n",
       "      <td>0</td>\n",
       "      <td>0</td>\n",
       "      <td>0</td>\n",
       "      <td>0</td>\n",
       "      <td>0</td>\n",
       "      <td>0</td>\n",
       "      <td>0</td>\n",
       "      <td>0</td>\n",
       "      <td>0</td>\n",
       "      <td>0</td>\n",
       "      <td>0</td>\n",
       "      <td>0</td>\n",
       "    </tr>\n",
       "    <tr>\n",
       "      <th>3</th>\n",
       "      <td>0</td>\n",
       "      <td>0</td>\n",
       "      <td>0</td>\n",
       "      <td>0</td>\n",
       "      <td>0</td>\n",
       "      <td>0</td>\n",
       "      <td>0</td>\n",
       "      <td>0</td>\n",
       "      <td>0</td>\n",
       "      <td>0</td>\n",
       "      <td>0</td>\n",
       "      <td>0</td>\n",
       "      <td>0</td>\n",
       "      <td>0</td>\n",
       "      <td>0</td>\n",
       "      <td>0</td>\n",
       "      <td>0</td>\n",
       "      <td>0</td>\n",
       "      <td>0</td>\n",
       "      <td>0</td>\n",
       "      <td>0</td>\n",
       "      <td>0</td>\n",
       "      <td>0</td>\n",
       "      <td>0</td>\n",
       "      <td>0</td>\n",
       "      <td>0</td>\n",
       "      <td>0</td>\n",
       "      <td>0</td>\n",
       "      <td>0</td>\n",
       "      <td>0</td>\n",
       "      <td>0</td>\n",
       "      <td>0</td>\n",
       "      <td>0</td>\n",
       "      <td>0</td>\n",
       "      <td>0</td>\n",
       "      <td>0</td>\n",
       "      <td>0</td>\n",
       "      <td>0</td>\n",
       "      <td>0</td>\n",
       "      <td>0</td>\n",
       "      <td>0</td>\n",
       "      <td>0</td>\n",
       "      <td>0</td>\n",
       "      <td>0</td>\n",
       "      <td>0</td>\n",
       "      <td>0</td>\n",
       "      <td>0</td>\n",
       "      <td>0</td>\n",
       "      <td>0</td>\n",
       "      <td>0</td>\n",
       "      <td>...</td>\n",
       "      <td>0</td>\n",
       "      <td>0</td>\n",
       "      <td>0</td>\n",
       "      <td>0</td>\n",
       "      <td>0</td>\n",
       "      <td>0</td>\n",
       "      <td>0</td>\n",
       "      <td>0</td>\n",
       "      <td>0</td>\n",
       "      <td>0</td>\n",
       "      <td>0</td>\n",
       "      <td>0</td>\n",
       "      <td>0</td>\n",
       "      <td>0</td>\n",
       "      <td>0</td>\n",
       "      <td>0</td>\n",
       "      <td>0</td>\n",
       "      <td>0</td>\n",
       "      <td>0</td>\n",
       "      <td>0</td>\n",
       "      <td>0</td>\n",
       "      <td>0</td>\n",
       "      <td>0</td>\n",
       "      <td>0</td>\n",
       "      <td>0</td>\n",
       "      <td>0</td>\n",
       "      <td>0</td>\n",
       "      <td>0</td>\n",
       "      <td>0</td>\n",
       "      <td>0</td>\n",
       "      <td>0</td>\n",
       "      <td>0</td>\n",
       "      <td>0</td>\n",
       "      <td>0</td>\n",
       "      <td>0</td>\n",
       "      <td>0</td>\n",
       "      <td>0</td>\n",
       "      <td>0</td>\n",
       "      <td>0</td>\n",
       "      <td>0</td>\n",
       "      <td>0</td>\n",
       "      <td>0</td>\n",
       "      <td>0</td>\n",
       "      <td>0</td>\n",
       "      <td>0</td>\n",
       "      <td>0</td>\n",
       "      <td>0</td>\n",
       "      <td>0</td>\n",
       "      <td>0</td>\n",
       "      <td>0</td>\n",
       "    </tr>\n",
       "    <tr>\n",
       "      <th>4</th>\n",
       "      <td>0</td>\n",
       "      <td>0</td>\n",
       "      <td>0</td>\n",
       "      <td>0</td>\n",
       "      <td>0</td>\n",
       "      <td>0</td>\n",
       "      <td>0</td>\n",
       "      <td>0</td>\n",
       "      <td>0</td>\n",
       "      <td>0</td>\n",
       "      <td>0</td>\n",
       "      <td>0</td>\n",
       "      <td>0</td>\n",
       "      <td>0</td>\n",
       "      <td>0</td>\n",
       "      <td>0</td>\n",
       "      <td>0</td>\n",
       "      <td>0</td>\n",
       "      <td>0</td>\n",
       "      <td>0</td>\n",
       "      <td>0</td>\n",
       "      <td>0</td>\n",
       "      <td>0</td>\n",
       "      <td>0</td>\n",
       "      <td>0</td>\n",
       "      <td>0</td>\n",
       "      <td>0</td>\n",
       "      <td>0</td>\n",
       "      <td>0</td>\n",
       "      <td>0</td>\n",
       "      <td>0</td>\n",
       "      <td>0</td>\n",
       "      <td>0</td>\n",
       "      <td>0</td>\n",
       "      <td>0</td>\n",
       "      <td>0</td>\n",
       "      <td>0</td>\n",
       "      <td>0</td>\n",
       "      <td>0</td>\n",
       "      <td>0</td>\n",
       "      <td>0</td>\n",
       "      <td>0</td>\n",
       "      <td>0</td>\n",
       "      <td>0</td>\n",
       "      <td>0</td>\n",
       "      <td>0</td>\n",
       "      <td>0</td>\n",
       "      <td>0</td>\n",
       "      <td>0</td>\n",
       "      <td>0</td>\n",
       "      <td>...</td>\n",
       "      <td>0</td>\n",
       "      <td>0</td>\n",
       "      <td>0</td>\n",
       "      <td>0</td>\n",
       "      <td>0</td>\n",
       "      <td>0</td>\n",
       "      <td>0</td>\n",
       "      <td>0</td>\n",
       "      <td>0</td>\n",
       "      <td>0</td>\n",
       "      <td>0</td>\n",
       "      <td>0</td>\n",
       "      <td>0</td>\n",
       "      <td>0</td>\n",
       "      <td>0</td>\n",
       "      <td>0</td>\n",
       "      <td>0</td>\n",
       "      <td>0</td>\n",
       "      <td>0</td>\n",
       "      <td>0</td>\n",
       "      <td>0</td>\n",
       "      <td>0</td>\n",
       "      <td>0</td>\n",
       "      <td>0</td>\n",
       "      <td>0</td>\n",
       "      <td>0</td>\n",
       "      <td>0</td>\n",
       "      <td>0</td>\n",
       "      <td>0</td>\n",
       "      <td>0</td>\n",
       "      <td>0</td>\n",
       "      <td>0</td>\n",
       "      <td>0</td>\n",
       "      <td>0</td>\n",
       "      <td>0</td>\n",
       "      <td>0</td>\n",
       "      <td>0</td>\n",
       "      <td>0</td>\n",
       "      <td>0</td>\n",
       "      <td>0</td>\n",
       "      <td>0</td>\n",
       "      <td>0</td>\n",
       "      <td>0</td>\n",
       "      <td>0</td>\n",
       "      <td>0</td>\n",
       "      <td>0</td>\n",
       "      <td>0</td>\n",
       "      <td>0</td>\n",
       "      <td>0</td>\n",
       "      <td>0</td>\n",
       "    </tr>\n",
       "  </tbody>\n",
       "</table>\n",
       "<p>5 rows × 784 columns</p>\n",
       "</div>\n",
       "    <div class=\"colab-df-buttons\">\n",
       "\n",
       "  <div class=\"colab-df-container\">\n",
       "    <button class=\"colab-df-convert\" onclick=\"convertToInteractive('df-e57cd96c-20ee-4d06-bc50-e58abd8d4270')\"\n",
       "            title=\"Convert this dataframe to an interactive table.\"\n",
       "            style=\"display:none;\">\n",
       "\n",
       "  <svg xmlns=\"http://www.w3.org/2000/svg\" height=\"24px\" viewBox=\"0 -960 960 960\">\n",
       "    <path d=\"M120-120v-720h720v720H120Zm60-500h600v-160H180v160Zm220 220h160v-160H400v160Zm0 220h160v-160H400v160ZM180-400h160v-160H180v160Zm440 0h160v-160H620v160ZM180-180h160v-160H180v160Zm440 0h160v-160H620v160Z\"/>\n",
       "  </svg>\n",
       "    </button>\n",
       "\n",
       "  <style>\n",
       "    .colab-df-container {\n",
       "      display:flex;\n",
       "      gap: 12px;\n",
       "    }\n",
       "\n",
       "    .colab-df-convert {\n",
       "      background-color: #E8F0FE;\n",
       "      border: none;\n",
       "      border-radius: 50%;\n",
       "      cursor: pointer;\n",
       "      display: none;\n",
       "      fill: #1967D2;\n",
       "      height: 32px;\n",
       "      padding: 0 0 0 0;\n",
       "      width: 32px;\n",
       "    }\n",
       "\n",
       "    .colab-df-convert:hover {\n",
       "      background-color: #E2EBFA;\n",
       "      box-shadow: 0px 1px 2px rgba(60, 64, 67, 0.3), 0px 1px 3px 1px rgba(60, 64, 67, 0.15);\n",
       "      fill: #174EA6;\n",
       "    }\n",
       "\n",
       "    .colab-df-buttons div {\n",
       "      margin-bottom: 4px;\n",
       "    }\n",
       "\n",
       "    [theme=dark] .colab-df-convert {\n",
       "      background-color: #3B4455;\n",
       "      fill: #D2E3FC;\n",
       "    }\n",
       "\n",
       "    [theme=dark] .colab-df-convert:hover {\n",
       "      background-color: #434B5C;\n",
       "      box-shadow: 0px 1px 3px 1px rgba(0, 0, 0, 0.15);\n",
       "      filter: drop-shadow(0px 1px 2px rgba(0, 0, 0, 0.3));\n",
       "      fill: #FFFFFF;\n",
       "    }\n",
       "  </style>\n",
       "\n",
       "    <script>\n",
       "      const buttonEl =\n",
       "        document.querySelector('#df-e57cd96c-20ee-4d06-bc50-e58abd8d4270 button.colab-df-convert');\n",
       "      buttonEl.style.display =\n",
       "        google.colab.kernel.accessAllowed ? 'block' : 'none';\n",
       "\n",
       "      async function convertToInteractive(key) {\n",
       "        const element = document.querySelector('#df-e57cd96c-20ee-4d06-bc50-e58abd8d4270');\n",
       "        const dataTable =\n",
       "          await google.colab.kernel.invokeFunction('convertToInteractive',\n",
       "                                                    [key], {});\n",
       "        if (!dataTable) return;\n",
       "\n",
       "        const docLinkHtml = 'Like what you see? Visit the ' +\n",
       "          '<a target=\"_blank\" href=https://colab.research.google.com/notebooks/data_table.ipynb>data table notebook</a>'\n",
       "          + ' to learn more about interactive tables.';\n",
       "        element.innerHTML = '';\n",
       "        dataTable['output_type'] = 'display_data';\n",
       "        await google.colab.output.renderOutput(dataTable, element);\n",
       "        const docLink = document.createElement('div');\n",
       "        docLink.innerHTML = docLinkHtml;\n",
       "        element.appendChild(docLink);\n",
       "      }\n",
       "    </script>\n",
       "  </div>\n",
       "\n",
       "\n",
       "<div id=\"df-6cbabb5a-588b-4340-b3c8-4b37260047cb\">\n",
       "  <button class=\"colab-df-quickchart\" onclick=\"quickchart('df-6cbabb5a-588b-4340-b3c8-4b37260047cb')\"\n",
       "            title=\"Suggest charts\"\n",
       "            style=\"display:none;\">\n",
       "\n",
       "<svg xmlns=\"http://www.w3.org/2000/svg\" height=\"24px\"viewBox=\"0 0 24 24\"\n",
       "     width=\"24px\">\n",
       "    <g>\n",
       "        <path d=\"M19 3H5c-1.1 0-2 .9-2 2v14c0 1.1.9 2 2 2h14c1.1 0 2-.9 2-2V5c0-1.1-.9-2-2-2zM9 17H7v-7h2v7zm4 0h-2V7h2v10zm4 0h-2v-4h2v4z\"/>\n",
       "    </g>\n",
       "</svg>\n",
       "  </button>\n",
       "\n",
       "<style>\n",
       "  .colab-df-quickchart {\n",
       "      --bg-color: #E8F0FE;\n",
       "      --fill-color: #1967D2;\n",
       "      --hover-bg-color: #E2EBFA;\n",
       "      --hover-fill-color: #174EA6;\n",
       "      --disabled-fill-color: #AAA;\n",
       "      --disabled-bg-color: #DDD;\n",
       "  }\n",
       "\n",
       "  [theme=dark] .colab-df-quickchart {\n",
       "      --bg-color: #3B4455;\n",
       "      --fill-color: #D2E3FC;\n",
       "      --hover-bg-color: #434B5C;\n",
       "      --hover-fill-color: #FFFFFF;\n",
       "      --disabled-bg-color: #3B4455;\n",
       "      --disabled-fill-color: #666;\n",
       "  }\n",
       "\n",
       "  .colab-df-quickchart {\n",
       "    background-color: var(--bg-color);\n",
       "    border: none;\n",
       "    border-radius: 50%;\n",
       "    cursor: pointer;\n",
       "    display: none;\n",
       "    fill: var(--fill-color);\n",
       "    height: 32px;\n",
       "    padding: 0;\n",
       "    width: 32px;\n",
       "  }\n",
       "\n",
       "  .colab-df-quickchart:hover {\n",
       "    background-color: var(--hover-bg-color);\n",
       "    box-shadow: 0 1px 2px rgba(60, 64, 67, 0.3), 0 1px 3px 1px rgba(60, 64, 67, 0.15);\n",
       "    fill: var(--button-hover-fill-color);\n",
       "  }\n",
       "\n",
       "  .colab-df-quickchart-complete:disabled,\n",
       "  .colab-df-quickchart-complete:disabled:hover {\n",
       "    background-color: var(--disabled-bg-color);\n",
       "    fill: var(--disabled-fill-color);\n",
       "    box-shadow: none;\n",
       "  }\n",
       "\n",
       "  .colab-df-spinner {\n",
       "    border: 2px solid var(--fill-color);\n",
       "    border-color: transparent;\n",
       "    border-bottom-color: var(--fill-color);\n",
       "    animation:\n",
       "      spin 1s steps(1) infinite;\n",
       "  }\n",
       "\n",
       "  @keyframes spin {\n",
       "    0% {\n",
       "      border-color: transparent;\n",
       "      border-bottom-color: var(--fill-color);\n",
       "      border-left-color: var(--fill-color);\n",
       "    }\n",
       "    20% {\n",
       "      border-color: transparent;\n",
       "      border-left-color: var(--fill-color);\n",
       "      border-top-color: var(--fill-color);\n",
       "    }\n",
       "    30% {\n",
       "      border-color: transparent;\n",
       "      border-left-color: var(--fill-color);\n",
       "      border-top-color: var(--fill-color);\n",
       "      border-right-color: var(--fill-color);\n",
       "    }\n",
       "    40% {\n",
       "      border-color: transparent;\n",
       "      border-right-color: var(--fill-color);\n",
       "      border-top-color: var(--fill-color);\n",
       "    }\n",
       "    60% {\n",
       "      border-color: transparent;\n",
       "      border-right-color: var(--fill-color);\n",
       "    }\n",
       "    80% {\n",
       "      border-color: transparent;\n",
       "      border-right-color: var(--fill-color);\n",
       "      border-bottom-color: var(--fill-color);\n",
       "    }\n",
       "    90% {\n",
       "      border-color: transparent;\n",
       "      border-bottom-color: var(--fill-color);\n",
       "    }\n",
       "  }\n",
       "</style>\n",
       "\n",
       "  <script>\n",
       "    async function quickchart(key) {\n",
       "      const quickchartButtonEl =\n",
       "        document.querySelector('#' + key + ' button');\n",
       "      quickchartButtonEl.disabled = true;  // To prevent multiple clicks.\n",
       "      quickchartButtonEl.classList.add('colab-df-spinner');\n",
       "      try {\n",
       "        const charts = await google.colab.kernel.invokeFunction(\n",
       "            'suggestCharts', [key], {});\n",
       "      } catch (error) {\n",
       "        console.error('Error during call to suggestCharts:', error);\n",
       "      }\n",
       "      quickchartButtonEl.classList.remove('colab-df-spinner');\n",
       "      quickchartButtonEl.classList.add('colab-df-quickchart-complete');\n",
       "    }\n",
       "    (() => {\n",
       "      let quickchartButtonEl =\n",
       "        document.querySelector('#df-6cbabb5a-588b-4340-b3c8-4b37260047cb button');\n",
       "      quickchartButtonEl.style.display =\n",
       "        google.colab.kernel.accessAllowed ? 'block' : 'none';\n",
       "    })();\n",
       "  </script>\n",
       "</div>\n",
       "    </div>\n",
       "  </div>\n"
      ],
      "text/plain": [
       "   pixel0  pixel1  pixel2  pixel3  pixel4  pixel5  pixel6  pixel7  pixel8  \\\n",
       "0       0       0       0       0       0       0       0       0       0   \n",
       "1       0       0       0       0       0       0       0       0       0   \n",
       "2       0       0       0       0       0       0       0       0       0   \n",
       "3       0       0       0       0       0       0       0       0       0   \n",
       "4       0       0       0       0       0       0       0       0       0   \n",
       "\n",
       "   pixel9  pixel10  pixel11  pixel12  pixel13  pixel14  pixel15  pixel16  \\\n",
       "0       0        0        0        0        0        0        0        0   \n",
       "1       0        0        0        0        0        0        0        0   \n",
       "2       0        0        0        0        0        0        0        0   \n",
       "3       0        0        0        0        0        0        0        0   \n",
       "4       0        0        0        0        0        0        0        0   \n",
       "\n",
       "   pixel17  pixel18  pixel19  pixel20  pixel21  pixel22  pixel23  pixel24  \\\n",
       "0        0        0        0        0        0        0        0        0   \n",
       "1        0        0        0        0        0        0        0        0   \n",
       "2        0        0        0        0        0        0        0        0   \n",
       "3        0        0        0        0        0        0        0        0   \n",
       "4        0        0        0        0        0        0        0        0   \n",
       "\n",
       "   pixel25  pixel26  pixel27  pixel28  pixel29  pixel30  pixel31  pixel32  \\\n",
       "0        0        0        0        0        0        0        0        0   \n",
       "1        0        0        0        0        0        0        0        0   \n",
       "2        0        0        0        0        0        0        0        0   \n",
       "3        0        0        0        0        0        0        0        0   \n",
       "4        0        0        0        0        0        0        0        0   \n",
       "\n",
       "   pixel33  pixel34  pixel35  pixel36  pixel37  pixel38  pixel39  pixel40  \\\n",
       "0        0        0        0        0        0        0        0        0   \n",
       "1        0        0        0        0        0        0        0        0   \n",
       "2        0        0        0        0        0        0        0        0   \n",
       "3        0        0        0        0        0        0        0        0   \n",
       "4        0        0        0        0        0        0        0        0   \n",
       "\n",
       "   pixel41  pixel42  pixel43  pixel44  pixel45  pixel46  pixel47  pixel48  \\\n",
       "0        0        0        0        0        0        0        0        0   \n",
       "1        0        0        0        0        0        0        0        0   \n",
       "2        0        0        0        0        0        0        0        0   \n",
       "3        0        0        0        0        0        0        0        0   \n",
       "4        0        0        0        0        0        0        0        0   \n",
       "\n",
       "   pixel49  ...  pixel734  pixel735  pixel736  pixel737  pixel738  pixel739  \\\n",
       "0        0  ...         0         0         0         0         0         0   \n",
       "1        0  ...         0         0         0         0         0         0   \n",
       "2        0  ...         0         0         0         0         0         0   \n",
       "3        0  ...         0         0         0         0         0         0   \n",
       "4        0  ...         0         0         0         0         0         0   \n",
       "\n",
       "   pixel740  pixel741  pixel742  pixel743  pixel744  pixel745  pixel746  \\\n",
       "0         0         0         0         0         0         0         0   \n",
       "1         0         0         0         0         0         0         0   \n",
       "2         0         0         0         0         0         0         0   \n",
       "3         0         0         0         0         0         0         0   \n",
       "4         0         0         0         0         0         0         0   \n",
       "\n",
       "   pixel747  pixel748  pixel749  pixel750  pixel751  pixel752  pixel753  \\\n",
       "0         0         0         0         0         0         0         0   \n",
       "1         0         0         0         0         0         0         0   \n",
       "2         0         0         0         0         0         0         0   \n",
       "3         0         0         0         0         0         0         0   \n",
       "4         0         0         0         0         0         0         0   \n",
       "\n",
       "   pixel754  pixel755  pixel756  pixel757  pixel758  pixel759  pixel760  \\\n",
       "0         0         0         0         0         0         0         0   \n",
       "1         0         0         0         0         0         0         0   \n",
       "2         0         0         0         0         0         0         0   \n",
       "3         0         0         0         0         0         0         0   \n",
       "4         0         0         0         0         0         0         0   \n",
       "\n",
       "   pixel761  pixel762  pixel763  pixel764  pixel765  pixel766  pixel767  \\\n",
       "0         0         0         0         0         0         0         0   \n",
       "1         0         0         0         0         0         0         0   \n",
       "2         0         0         0         0         0         0         0   \n",
       "3         0         0         0         0         0         0         0   \n",
       "4         0         0         0         0         0         0         0   \n",
       "\n",
       "   pixel768  pixel769  pixel770  pixel771  pixel772  pixel773  pixel774  \\\n",
       "0         0         0         0         0         0         0         0   \n",
       "1         0         0         0         0         0         0         0   \n",
       "2         0         0         0         0         0         0         0   \n",
       "3         0         0         0         0         0         0         0   \n",
       "4         0         0         0         0         0         0         0   \n",
       "\n",
       "   pixel775  pixel776  pixel777  pixel778  pixel779  pixel780  pixel781  \\\n",
       "0         0         0         0         0         0         0         0   \n",
       "1         0         0         0         0         0         0         0   \n",
       "2         0         0         0         0         0         0         0   \n",
       "3         0         0         0         0         0         0         0   \n",
       "4         0         0         0         0         0         0         0   \n",
       "\n",
       "   pixel782  pixel783  \n",
       "0         0         0  \n",
       "1         0         0  \n",
       "2         0         0  \n",
       "3         0         0  \n",
       "4         0         0  \n",
       "\n",
       "[5 rows x 784 columns]"
      ]
     },
     "execution_count": 7,
     "metadata": {},
     "output_type": "execute_result"
    }
   ],
   "source": [
    "X_train.head()"
   ]
  },
  {
   "cell_type": "markdown",
   "metadata": {
    "id": "Kekmb7dl3Osl"
   },
   "source": [
    "Размерность данных:"
   ]
  },
  {
   "cell_type": "code",
   "execution_count": 8,
   "metadata": {
    "colab": {
     "base_uri": "https://localhost:8080/"
    },
    "id": "PyuHy-1F3L_q",
    "outputId": "4454b989-3099-4350-b914-fc40650576ed"
   },
   "outputs": [
    {
     "name": "stdout",
     "output_type": "stream",
     "text": [
      "X_train: (42000, 784)\n",
      "y:       (42000,)\n",
      "X_test:  (28000, 784)\n"
     ]
    }
   ],
   "source": [
    "print(f'X_train: {X_train.shape}\\ny:       {y.shape}\\nX_test:  {X_test.shape}')"
   ]
  },
  {
   "cell_type": "markdown",
   "metadata": {
    "id": "NOvYyS7J3S4q"
   },
   "source": [
    "Сколько обучающих примеров для различных цифр представлено:"
   ]
  },
  {
   "cell_type": "code",
   "execution_count": 9,
   "metadata": {
    "colab": {
     "base_uri": "https://localhost:8080/",
     "height": 260
    },
    "id": "wKeozLtD3Qeg",
    "outputId": "060c2317-0893-4bf9-8c1e-6d5980d1508f"
   },
   "outputs": [
    {
     "data": {
      "image/png": "[encoded data removed]",
      "text/plain": [
       "<Figure size 760x240 with 1 Axes>"
      ]
     },
     "metadata": {
      "image/png": {
       "height": 243,
       "width": 652
      }
     },
     "output_type": "display_data"
    }
   ],
   "source": [
    "ax = subplots(figsize=(9.5, 3))[1]\n",
    "ax = y.value_counts().sort_index().plot.bar()\n",
    "ax.set_xticklabels(np.arange(0, 10, 1), rotation=0)\n",
    "ax.set_xlabel('Число');"
   ]
  },
  {
   "cell_type": "markdown",
   "metadata": {
    "id": "pxBsSRHz3XUK"
   },
   "source": [
    "Что из себя представляют строки `X_train`:"
   ]
  },
  {
   "cell_type": "code",
   "execution_count": 10,
   "metadata": {
    "colab": {
     "base_uri": "https://localhost:8080/",
     "height": 328
    },
    "id": "Uk7I4NlN3Ui-",
    "outputId": "22242350-a5eb-475c-8854-8b8f39e78c5c"
   },
   "outputs": [
    {
     "data": {
      "image/png": "[encoded data removed]",
      "text/plain": [
       "<Figure size 512x384 with 1 Axes>"
      ]
     },
     "metadata": {
      "image/png": {
       "height": 311,
       "width": 311
      }
     },
     "output_type": "display_data"
    }
   ],
   "source": [
    "digit = X_train.iloc[27]\n",
    "digit_array = np.array(digit).reshape(28, 28)\n",
    "\n",
    "plt.imshow(digit_array, cmap='binary')\n",
    "plt.axis('off')\n",
    "plt.show()"
   ]
  },
  {
   "cell_type": "markdown",
   "metadata": {
    "id": "j5-247Cz3aui"
   },
   "source": [
    "## 3. Предобработка данных"
   ]
  },
  {
   "cell_type": "markdown",
   "metadata": {
    "id": "W6cmWZWt3ffi"
   },
   "source": [
    "Увеличим размерность `X_test`: создадим функцию, которая для каждого примера из обучающей выборки создает 4 дополнительных — сдвинутых на несколько пикселей в каждую сторону:"
   ]
  },
  {
   "cell_type": "code",
   "execution_count": 12,
   "metadata": {
    "id": "lVmCFUP33ewe"
   },
   "outputs": [],
   "source": [
    "def shift_digit(digit_array, dx, dy):\n",
    "    '''\n",
    "    Функция принимает массив-список значений пикселей и возвращает\n",
    "    новый массив, сдвинутый на значения dx и dy\n",
    "    '''\n",
    "    return shift(digit_array.reshape(28, 28), [dy, dx]).reshape(784)"
   ]
  },
  {
   "cell_type": "markdown",
   "metadata": {
    "id": "kWP__8He3jf6"
   },
   "source": [
    "Проверим работу функции:"
   ]
  },
  {
   "cell_type": "code",
   "execution_count": 13,
   "metadata": {
    "colab": {
     "base_uri": "https://localhost:8080/",
     "height": 328
    },
    "id": "1MItVIWk3hvm",
    "outputId": "38a221ed-3ff1-41cd-b46c-3e1923f6b982"
   },
   "outputs": [
    {
     "data": {
      "image/png": "[encoded data removed]",
      "text/plain": [
       "<Figure size 512x384 with 1 Axes>"
      ]
     },
     "metadata": {
      "image/png": {
       "height": 311,
       "width": 311
      }
     },
     "output_type": "display_data"
    }
   ],
   "source": [
    "plt.imshow(shift_digit(np.array(digit), -3, 5).reshape(28, 28), cmap='binary')\n",
    "plt.axis('off')\n",
    "plt.show()"
   ]
  },
  {
   "cell_type": "markdown",
   "metadata": {
    "id": "K6UJeJSD3nSg"
   },
   "source": [
    "Создадим расширенный датафрейм `X_exp` с результатами применения функции `get_shift`:"
   ]
  },
  {
   "cell_type": "code",
   "execution_count": 14,
   "metadata": {
    "colab": {
     "base_uri": "https://localhost:8080/"
    },
    "id": "uW8Vx7UM3k-t",
    "outputId": "3ae2b452-98b2-4e3d-8544-96896cf5c089"
   },
   "outputs": [
    {
     "name": "stdout",
     "output_type": "stream",
     "text": [
      "X_exp: (210000, 784)\n",
      "y_exp: (210000,)\n"
     ]
    }
   ],
   "source": [
    "X_exp = [X_train]\n",
    "y_exp = [y]\n",
    "\n",
    "for dx, dy in ((1, 0), (-1, 0), (0, 1), (0, -1)):\n",
    "\n",
    "    shifted_images = np.apply_along_axis(shift_digit, axis=1, arr=X_train,\n",
    "                                         dx=dx, dy=dy)\n",
    "    X_exp.append(shifted_images)\n",
    "    y_exp.append(y)\n",
    "\n",
    "X_exp = np.concatenate(X_exp)\n",
    "y_exp = np.concatenate(y_exp)\n",
    "\n",
    "# Проверим размерности\n",
    "print(f'X_exp: {X_exp.shape}\\ny_exp: {y_exp.shape}')"
   ]
  },
  {
   "cell_type": "markdown",
   "metadata": {
    "id": "GDOQ2SLe3t63"
   },
   "source": [
    "Обработаем значения `X_train`, `X_test` и `X_exp` с помощью `MinMaxScaler`:"
   ]
  },
  {
   "cell_type": "code",
   "execution_count": 15,
   "metadata": {
    "id": "YYlNsK6K3oyV"
   },
   "outputs": [],
   "source": [
    "scaler = MinMaxScaler()\n",
    "X_train = scaler.fit_transform(X_train)\n",
    "X_test = scaler.fit_transform(X_test)\n",
    "X_exp = scaler.fit_transform(X_exp)"
   ]
  },
  {
   "cell_type": "markdown",
   "metadata": {
    "id": "621IBsIz7Pvt"
   },
   "source": [
    "Изменим размерность обучающих и тестовых примеров:"
   ]
  },
  {
   "cell_type": "code",
   "execution_count": 20,
   "metadata": {
    "colab": {
     "base_uri": "https://localhost:8080/"
    },
    "id": "te9noEs437Dv",
    "outputId": "bfbc4435-11d0-40fc-a1f2-da6bbcce0630"
   },
   "outputs": [
    {
     "name": "stdout",
     "output_type": "stream",
     "text": [
      "X_exp: (210000, 28, 28, 1)\n",
      "X_test: (28000, 28, 28, 1)\n"
     ]
    }
   ],
   "source": [
    "X_exp = X_exp.reshape((X_exp.shape[0], 28, 28, 1))\n",
    "X_test = X_test.reshape((X_test.shape[0], 28, 28, 1))\n",
    "\n",
    "# Проверим размерности\n",
    "print(f'X_exp: {X_exp.shape}\\nX_test: {X_test.shape}')"
   ]
  },
  {
   "cell_type": "markdown",
   "metadata": {
    "id": "-oYlu_Di7ocw"
   },
   "source": [
    "Преобразуем `y_exp` с помощью One-Hot-Encoding:"
   ]
  },
  {
   "cell_type": "code",
   "execution_count": 23,
   "metadata": {
    "colab": {
     "base_uri": "https://localhost:8080/"
    },
    "id": "M6RxoKNb7nHA",
    "outputId": "9f888799-0232-42f5-cc32-2573d99c7c24"
   },
   "outputs": [
    {
     "data": {
      "text/plain": [
       "array([[0., 1., 0., ..., 0., 0., 0.],\n",
       "       [1., 0., 0., ..., 0., 0., 0.],\n",
       "       [0., 1., 0., ..., 0., 0., 0.],\n",
       "       ...,\n",
       "       [0., 0., 0., ..., 1., 0., 0.],\n",
       "       [0., 0., 0., ..., 0., 0., 0.],\n",
       "       [0., 0., 0., ..., 0., 0., 1.]], dtype=float32)"
      ]
     },
     "execution_count": 23,
     "metadata": {},
     "output_type": "execute_result"
    }
   ],
   "source": [
    "y_exp = to_categorical(y_exp, num_classes=10)\n",
    "y_exp"
   ]
  },
  {
   "cell_type": "markdown",
   "metadata": {
    "id": "3qgog5UZ96e5"
   },
   "source": [
    "Разделим `X_exp`, `y_exp` на выборки для обучения и валидации:"
   ]
  },
  {
   "cell_type": "code",
   "execution_count": 27,
   "metadata": {
    "id": "vHaAeq007bvc"
   },
   "outputs": [],
   "source": [
    "X_train, X_val, y_train, y_val = train_test_split(X_exp, y_exp, test_size = 0.1)"
   ]
  },
  {
   "cell_type": "markdown",
   "metadata": {
    "id": "iD89A5W9-L0N"
   },
   "source": [
    "## 4. Создаем нейронную сеть"
   ]
  },
  {
   "cell_type": "markdown",
   "metadata": {
    "id": "ygCBoS3U-tz2"
   },
   "source": [
    "Создаем модель:"
   ]
  },
  {
   "cell_type": "code",
   "execution_count": 42,
   "metadata": {
    "id": "EZ86Htif-I8u"
   },
   "outputs": [],
   "source": [
    "model = Sequential([\n",
    "    Conv2D(6, kernel_size=(5, 5), activation='relu', padding='same', input_shape = (28, 28, 1)),\n",
    "    BatchNormalization(),\n",
    "    MaxPool2D(pool_size=(2, 2)),\n",
    "    Dropout(0.2),\n",
    "\n",
    "    Conv2D(16, kernel_size=(5, 5), activation='relu', padding='same'),\n",
    "    BatchNormalization(),\n",
    "    MaxPool2D(pool_size=(2, 2)),\n",
    "    Dropout(0.2),\n",
    "\n",
    "    Flatten(),\n",
    "    Dense(120, activation='relu'),\n",
    "    Dense(84, activation='relu'),\n",
    "    Dense(10, activation='softmax')\n",
    "])"
   ]
  },
  {
   "cell_type": "code",
   "execution_count": 43,
   "metadata": {
    "colab": {
     "base_uri": "https://localhost:8080/"
    },
    "id": "YhFLHDGeB-u4",
    "outputId": "b20e8845-63f8-43ff-d8a3-a05058a6c390"
   },
   "outputs": [
    {
     "name": "stdout",
     "output_type": "stream",
     "text": [
      "Model: \"sequential_3\"\n",
      "_________________________________________________________________\n",
      " Layer (type)                Output Shape              Param #   \n",
      "=================================================================\n",
      " conv2d_12 (Conv2D)          (None, 28, 28, 6)         156       \n",
      "                                                                 \n",
      " batch_normalization_12 (Ba  (None, 28, 28, 6)         24        \n",
      " tchNormalization)                                               \n",
      "                                                                 \n",
      " max_pooling2d_6 (MaxPoolin  (None, 14, 14, 6)         0         \n",
      " g2D)                                                            \n",
      "                                                                 \n",
      " dropout_10 (Dropout)        (None, 14, 14, 6)         0         \n",
      "                                                                 \n",
      " conv2d_13 (Conv2D)          (None, 14, 14, 16)        2416      \n",
      "                                                                 \n",
      " batch_normalization_13 (Ba  (None, 14, 14, 16)        64        \n",
      " tchNormalization)                                               \n",
      "                                                                 \n",
      " max_pooling2d_7 (MaxPoolin  (None, 7, 7, 16)          0         \n",
      " g2D)                                                            \n",
      "                                                                 \n",
      " dropout_11 (Dropout)        (None, 7, 7, 16)          0         \n",
      "                                                                 \n",
      " flatten_3 (Flatten)         (None, 784)               0         \n",
      "                                                                 \n",
      " dense_7 (Dense)             (None, 120)               94200     \n",
      "                                                                 \n",
      " dense_8 (Dense)             (None, 84)                10164     \n",
      "                                                                 \n",
      " dense_9 (Dense)             (None, 10)                850       \n",
      "                                                                 \n",
      "=================================================================\n",
      "Total params: 107874 (421.38 KB)\n",
      "Trainable params: 107830 (421.21 KB)\n",
      "Non-trainable params: 44 (176.00 Byte)\n",
      "_________________________________________________________________\n"
     ]
    }
   ],
   "source": [
    "model.summary()"
   ]
  },
  {
   "cell_type": "markdown",
   "metadata": {
    "id": "IB_Vb2XlB4eJ"
   },
   "source": [
    "Compile и Fit:"
   ]
  },
  {
   "cell_type": "code",
   "execution_count": 44,
   "metadata": {
    "id": "kviwsuCbB1OU"
   },
   "outputs": [],
   "source": [
    "model.compile(optimizer='adam',\n",
    "              loss='categorical_crossentropy',\n",
    "              metrics=['accuracy'])"
   ]
  },
  {
   "cell_type": "code",
   "execution_count": 45,
   "metadata": {
    "colab": {
     "base_uri": "https://localhost:8080/"
    },
    "id": "r3gw7DPDDM9M",
    "outputId": "d5caa042-6aee-4435-c553-3bcf4eaf8cf7"
   },
   "outputs": [
    {
     "name": "stdout",
     "output_type": "stream",
     "text": [
      "Epoch 1/30\n",
      "2198/2198 - 155s - loss: 0.1287 - accuracy: 0.9593 - val_loss: 0.0410 - val_accuracy: 0.9875 - 155s/epoch - 71ms/step\n",
      "Epoch 2/30\n",
      "2198/2198 - 150s - loss: 0.0511 - accuracy: 0.9837 - val_loss: 0.0286 - val_accuracy: 0.9916 - 150s/epoch - 68ms/step\n",
      "Epoch 3/30\n",
      "2198/2198 - 151s - loss: 0.0394 - accuracy: 0.9875 - val_loss: 0.0215 - val_accuracy: 0.9932 - 151s/epoch - 69ms/step\n",
      "Epoch 4/30\n",
      "2198/2198 - 151s - loss: 0.0331 - accuracy: 0.9892 - val_loss: 0.0178 - val_accuracy: 0.9940 - 151s/epoch - 69ms/step\n",
      "Epoch 5/30\n",
      "2198/2198 - 150s - loss: 0.0281 - accuracy: 0.9909 - val_loss: 0.0234 - val_accuracy: 0.9926 - 150s/epoch - 68ms/step\n",
      "Epoch 6/30\n",
      "2198/2198 - 154s - loss: 0.0242 - accuracy: 0.9922 - val_loss: 0.0160 - val_accuracy: 0.9949 - 154s/epoch - 70ms/step\n",
      "Epoch 7/30\n",
      "2198/2198 - 150s - loss: 0.0219 - accuracy: 0.9928 - val_loss: 0.0149 - val_accuracy: 0.9953 - 150s/epoch - 68ms/step\n",
      "Epoch 8/30\n",
      "2198/2198 - 159s - loss: 0.0202 - accuracy: 0.9932 - val_loss: 0.0123 - val_accuracy: 0.9962 - 159s/epoch - 73ms/step\n",
      "Epoch 9/30\n",
      "2198/2198 - 151s - loss: 0.0190 - accuracy: 0.9934 - val_loss: 0.0159 - val_accuracy: 0.9953 - 151s/epoch - 69ms/step\n",
      "Epoch 10/30\n",
      "2198/2198 - 150s - loss: 0.0180 - accuracy: 0.9940 - val_loss: 0.0135 - val_accuracy: 0.9963 - 150s/epoch - 68ms/step\n",
      "Epoch 11/30\n",
      "2198/2198 - 149s - loss: 0.0171 - accuracy: 0.9943 - val_loss: 0.0141 - val_accuracy: 0.9957 - 149s/epoch - 68ms/step\n",
      "Epoch 12/30\n",
      "2198/2198 - 149s - loss: 0.0157 - accuracy: 0.9948 - val_loss: 0.0149 - val_accuracy: 0.9953 - 149s/epoch - 68ms/step\n",
      "Epoch 13/30\n",
      "2198/2198 - 150s - loss: 0.0151 - accuracy: 0.9952 - val_loss: 0.0124 - val_accuracy: 0.9960 - 150s/epoch - 68ms/step\n",
      "Epoch 14/30\n",
      "2198/2198 - 154s - loss: 0.0145 - accuracy: 0.9952 - val_loss: 0.0106 - val_accuracy: 0.9966 - 154s/epoch - 70ms/step\n",
      "Epoch 15/30\n",
      "2198/2198 - 155s - loss: 0.0139 - accuracy: 0.9954 - val_loss: 0.0118 - val_accuracy: 0.9965 - 155s/epoch - 71ms/step\n",
      "Epoch 16/30\n",
      "2198/2198 - 149s - loss: 0.0137 - accuracy: 0.9954 - val_loss: 0.0093 - val_accuracy: 0.9967 - 149s/epoch - 68ms/step\n",
      "Epoch 17/30\n",
      "2198/2198 - 149s - loss: 0.0122 - accuracy: 0.9959 - val_loss: 0.0086 - val_accuracy: 0.9975 - 149s/epoch - 68ms/step\n",
      "Epoch 18/30\n",
      "2198/2198 - 152s - loss: 0.0123 - accuracy: 0.9957 - val_loss: 0.0095 - val_accuracy: 0.9977 - 152s/epoch - 69ms/step\n",
      "Epoch 19/30\n",
      "2198/2198 - 150s - loss: 0.0120 - accuracy: 0.9960 - val_loss: 0.0089 - val_accuracy: 0.9973 - 150s/epoch - 68ms/step\n",
      "Epoch 20/30\n",
      "2198/2198 - 150s - loss: 0.0114 - accuracy: 0.9963 - val_loss: 0.0071 - val_accuracy: 0.9976 - 150s/epoch - 68ms/step\n",
      "Epoch 21/30\n",
      "2198/2198 - 147s - loss: 0.0103 - accuracy: 0.9965 - val_loss: 0.0090 - val_accuracy: 0.9972 - 147s/epoch - 67ms/step\n",
      "Epoch 22/30\n",
      "2198/2198 - 152s - loss: 0.0100 - accuracy: 0.9968 - val_loss: 0.0109 - val_accuracy: 0.9970 - 152s/epoch - 69ms/step\n",
      "Epoch 23/30\n",
      "2198/2198 - 156s - loss: 0.0107 - accuracy: 0.9964 - val_loss: 0.0076 - val_accuracy: 0.9977 - 156s/epoch - 71ms/step\n",
      "Epoch 24/30\n",
      "2198/2198 - 155s - loss: 0.0098 - accuracy: 0.9967 - val_loss: 0.0074 - val_accuracy: 0.9981 - 155s/epoch - 70ms/step\n",
      "Epoch 25/30\n",
      "2198/2198 - 150s - loss: 0.0088 - accuracy: 0.9969 - val_loss: 0.0122 - val_accuracy: 0.9968 - 150s/epoch - 68ms/step\n",
      "Epoch 26/30\n",
      "2198/2198 - 149s - loss: 0.0095 - accuracy: 0.9968 - val_loss: 0.0078 - val_accuracy: 0.9973 - 149s/epoch - 68ms/step\n",
      "Epoch 27/30\n",
      "2198/2198 - 161s - loss: 0.0090 - accuracy: 0.9969 - val_loss: 0.0110 - val_accuracy: 0.9971 - 161s/epoch - 73ms/step\n",
      "Epoch 28/30\n",
      "2198/2198 - 159s - loss: 0.0093 - accuracy: 0.9970 - val_loss: 0.0072 - val_accuracy: 0.9977 - 159s/epoch - 72ms/step\n",
      "Epoch 29/30\n",
      "2198/2198 - 161s - loss: 0.0085 - accuracy: 0.9972 - val_loss: 0.0062 - val_accuracy: 0.9983 - 161s/epoch - 73ms/step\n",
      "Epoch 30/30\n",
      "2198/2198 - 159s - loss: 0.0079 - accuracy: 0.9974 - val_loss: 0.0080 - val_accuracy: 0.9972 - 159s/epoch - 72ms/step\n"
     ]
    }
   ],
   "source": [
    "history = model.fit(X_train, y_train, batch_size=86, epochs=30,\n",
    "                    validation_data=(X_val, y_val), verbose=2)"
   ]
  },
  {
   "cell_type": "markdown",
   "metadata": {
    "id": "KKgE7QEWEv_D"
   },
   "source": [
    "Визуализируем результаты обучения:"
   ]
  },
  {
   "cell_type": "code",
   "execution_count": 46,
   "metadata": {
    "colab": {
     "base_uri": "https://localhost:8080/",
     "height": 425
    },
    "id": "2HIc6VbBEGHU",
    "outputId": "ed1a0ed8-7e18-4d01-b16b-ddae9658eb7f"
   },
   "outputs": [
    {
     "data": {
      "image/png": "[encoded data removed]",
      "text/plain": [
       "<Figure size 760x480 with 2 Axes>"
      ]
     },
     "metadata": {
      "image/png": {
       "height": 408,
       "width": 648
      }
     },
     "output_type": "display_data"
    }
   ],
   "source": [
    "fig, axes = subplots(figsize=(9.5, 6), nrows=2)\n",
    "\n",
    "axes[0].plot(history.history['loss'], label='Ошибка на Training Set')\n",
    "axes[0].plot(history.history['val_loss'], label='Ошибка на Validation Set')\n",
    "axes[0].legend()\n",
    "\n",
    "axes[1].plot(history.history['accuracy'], label='Accuracy на Training Set')\n",
    "axes[1].plot(history.history['val_accuracy'], label='Accuracy на Validation Set')\n",
    "axes[1].legend();"
   ]
  },
  {
   "cell_type": "markdown",
   "metadata": {
    "id": "Gp2KdxIcKdmh"
   },
   "source": [
    "Проведем анализ ошибок — для этого построим Confusion Matrix:"
   ]
  },
  {
   "cell_type": "code",
   "execution_count": 49,
   "metadata": {
    "colab": {
     "base_uri": "https://localhost:8080/",
     "height": 366
    },
    "id": "D0Cl46g8KkJt",
    "outputId": "528f85f4-e851-48c6-c918-0e662eb0af81"
   },
   "outputs": [
    {
     "name": "stdout",
     "output_type": "stream",
     "text": [
      "657/657 [==============================] - 7s 10ms/step\n"
     ]
    },
    {
     "data": {
      "image/png": "[encoded data removed]",
      "text/plain": [
       "<Figure size 760x384 with 2 Axes>"
      ]
     },
     "metadata": {
      "image/png": {
       "height": 331,
       "width": 418
      }
     },
     "output_type": "display_data"
    }
   ],
   "source": [
    "# Предсказания\n",
    "y_pred = model.predict(X_val)\n",
    "y_pred = np.argmax(y_pred, axis=1)\n",
    "y_true = np.argmax(y_val, axis=1)\n",
    "\n",
    "# Confusion Matrix\n",
    "conf_matrix = confusion_matrix(y_true, y_pred)\n",
    "\n",
    "# Визуализация\n",
    "ax = subplots(figsize=(9.5, 4.8))[1]\n",
    "sns.heatmap(conf_matrix, annot=True, ax=ax, cmap='coolwarm', square=True,\n",
    "            linewidths=0.002, linecolor='#B8C6CE');"
   ]
  },
  {
   "cell_type": "markdown",
   "metadata": {
    "id": "r6ytzZqeJHBM"
   },
   "source": [
    "Подготовим файл для участия в соревновании Kaggle:"
   ]
  },
  {
   "cell_type": "code",
   "execution_count": 53,
   "metadata": {
    "colab": {
     "base_uri": "https://localhost:8080/"
    },
    "id": "P_4wd1cYJQy7",
    "outputId": "0dde034d-eda9-4fed-b281-36889b915d9f"
   },
   "outputs": [
    {
     "name": "stdout",
     "output_type": "stream",
     "text": [
      "875/875 [==============================] - 9s 11ms/step\n"
     ]
    }
   ],
   "source": [
    "preds = model.predict(X_test)\n",
    "preds = np.argmax(preds, axis = 1)\n",
    "\n",
    "submission = pd.read_csv('https://drive.google.com/uc?id=1Ho3H1Fn6XyWuKCzPNE-Zj-TDcfMqPT0x&export=download')\n",
    "submission['Label'] = preds\n",
    "submission.to_csv('submission.csv', index=False)"
   ]
  },
  {
   "cell_type": "markdown",
   "metadata": {
    "id": "t1Tis30Ma5ry"
   },
   "source": [
    "Результат участия: Accuracy = 0.99239."
   ]
  },
  {
   "cell_type": "markdown",
   "metadata": {
    "id": "Fq18nKTSccBD"
   },
   "source": [
    "<img src=\"mnist.png\" alt=\"ext\"/>"
   ]
  },
  {
   "cell_type": "code",
   "execution_count": null,
   "metadata": {
    "id": "evh0e6JiceVm"
   },
   "outputs": [],
   "source": []
  }
 ],
 "metadata": {
  "colab": {
   "provenance": []
  },
  "kernelspec": {
   "display_name": "Python 3 (ipykernel)",
   "language": "python",
   "name": "python3"
  },
  "language_info": {
   "codemirror_mode": {
    "name": "ipython",
    "version": 3
   },
   "file_extension": ".py",
   "mimetype": "text/x-python",
   "name": "python",
   "nbconvert_exporter": "python",
   "pygments_lexer": "ipython3",
   "version": "3.10.10"
  }
 },
 "nbformat": 4,
 "nbformat_minor": 4
}
